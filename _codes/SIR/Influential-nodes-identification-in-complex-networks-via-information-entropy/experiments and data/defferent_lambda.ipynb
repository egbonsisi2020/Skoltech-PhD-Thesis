{
 "cells": [
  {
   "cell_type": "code",
   "execution_count": 1,
   "metadata": {
    "collapsed": true
   },
   "outputs": [],
   "source": [
    "import collections\n",
    "import networkx as nx\n",
    "import sys\n",
    "import os\n",
    "# dir_path = os.path.dirname(os.path.dirname(os.path.abspath(__file__)))\n",
    "# sys.path.append(dir_path)\n",
    "sys.path.append(r'c:\\\\Users\\\\rotim\\\\OneDrive\\\\Documents\\\\Reading\\\\graph-code\\\\Skoltech-PhD-Thesis\\\\_codes\\\\SIR\\\\Influential-nodes-identification-in-complex-networks-via-information-entropy')\n",
    "from algorithms import *\n",
    "import matplotlib.pyplot as plt\n",
    "import numpy as np\n",
    "from tqdm import tqdm\n",
    "import pickle"
   ]
  },
  {
   "cell_type": "code",
   "execution_count": 2,
   "metadata": {
    "collapsed": true
   },
   "outputs": [
    {
     "name": "stdout",
     "output_type": "stream",
     "text": [
      "{'ABILENE': {'index': 0, 'nodes': 11, 'edges': 14}, 'ABVT': {'index': 1, 'nodes': 23, 'edges': 31}, 'AGIS': {'index': 2, 'nodes': 25, 'edges': 30}, 'ARN.GRAPHML': {'index': 3, 'nodes': 30, 'edges': 29}, 'BELLCANADA': {'index': 4, 'nodes': 48, 'edges': 64}, 'BELLSOUTH.GRAPHML': {'index': 5, 'nodes': 51, 'edges': 66}, 'BICS.GRAPHML': {'index': 6, 'nodes': 33, 'edges': 48}, 'CERNET.GRAPHML': {'index': 7, 'nodes': 41, 'edges': 58}, 'CESNET200706.GRAPHML': {'index': 8, 'nodes': 44, 'edges': 51}, 'CHINANET.GRAPHML': {'index': 9, 'nodes': 42, 'edges': 66}, 'COGENTCO.GRAPHML': {'index': 10, 'nodes': 197, 'edges': 243}, 'COLT.GRAPHML': {'index': 11, 'nodes': 153, 'edges': 177}, 'DELTACOM.GRAPHML': {'index': 12, 'nodes': 113, 'edges': 161}, 'GARR201110.GRAPHML': {'index': 13, 'nodes': 59, 'edges': 74}, 'GEANT2001': {'index': 14, 'nodes': 27, 'edges': 38}, 'GRNET.GRAPHML': {'index': 15, 'nodes': 37, 'edges': 42}, 'INTELLIFIBER.GRAPHML': {'index': 16, 'nodes': 73, 'edges': 95}, 'INTEROUTE.GRAPHML': {'index': 17, 'nodes': 110, 'edges': 148}, 'ION.GRAPHML': {'index': 18, 'nodes': 125, 'edges': 146}, 'JANETBACKBONE.GRAPHML': {'index': 19, 'nodes': 29, 'edges': 45}, 'KDL': {'index': 20, 'nodes': 754, 'edges': 895}, 'LATNET.GRAPHML': {'index': 21, 'nodes': 69, 'edges': 74}, 'MISSOURI.GRAPHML': {'index': 22, 'nodes': 67, 'edges': 83}, 'NIIF.GRAPHML': {'index': 23, 'nodes': 36, 'edges': 41}, 'NOEL.GRAPHML': {'index': 24, 'nodes': 19, 'edges': 25}, 'PIONIERL3.GRAPHML': {'index': 25, 'nodes': 38, 'edges': 45}, 'REDIRIS.GRAPHML': {'index': 26, 'nodes': 19, 'edges': 31}, 'RENATER2010.GRAPHML': {'index': 27, 'nodes': 43, 'edges': 56}, 'RHNET.GRAPHML': {'index': 28, 'nodes': 16, 'edges': 18}, 'RNP.GRAPHML': {'index': 29, 'nodes': 31, 'edges': 34}, 'ROEDUNETFIBRE.GRAPHML': {'index': 30, 'nodes': 48, 'edges': 52}, 'SINET.GRAPHML': {'index': 31, 'nodes': 74, 'edges': 76}, 'SINGAREN.GRAPHML': {'index': 32, 'nodes': 11, 'edges': 10}, 'SPRINT': {'index': 33, 'nodes': 11, 'edges': 18}, 'SUNET.GRAPHML': {'index': 34, 'nodes': 26, 'edges': 32}, 'SURFNET.GRAPHML': {'index': 35, 'nodes': 50, 'edges': 68}, 'SWITCHL3.GRAPHML': {'index': 36, 'nodes': 42, 'edges': 63}, 'TATANLD.GRAPHML': {'index': 37, 'nodes': 145, 'edges': 186}, 'TINET.GRAPHML': {'index': 38, 'nodes': 53, 'edges': 89}, 'ULAKNET.GRAPHML': {'index': 39, 'nodes': 82, 'edges': 82}, 'UNINETT2010.GRAPHML': {'index': 40, 'nodes': 74, 'edges': 101}, 'USCARRIER': {'index': 41, 'nodes': 158, 'edges': 189}, 'USCARRIER.GRAPHML': {'index': 42, 'nodes': 158, 'edges': 189}, 'UUNET.GRAPHML': {'index': 43, 'nodes': 49, 'edges': 84}}\n"
     ]
    }
   ],
   "source": [
    "# data_file = 'topo' # 'HepPh'\n",
    "\n",
    "# G = clean_data(data_file)\n",
    "# print(nx.number_of_nodes(G), nx.number_of_edges(G))\n",
    "\n",
    "graph_collections, graph_name = read_graph(\"./test-graphs\")\n",
    "G = graph_collections[0]\n",
    "# print(graph_name)\n"
   ]
  },
  {
   "cell_type": "markdown",
   "metadata": {},
   "source": [
    "Our Model"
   ]
  },
  {
   "cell_type": "code",
   "execution_count": 41,
   "metadata": {},
   "outputs": [
    {
     "data": {
      "text/plain": [
       "[('7', 0.999028599121206),\n",
       " ('8', 0.9931467209871861),\n",
       " ('6', 0.7571798128170234),\n",
       " ('9', 0.7562986118582249),\n",
       " ('5', 0.7016084028819796),\n",
       " ('4', 0.5915030963200972),\n",
       " ('10', 0.5603575276295959)]"
      ]
     },
     "execution_count": 41,
     "metadata": {},
     "output_type": "execute_result"
    }
   ],
   "source": [
    "# geo_loc_data = get_geo_data(\"Internet2LatLong.csv\")\n",
    "geo_loc_data = {k: {\"lat\": v.get('Latitude', 0), \"long\": v.get('Longitude', 0)}\n",
    "                for (k, v) in G.nodes(data=True)}\n",
    "# print(geo_loc_data)\n",
    "edge_geo_data_combined = assign_location(G, geo_loc_data)\n",
    "# set edge attributes\n",
    "set_edge_attr(G, edge_geo_data_combined)\n",
    "# obtain the node degrees and edges weights to desired lengths\n",
    "tmp_t = list(range(1, 5))\n",
    "tmp_t_SN, tmp_t_hub = hubs_SN_NS(G, tmp_t)\n",
    "G = graph_collections[0]\n",
    "combined_dict, combined_dict_k_2 = varying_examples(tmp_t_SN[0][1], tmp_t_hub[1][2])\n",
    "\n",
    "# Get ranked result\n",
    "opti_rank, ranked_nodes = rank_result(combined_dict, combined_dict_k_2)\n",
    "# print()\n",
    "opti_rank\n"
   ]
  },
  {
   "cell_type": "code",
   "execution_count": 42,
   "metadata": {},
   "outputs": [],
   "source": [
    "geo_loc_data_all = {i: {k: {\"lat\": v.get('Latitude', 0), \"long\": v.get('Longitude', 0)}\n",
    "     for (k, v) in g.nodes(data=True)} for i, g in zip(graph_name, graph_collections)}\n",
    "geo_loc_data_all\n",
    "edge_geo_data_combined_all = {k: assign_location(g, v) for (k, v), g in zip(geo_loc_data_all.items(), graph_collections)}\n",
    "# print(edge_geo_data_combined_all)\n",
    "[set_edge_attr(g, v[1]) for (v ,g) in zip(edge_geo_data_combined_all.items(), graph_collections)]\n",
    "\n",
    "tmp_t = list(range(1, 3))\n",
    "combi_ = {k: hubs_SN_NS(g, tmp_t) for g,k in zip(graph_collections, graph_name)}\n",
    "# combi_[\"ABILENE\"]\n",
    "all_ranks = {k: [rank_result(*varying_examples(v_[0][1], v_[1][2])) for v_ in v]\n",
    " for k, v in combi_.items()}\n",
    "# edge_geo_data_combined_all\n",
    "# all_ranks\n"
   ]
  },
  {
   "cell_type": "code",
   "execution_count": 25,
   "metadata": {},
   "outputs": [],
   "source": [
    "# summary_stat = {k: {\"Graph\": k,\n",
    "#     \"nodes\": nx.number_of_nodes(f), \n",
    "#     \"egdes\": nx.number_of_edges(f), \n",
    "#     \"density\": nx.density(f), \n",
    "#     \"diameter\": nx.diameter(f),\n",
    "#     \"transitivity\": nx.transitivity(f),\n",
    "#     \"average path length\": nx.average_shortest_path_length(f),\n",
    "#     \"average degree\": sum([d for (n, d) in nx.degree(f)]) / float(f.number_of_nodes()),\n",
    "#     \"average weighted degree\": sum([q[1] for q in list(f.degree(weight='weight'))])/float(f.number_of_nodes()),\n",
    "#     \"optimal ranks\": {*v[0][0]},\n",
    "#     \"node_cluster\": cluster_optimal_nodes(f, v[0][0])\n",
    "#                     } for f, k, (k2, v) in zip(graph_collections, graph_name, all_ranks.items()) if k2 == k}\n",
    "\n"
   ]
  },
  {
   "cell_type": "code",
   "execution_count": 7,
   "metadata": {},
   "outputs": [],
   "source": [
    "# df = pd.DataFrame([v for v in summary_stat.values()])\n",
    "# df.to_csv(r'raw_ranking.csv', index=False, header=True)"
   ]
  },
  {
   "cell_type": "code",
   "execution_count": 43,
   "metadata": {
    "collapsed": true
   },
   "outputs": [
    {
     "name": "stdout",
     "output_type": "stream",
     "text": [
      "7\n"
     ]
    }
   ],
   "source": [
    "max_ = len(opti_rank)/nx.number_of_nodes(G)  # 0.16\n",
    "max_topk = round(max_ * nx.number_of_nodes(G))\n",
    "print(max_topk)\n"
   ]
  },
  {
   "cell_type": "code",
   "execution_count": 3,
   "metadata": {},
   "outputs": [
    {
     "data": {
      "text/plain": [
       "{'0': 5,\n",
       " '1': 4,\n",
       " '2': 5,\n",
       " '3': 5,\n",
       " '4': 5,\n",
       " '5': 4,\n",
       " '6': 4,\n",
       " '7': 3,\n",
       " '8': 3,\n",
       " '9': 4,\n",
       " '10': 3}"
      ]
     },
     "execution_count": 3,
     "metadata": {},
     "output_type": "execute_result"
    }
   ],
   "source": [
    "nx.eccentricity(G)"
   ]
  },
  {
   "cell_type": "code",
   "execution_count": 18,
   "metadata": {},
   "outputs": [],
   "source": [
    "def maxi_mini(a=[], b=[], c=[], d=[],  epsilon=0.15, mu=0.15, no_of_evidences = 2):\n",
    "    def maxi_(l):\n",
    "        return max([j for i, j in l])\n",
    "    def mini_(k):\n",
    "        return min([j for i, j in k])\n",
    "    sigma = maxi_(a)-mini_(a) + (2*mu)\n",
    "    delta = maxi_(b)-mini_(b) + (2*epsilon)\n",
    "    if (no_of_evidences == 2):\n",
    "        return maxi_(a), mini_(a), maxi_(b), mini_(b), sigma, delta\n",
    "    elif (no_of_evidences == 3):\n",
    "        return maxi_(a), mini_(a), maxi_(b), mini_(b), maxi_(c), mini_(c), sigma, delta\n",
    "    elif (no_of_evidences == 4):\n",
    "        return maxi_(a), mini_(a), maxi_(b), mini_(b), maxi_(c), mini_(c),  maxi_(d), mini_(d), sigma, delta\n",
    "\n",
    "    # k_max, k_min, k_2_max, k_2_min, k_3_max, k_3_min, k_4_max, k_4_min = max([j for i, j in a]), min([j for i, j in a]), \n",
    "    # max([j for i, j in b]), min([j for i, j in b]), \n",
    "    # max([j for i, j in c]), min([j for i, j in c]), \n",
    "    # max([j for i, j in d]), min([j for i, j in d])  # two_SN\n",
    "    # sigma = k_max-k_min+(2*mu)\n",
    "    # delta = k_2_max-k_2_min+(2*epsilon)\n",
    "    # if a and b:\n",
    "    #     return k_max, k_min, k_2_max, k_2_min, sigma, delta\n",
    "    # elif  not c:\n",
    "    #     return k_max, k_min, k_2_max, k_2_min,  k_3_max, k_3_min, sigma, delta\n",
    "    # elif not d:\n",
    "    #     return k_max, k_min, k_2_max, k_2_min,  k_3_max, k_3_min, k_4_max, k_4_min, sigma, delta\n",
    "\n",
    "\n",
    "def probability_weights(d, two_SN, k_max, k_min, k_2_max, k_2_min, sigma, delta):\n",
    "    w_d_h, w_d_2_h = [(i, abs(k-k_min)/sigma) for (i, k)\n",
    "                      in d], [(i, abs(k-k_2_min)/delta) for (i, k) in two_SN]\n",
    "    w_d_l, w_d_2_l = [(i, abs(k-k_max)/sigma) for (i, k)\n",
    "                      in d], [(i, abs(k-k_2_max)/delta) for (i, k) in two_SN]\n",
    "    w_d_t, w_d_2_t = [(i, 1-(abs(k-k_min)/sigma + abs(k-k_max)/sigma))\n",
    "                      for i, k in d], [(i, 1-(abs(k-k_2_min)/delta + abs(k-k_2_max)/delta))\n",
    "                                       for i, k in two_SN]\n",
    "\n",
    "    return w_d_h, w_d_2_h, w_d_l, w_d_2_l, w_d_t, w_d_2_t\n",
    "\n",
    "# def probability_weights(d, two_SN, k_max, k_min, k_2_max, k_2_min, sigma, delta):\n",
    "#     w_d_h, w_d_2_h = [(i, abs(k-k_min)/sigma) for (i, k)\n",
    "#                       in d], [(i, abs(k-k_2_min)/delta) for (i, k) in two_SN]\n",
    "#     w_d_l, w_d_2_l = [(i, abs(k-k_max)/sigma) for (i, k)\n",
    "#                       in d], [(i, abs(k-k_2_max)/delta) for (i, k) in two_SN]\n",
    "#     w_d_t, w_d_2_t = [(i, 1-(abs(k-k_min)/sigma + abs(k-k_max)/sigma))\n",
    "#                       for i, k in d], [(i, 1-(abs(k-k_2_min)/delta + abs(k-k_2_max)/delta))\n",
    "#                                        for i, k in two_SN]\n",
    "\n",
    "#     return w_d_h, w_d_2_h, w_d_l, w_d_2_l, w_d_t, w_d_2_t\n",
    "\n",
    "\n",
    "def probability_weights_multi(*maxi_mini_results, e_1=[], e_2=[], e_3=[], e_4=[], number_of_evidences = 2):\n",
    "    def pby_weights(a,b,c):\n",
    "        return [(i, abs(k-a)/b) for (i, k) in c]\n",
    "    w_d_h, w_d_2_h = pby_weights(maxi_mini_results[1], maxi_mini_results[4], e_1),pby_weights(maxi_mini_results[3],maxi_mini_results[5],e_2)\n",
    "    w_d_l, w_d_2_l = pby_weights(maxi_mini_results[0], maxi_mini_results[4],e_1),pby_weights(maxi_mini_results[2],maxi_mini_results[5],e_2)\n",
    "    w_d_t, w_d_2_t = [(i[0], 1-(i[1]+j[1])) for i,j in zip(w_d_h, w_d_l)], [(i[0], 1-(i[1]+j[1])) for i,j in zip(w_d_2_h, w_d_2_l)]\n",
    "\n",
    "    return w_d_h, w_d_2_h, w_d_l, w_d_2_l, w_d_t, w_d_2_t\n",
    "\n",
    "\n"
   ]
  },
  {
   "cell_type": "code",
   "execution_count": 19,
   "metadata": {},
   "outputs": [
    {
     "name": "stdout",
     "output_type": "stream",
     "text": [
      "(7, 4, 2, 2, 3.3, 0.3)\n",
      "Two sources of evidence: (7, 4, 2, 2, 3.3, 0.3)\n",
      "(7, 4, 2, 2, 10, 8, 3.3, 0.3)\n",
      "\n",
      "max_multi: (7, 4, 2, 2, 10, 8, 10, 8, 3.3, 0.3)\n",
      "\n",
      "([(3, 0.0), (4, 0.9090909090909092)], [(6, 0.0), (3, 0.0)], [(3, 0.9090909090909092), (4, 0.0)], [(6, 0.0), (3, 0.0)], [(3, 0.09090909090909083), (4, 0.09090909090909083)], [(6, 1.0), (3, 1.0)])\n",
      "\n"
     ]
    },
    {
     "data": {
      "text/plain": [
       "([(3, 0.0), (4, 0.9090909090909092)],\n",
       " [(6, 0.0), (3, 0.0)],\n",
       " [(3, 0.9090909090909092), (4, 0.0)],\n",
       " [(6, 0.0), (3, 0.0)],\n",
       " [(3, 0.09090909090909083), (4, 0.09090909090909083)],\n",
       " [(6, 1.0), (3, 1.0)])"
      ]
     },
     "execution_count": 19,
     "metadata": {},
     "output_type": "execute_result"
    }
   ],
   "source": [
    "print(maxi_mini(a=[(3, 4), (4, 7)], b=[(6, 2), (3, 2)]))\n",
    "two_sources = maxi_mini(a=[(3, 4), (4, 7)], b=[(6, 2), (3, 2)])\n",
    "print(\"Two sources of evidence:\", two_sources)\n",
    "print(maxi_mini(a=[(3, 4), (4, 7)], b=[(6, 2), (3, 2)], c=[(6, 8), (3, 10)], no_of_evidences=3))\n",
    "print()\n",
    "print(\"max_multi:\", maxi_mini(a=[(3, 4), (4, 7)], b=[(6, 2), (3, 2)], c=[(6, 8), (3, 10)], d =[(6, 8), (3, 10)], no_of_evidences=4))\n",
    "print()\n",
    "print(probability_weights_multi(*two_sources, e_1=[(3, 4), (4, 7)], e_2=[(6, 2), (3, 2)]))\n",
    "print()\n",
    "probability_weights([(3, 4), (4, 7)], [(6, 2), (3, 2)], *two_sources)\n"
   ]
  },
  {
   "cell_type": "code",
   "execution_count": 7,
   "metadata": {},
   "outputs": [
    {
     "name": "stdout",
     "output_type": "stream",
     "text": [
      "BEEN\n"
     ]
    }
   ],
   "source": [
    "def my_function(**kid):\n",
    "  print(kid[\"nname\"])\n",
    "\n",
    "\n",
    "my_function(fname=\"Tobias\", lname=\"Refsnes\", nname=\"BEEN\")\n"
   ]
  },
  {
   "cell_type": "code",
   "execution_count": 44,
   "metadata": {},
   "outputs": [
    {
     "data": {
      "text/plain": [
       "[('7', 0.5263157894736842),\n",
       " ('8', 0.5),\n",
       " ('10', 0.5),\n",
       " ('9', 0.47619047619047616),\n",
       " ('6', 0.43478260869565216),\n",
       " ('5', 0.4166666666666667),\n",
       " ('1', 0.38461538461538464),\n",
       " ('4', 0.38461538461538464),\n",
       " ('2', 0.37037037037037035),\n",
       " ('0', 0.3333333333333333),\n",
       " ('3', 0.3333333333333333)]"
      ]
     },
     "execution_count": 44,
     "metadata": {},
     "output_type": "execute_result"
    }
   ],
   "source": [
    "closeness_centrality(G)\n",
    "# degree_centrality_w = nx.degree_centrality(graph_collections[0])\n"
   ]
  },
  {
   "cell_type": "code",
   "execution_count": 45,
   "metadata": {},
   "outputs": [
    {
     "name": "stdout",
     "output_type": "stream",
     "text": [
      "[('7', 0.4055762219725238), ('6', 0.3769474366332191), ('8', 0.37250833195119215), ('4', 0.3388180300090629), ('10', 0.338548995138695), ('9', 0.3285583451363462), ('3', 0.2668147547407755), ('5', 0.26516089929595615), ('1', 0.17405882742893444), ('2', 0.17033466595243865), ('0', 0.12838086069121935)] ................................................................ [('6', 0.49716138469677074), ('4', 0.43428707481140516), ('3', 0.4107237228635196), ('8', 0.3905871805276499), ('5', 0.3386511712242378), ('7', 0.2905683405972806), ('9', 0.1739216057563418), ('10', 0.10501336590821495), ('2', 0.04848772289327842), ('1', 0.012009383917946972), ('0', 0.00930479618411146)]\n"
     ]
    }
   ],
   "source": [
    "closeness_centrality_w = closeness_centrality(G)#[:max_topk]\n",
    "degree_centrality_w = degree_centrality(graph_collections[0])#[:max_topk]\n",
    "eigenvector_centrality_w = eigenvector_centrality(graph_collections[0], weight = \"weight\")#[:max_topk]\n",
    "eigenvector_centrality_n = eigenvector_centrality(graph_collections[0])#[:max_topk]\n",
    "load_centrality_w = load_centrality(graph_collections[0], weight = \"weight\")#[:max_topk]\n",
    "betweenness_centrality_w = betweenness_centrality(graph_collections[0], weight = \"weight\")#[:max_topk]\n",
    "current_flow_betweenness_centrality_w = current_flow_betweenness_centrality(graph_collections[0], weight = \"weight\")#[:max_topk]\n",
    "approximate_current_flow_betweenness_centrality_w = approximate_current_flow_betweenness_centrality(graph_collections[0], weight = \"weight\")#[:max_topk]\n",
    "# # closeness_centrality_w\n",
    "eigenvector_centrality_n = eigenvector_centrality(graph_collections[0])#[:max_topk]\n",
    "print(eigenvector_centrality_n, \"................................................................\", eigenvector_centrality_w)\n",
    "\n"
   ]
  },
  {
   "cell_type": "code",
   "execution_count": null,
   "metadata": {},
   "outputs": [],
   "source": [
    "\n",
    "degreerank = degree(G, max_topk)\n",
    "print('degreerank: ', degreerank)\n",
    "degreerank_non = degree_non(G, max_topk)\n",
    "print('degreerank_non :', degreerank_non)\n",
    "\n",
    "node_strength_rank_1 = sorted([(i, sum(hub_information(G, i, 1))) for (i, j) in list(G.degree())],\n",
    "                              key=lambda item: item[1], reverse=True)[:max_topk]\n",
    "print(\"node_strength_rank_1: \",node_strength_rank_1)\n",
    "\n",
    "node_strength_rank_2 = sorted([(i, sum(hub_information(G, i, 2))) for (i, j) in list(G.degree())],\n",
    "                              key=lambda item: item[1], reverse=True)[:max_topk]\n",
    "print(\"node_strength_rank_2: \", node_strength_rank_2)\n",
    "\n",
    "node_step_nbr_1 = sorted([(i, len(n_neighbor(G, i, 1))) for (i, j) in list(G.degree())],\n",
    "                         key=lambda item: item[1], reverse=True)[:max_topk]\n",
    "print(\"node_step_nbr_1: \",node_step_nbr_1)\n",
    "\n",
    "node_step_nbr_2 = sorted([(i, len(n_neighbor(G, i, 2))) for (i, j) in list(G.degree())],\n",
    "                         key=lambda item: item[1], reverse=True)[:max_topk]\n",
    "print(\"node_step_nbr_2: \",node_step_nbr_2)\n",
    "\n",
    "\n",
    "newmethod_rank = EnRenewRank(G, max_topk, 2)\n",
    "print('newmethod_rank: ', newmethod_rank)\n",
    "\n",
    "kshell_rank = kshell(G, max_topk)\n",
    "print('kshell_rank: ', kshell_rank)\n",
    "kshell_rank_non = kshell_non(G, max_topk)\n",
    "print('kshell_rank_non: ', kshell_rank_non)\n"
   ]
  },
  {
   "cell_type": "markdown",
   "metadata": {},
   "source": [
    "## Different Lambda $(\\lambda)$"
   ]
  },
  {
   "cell_type": "markdown",
   "metadata": {},
   "source": []
  },
  {
   "cell_type": "code",
   "execution_count": 7,
   "metadata": {
    "collapsed": true
   },
   "outputs": [],
   "source": [
    "infect_prob = compute_probability(G) * 1.5\n",
    "avg = 100\n",
    "max_iter = 200000\n",
    "topk = round(max_ * nx.number_of_nodes(G))\n"
   ]
  },
  {
   "cell_type": "code",
   "execution_count": null,
   "metadata": {},
   "outputs": [],
   "source": [
    "\n",
    "degreerank_result = []\n",
    "degreerank_non_result = []\n",
    "vote_result = []\n",
    "vote_non_result = []\n",
    "newmethod_result = []\n",
    "newmethod_non_result = []\n",
    "kshell_result = []\n",
    "kshell_non_result = []\n",
    "evbrM_result = []\n",
    "node_strength_rank_1_result = []\n",
    "node_strength_rank_2_result = []\n",
    "node_step_nbr_1_result = []\n",
    "node_step_nbr_2_result = []\n",
    "# atio = [a/10 for a in list(range(10, 21, 2))]\n",
    "\n",
    "for a in tqdm(range(10, 21, 2)):\n",
    "    atio = a / 10\n",
    "    cover_prob = infect_prob / atio\n",
    "    degreerank_result.append(get_sir_result(G, degreerank, topk, avg, infect_prob, cover_prob, max_iter)[-1] / nx.number_of_nodes(G))\n",
    "    # degreerank_non_result.append(get_sir_result(G, degreerank_non, topk, avg, infect_prob, cover_prob, max_iter)[-1] / nx.number_of_nodes(G))\n",
    "    # vote_result.append(get_sir_result(G, vote, topk, avg, infect_prob, cover_prob, max_iter)[-1] / nx.number_of_nodes(G))\n",
    "    # vote_non_result.append(get_sir_result(G, vote_non, topk, avg, infect_prob, cover_prob, max_iter)[-1] / nx.number_of_nodes(G))\n",
    "    newmethod_result.append(get_sir_result(G, newmethod_rank, topk, avg, infect_prob, cover_prob, max_iter)[-1] / nx.number_of_nodes(G))\n",
    "    kshell_result.append(get_sir_result(G, kshell_rank, topk, avg, infect_prob, cover_prob, max_iter)[-1] / nx.number_of_nodes(G))\n",
    "    kshell_non_result.append(get_sir_result(G, kshell_rank_non, topk, avg, infect_prob, cover_prob, max_iter)[-1] / nx.number_of_nodes(G))\n",
    "    evbrM_result.append(get_sir_result(G, opti_rank, topk, avg,infect_prob, cover_prob, max_iter)[-1] / nx.number_of_nodes(G))\n",
    "    node_strength_rank_1_result.append(get_sir_result(G, node_strength_rank_1, topk, avg,infect_prob, cover_prob, max_iter)[-1] / nx.number_of_nodes(G))\n",
    "    node_strength_rank_2_result.append(get_sir_result(G, node_strength_rank_2, topk, avg,infect_prob, cover_prob, max_iter)[-1] / nx.number_of_nodes(G))\n",
    "    node_step_nbr_1_result.append(get_sir_result(G, node_step_nbr_1, topk, avg,infect_prob, cover_prob, max_iter)[-1] / nx.number_of_nodes(G))\n",
    "    node_step_nbr_2_result.append(get_sir_result(G, node_step_nbr_2, topk, avg,infect_prob, cover_prob, max_iter)[-1] / nx.number_of_nodes(G))\n"
   ]
  },
  {
   "cell_type": "code",
   "execution_count": null,
   "metadata": {
    "collapsed": true
   },
   "outputs": [
    {
     "data": {
      "image/png": "[encoded data removed]",
      "text/plain": [
       "<Figure size 432x288 with 1 Axes>"
      ]
     },
     "metadata": {
      "needs_background": "light"
     },
     "output_type": "display_data"
    }
   ],
   "source": [
    "%matplotlib inline\n",
    "plt.title('network:{}   avg:{}  max:{}   infect_prob:{}'.format(data_file, avg, max_, infect_prob))\n",
    "plt.plot(np.array(range(10, 21, 2)) / 10, degreerank_result, 'r-o', label='degree', linewidth=1.0, )\n",
    "# plt.plot(np.array(range(10, 21, 2)) / 10, degreerank_non_result, 'r--o', label='degree_non', linewidth=1.0, )\n",
    "# plt.plot(np.array(range(10, 21, 2)) / 10, vote_result, 'y-s', label='vote', linewidth=1.0, )\n",
    "# plt.plot(np.array(range(10, 21, 2)) / 10, vote_non_result, 'y--s', label='vote_non', linewidth=1.0, )\n",
    "plt.plot(np.array(range(10, 21, 2)) / 10, newmethod_result, 'b-^', label='EnRenew', linewidth=1.0, )\n",
    "plt.plot(np.array(range(10, 21, 2)) / 10, kshell_result, 'g-p', label='kshell', linewidth=1.0, )\n",
    "# plt.plot(np.array(range(10, 21, 2)) / 10, kshell_non_result, 'g--p', label='kshell_non', linewidth=1.0, )\n",
    "plt.plot(np.array(range(10, 21, 2)) / 10, evbrM_result, 'c--o', label='evbrM', linewidth=1.0, )\n",
    "plt.plot(np.array(range(10, 21, 2)) / 10, node_strength_rank_1_result, 'b--o', label='ns_1', linewidth=1.0, )\n",
    "plt.plot(np.array(range(10, 21, 2)) / 10, node_strength_rank_2_result, 'b-o', label='ns_2', linewidth=1.0, )\n",
    "plt.plot(np.array(range(10, 21, 2)) / 10, node_step_nbr_1_result, 'g--o', label='sn_1', linewidth=1.0, )\n",
    "plt.plot(np.array(range(10, 21, 2)) / 10, node_step_nbr_2_result, 'g-o', label='sn_2', linewidth=1.0, )\n",
    "plt.legend(loc=\"upper left\")\n",
    "plt.ylabel(\"$F(t_c)$\")\n",
    "plt.xlabel('$p$')\n",
    "plt.show()\n"
   ]
  },
  {
   "cell_type": "code",
   "execution_count": null,
   "metadata": {},
   "outputs": [
    {
     "data": {
      "text/plain": [
       "[('6', set()), ('3', {'0', '1'}), ('5', {'2', '4'})]"
      ]
     },
     "execution_count": 16,
     "metadata": {},
     "output_type": "execute_result"
    }
   ],
   "source": [
    "node_cluster = cluster_optimal_nodes(G, opti_rank)\n",
    "node_cluster"
   ]
  },
  {
   "cell_type": "code",
   "execution_count": 13,
   "metadata": {},
   "outputs": [],
   "source": [
    "cover_prob = [infect_prob / a/10 for a in range(10, 21, 2)]\n",
    "node_count = nx.number_of_nodes(G)\n"
   ]
  },
  {
   "cell_type": "code",
   "execution_count": 15,
   "metadata": {},
   "outputs": [
    {
     "name": "stderr",
     "output_type": "stream",
     "text": [
      "100%|██████████| 6/6 [00:30<00:00,  5.11s/it]\n",
      "100%|██████████| 6/6 [00:24<00:00,  4.01s/it]\n",
      "100%|██████████| 6/6 [00:24<00:00,  4.02s/it]\n",
      "100%|██████████| 6/6 [00:25<00:00,  4.28s/it]\n",
      "100%|██████████| 6/6 [00:27<00:00,  4.58s/it]\n",
      "100%|██████████| 6/6 [00:22<00:00,  3.68s/it]\n",
      "100%|██████████| 6/6 [00:42<00:00,  7.10s/it]\n"
     ]
    }
   ],
   "source": [
    "closeness_centrality_result = [(get_sir_result( G, closeness_centrality, topk, avg, infect_prob, a, max_iter)[-1] / node_count) for a in tqdm(cover_prob)]\n",
    "degree_centrality_result = [(get_sir_result( G, degree_centrality, topk, avg, infect_prob, a, max_iter)[-1] / node_count) for a in tqdm(cover_prob)]\n",
    "eigenvector_centrality_result = [(get_sir_result( G, eigenvector_centrality, topk, avg, infect_prob, a, max_iter)[-1] / node_count) for a in tqdm(cover_prob)]\n",
    "load_centrality_result = [(get_sir_result( G, load_centrality, topk, avg, infect_prob, a, max_iter)[-1] / node_count) for a in tqdm(cover_prob)]\n",
    "betweenness_centrality_result = [(get_sir_result( G, betweenness_centrality, topk, avg, infect_prob, a, max_iter)[-1] / node_count) for a in tqdm(cover_prob)]\n",
    "current_flow_betweenness_centrality_result = [(get_sir_result( G, current_flow_betweenness_centrality, topk, avg, infect_prob, a, max_iter)[-1] / node_count) for a in tqdm(cover_prob)]\n",
    "approximate_current_flow_betweenness_centrality_result = [(get_sir_result( G, approximate_current_flow_betweenness_centrality, topk, avg, infect_prob, a, max_iter)[-1] / node_count) for a in tqdm(cover_prob)]\n",
    "# betweenness"
   ]
  },
  {
   "cell_type": "code",
   "execution_count": 17,
   "metadata": {},
   "outputs": [
    {
     "name": "stderr",
     "output_type": "stream",
     "text": [
      " 50%|█████     | 3/6 [11:55<11:55, 238.41s/it]\n"
     ]
    },
    {
     "ename": "TypeError",
     "evalue": "unhashable type: 'numpy.ndarray'",
     "output_type": "error",
     "traceback": [
      "\u001b[1;31m---------------------------------------------------------------------------\u001b[0m",
      "\u001b[1;31mTypeError\u001b[0m                                 Traceback (most recent call last)",
      "\u001b[1;32m~\\AppData\\Local\\Temp/ipykernel_11524/3370775487.py\u001b[0m in \u001b[0;36m<module>\u001b[1;34m\u001b[0m\n\u001b[0;32m      8\u001b[0m \u001b[1;31m# plt.plot(np.array(range(10, 21, 2)) / 10, kshell_result, 'g-p', label='kshell', linewidth=1.0, )\u001b[0m\u001b[1;33m\u001b[0m\u001b[1;33m\u001b[0m\u001b[0m\n\u001b[0;32m      9\u001b[0m \u001b[1;31m# # plt.plot(np.array(range(10, 21, 2)) / 10, kshell_non_result, 'g--p', label='kshell_non', linewidth=1.0, )\u001b[0m\u001b[1;33m\u001b[0m\u001b[1;33m\u001b[0m\u001b[0m\n\u001b[1;32m---> 10\u001b[1;33m \u001b[0mplt\u001b[0m\u001b[1;33m.\u001b[0m\u001b[0mplot\u001b[0m\u001b[1;33m(\u001b[0m\u001b[0mnp\u001b[0m\u001b[1;33m.\u001b[0m\u001b[0marray\u001b[0m\u001b[1;33m(\u001b[0m\u001b[0mrange\u001b[0m\u001b[1;33m(\u001b[0m\u001b[1;36m10\u001b[0m\u001b[1;33m,\u001b[0m \u001b[1;36m21\u001b[0m\u001b[1;33m,\u001b[0m \u001b[1;36m2\u001b[0m\u001b[1;33m)\u001b[0m\u001b[1;33m)\u001b[0m \u001b[1;33m/\u001b[0m \u001b[1;36m10\u001b[0m\u001b[1;33m,\u001b[0m \u001b[0mopti_rank\u001b[0m\u001b[1;33m,\u001b[0m \u001b[1;34m'c--o'\u001b[0m\u001b[1;33m,\u001b[0m \u001b[0mlabel\u001b[0m\u001b[1;33m=\u001b[0m\u001b[1;34m'evbrM'\u001b[0m\u001b[1;33m,\u001b[0m \u001b[0mlinewidth\u001b[0m\u001b[1;33m=\u001b[0m\u001b[1;36m1.0\u001b[0m\u001b[1;33m,\u001b[0m \u001b[1;33m)\u001b[0m\u001b[1;33m\u001b[0m\u001b[1;33m\u001b[0m\u001b[0m\n\u001b[0m\u001b[0;32m     11\u001b[0m \u001b[0mplt\u001b[0m\u001b[1;33m.\u001b[0m\u001b[0mplot\u001b[0m\u001b[1;33m(\u001b[0m\u001b[0mnp\u001b[0m\u001b[1;33m.\u001b[0m\u001b[0marray\u001b[0m\u001b[1;33m(\u001b[0m\u001b[0mrange\u001b[0m\u001b[1;33m(\u001b[0m\u001b[1;36m10\u001b[0m\u001b[1;33m,\u001b[0m \u001b[1;36m21\u001b[0m\u001b[1;33m,\u001b[0m \u001b[1;36m2\u001b[0m\u001b[1;33m)\u001b[0m\u001b[1;33m)\u001b[0m \u001b[1;33m/\u001b[0m \u001b[1;36m10\u001b[0m\u001b[1;33m,\u001b[0m \u001b[0mcloseness_centrality_result\u001b[0m\u001b[1;33m,\u001b[0m \u001b[1;34m'b--o'\u001b[0m\u001b[1;33m,\u001b[0m \u001b[0mlabel\u001b[0m\u001b[1;33m=\u001b[0m\u001b[1;34m'ns_1'\u001b[0m\u001b[1;33m,\u001b[0m \u001b[0mlinewidth\u001b[0m\u001b[1;33m=\u001b[0m\u001b[1;36m1.0\u001b[0m\u001b[1;33m,\u001b[0m \u001b[1;33m)\u001b[0m\u001b[1;33m\u001b[0m\u001b[1;33m\u001b[0m\u001b[0m\n\u001b[0;32m     12\u001b[0m \u001b[0mplt\u001b[0m\u001b[1;33m.\u001b[0m\u001b[0mplot\u001b[0m\u001b[1;33m(\u001b[0m\u001b[0mnp\u001b[0m\u001b[1;33m.\u001b[0m\u001b[0marray\u001b[0m\u001b[1;33m(\u001b[0m\u001b[0mrange\u001b[0m\u001b[1;33m(\u001b[0m\u001b[1;36m10\u001b[0m\u001b[1;33m,\u001b[0m \u001b[1;36m21\u001b[0m\u001b[1;33m,\u001b[0m \u001b[1;36m2\u001b[0m\u001b[1;33m)\u001b[0m\u001b[1;33m)\u001b[0m \u001b[1;33m/\u001b[0m \u001b[1;36m10\u001b[0m\u001b[1;33m,\u001b[0m \u001b[0mdegree_centrality_result\u001b[0m\u001b[1;33m,\u001b[0m \u001b[1;34m'b-o'\u001b[0m\u001b[1;33m,\u001b[0m \u001b[0mlabel\u001b[0m\u001b[1;33m=\u001b[0m\u001b[1;34m'ns_2'\u001b[0m\u001b[1;33m,\u001b[0m \u001b[0mlinewidth\u001b[0m\u001b[1;33m=\u001b[0m\u001b[1;36m1.0\u001b[0m\u001b[1;33m,\u001b[0m \u001b[1;33m)\u001b[0m\u001b[1;33m\u001b[0m\u001b[1;33m\u001b[0m\u001b[0m\n",
      "\u001b[1;32m~\\anaconda3\\envs\\myenv\\lib\\site-packages\\matplotlib\\pyplot.py\u001b[0m in \u001b[0;36mplot\u001b[1;34m(scalex, scaley, data, *args, **kwargs)\u001b[0m\n\u001b[0;32m   2838\u001b[0m \u001b[1;33m@\u001b[0m\u001b[0m_copy_docstring_and_deprecators\u001b[0m\u001b[1;33m(\u001b[0m\u001b[0mAxes\u001b[0m\u001b[1;33m.\u001b[0m\u001b[0mplot\u001b[0m\u001b[1;33m)\u001b[0m\u001b[1;33m\u001b[0m\u001b[1;33m\u001b[0m\u001b[0m\n\u001b[0;32m   2839\u001b[0m \u001b[1;32mdef\u001b[0m \u001b[0mplot\u001b[0m\u001b[1;33m(\u001b[0m\u001b[1;33m*\u001b[0m\u001b[0margs\u001b[0m\u001b[1;33m,\u001b[0m \u001b[0mscalex\u001b[0m\u001b[1;33m=\u001b[0m\u001b[1;32mTrue\u001b[0m\u001b[1;33m,\u001b[0m \u001b[0mscaley\u001b[0m\u001b[1;33m=\u001b[0m\u001b[1;32mTrue\u001b[0m\u001b[1;33m,\u001b[0m \u001b[0mdata\u001b[0m\u001b[1;33m=\u001b[0m\u001b[1;32mNone\u001b[0m\u001b[1;33m,\u001b[0m \u001b[1;33m**\u001b[0m\u001b[0mkwargs\u001b[0m\u001b[1;33m)\u001b[0m\u001b[1;33m:\u001b[0m\u001b[1;33m\u001b[0m\u001b[1;33m\u001b[0m\u001b[0m\n\u001b[1;32m-> 2840\u001b[1;33m     return gca().plot(\n\u001b[0m\u001b[0;32m   2841\u001b[0m         \u001b[1;33m*\u001b[0m\u001b[0margs\u001b[0m\u001b[1;33m,\u001b[0m \u001b[0mscalex\u001b[0m\u001b[1;33m=\u001b[0m\u001b[0mscalex\u001b[0m\u001b[1;33m,\u001b[0m \u001b[0mscaley\u001b[0m\u001b[1;33m=\u001b[0m\u001b[0mscaley\u001b[0m\u001b[1;33m,\u001b[0m\u001b[1;33m\u001b[0m\u001b[1;33m\u001b[0m\u001b[0m\n\u001b[0;32m   2842\u001b[0m         **({\"data\": data} if data is not None else {}), **kwargs)\n",
      "\u001b[1;32m~\\anaconda3\\envs\\myenv\\lib\\site-packages\\matplotlib\\axes\\_axes.py\u001b[0m in \u001b[0;36mplot\u001b[1;34m(self, scalex, scaley, data, *args, **kwargs)\u001b[0m\n\u001b[0;32m   1741\u001b[0m         \"\"\"\n\u001b[0;32m   1742\u001b[0m         \u001b[0mkwargs\u001b[0m \u001b[1;33m=\u001b[0m \u001b[0mcbook\u001b[0m\u001b[1;33m.\u001b[0m\u001b[0mnormalize_kwargs\u001b[0m\u001b[1;33m(\u001b[0m\u001b[0mkwargs\u001b[0m\u001b[1;33m,\u001b[0m \u001b[0mmlines\u001b[0m\u001b[1;33m.\u001b[0m\u001b[0mLine2D\u001b[0m\u001b[1;33m)\u001b[0m\u001b[1;33m\u001b[0m\u001b[1;33m\u001b[0m\u001b[0m\n\u001b[1;32m-> 1743\u001b[1;33m         \u001b[0mlines\u001b[0m \u001b[1;33m=\u001b[0m \u001b[1;33m[\u001b[0m\u001b[1;33m*\u001b[0m\u001b[0mself\u001b[0m\u001b[1;33m.\u001b[0m\u001b[0m_get_lines\u001b[0m\u001b[1;33m(\u001b[0m\u001b[1;33m*\u001b[0m\u001b[0margs\u001b[0m\u001b[1;33m,\u001b[0m \u001b[0mdata\u001b[0m\u001b[1;33m=\u001b[0m\u001b[0mdata\u001b[0m\u001b[1;33m,\u001b[0m \u001b[1;33m**\u001b[0m\u001b[0mkwargs\u001b[0m\u001b[1;33m)\u001b[0m\u001b[1;33m]\u001b[0m\u001b[1;33m\u001b[0m\u001b[1;33m\u001b[0m\u001b[0m\n\u001b[0m\u001b[0;32m   1744\u001b[0m         \u001b[1;32mfor\u001b[0m \u001b[0mline\u001b[0m \u001b[1;32min\u001b[0m \u001b[0mlines\u001b[0m\u001b[1;33m:\u001b[0m\u001b[1;33m\u001b[0m\u001b[1;33m\u001b[0m\u001b[0m\n\u001b[0;32m   1745\u001b[0m             \u001b[0mself\u001b[0m\u001b[1;33m.\u001b[0m\u001b[0madd_line\u001b[0m\u001b[1;33m(\u001b[0m\u001b[0mline\u001b[0m\u001b[1;33m)\u001b[0m\u001b[1;33m\u001b[0m\u001b[1;33m\u001b[0m\u001b[0m\n",
      "\u001b[1;32m~\\anaconda3\\envs\\myenv\\lib\\site-packages\\matplotlib\\axes\\_base.py\u001b[0m in \u001b[0;36m__call__\u001b[1;34m(self, data, *args, **kwargs)\u001b[0m\n\u001b[0;32m    271\u001b[0m                 \u001b[0mthis\u001b[0m \u001b[1;33m+=\u001b[0m \u001b[0margs\u001b[0m\u001b[1;33m[\u001b[0m\u001b[1;36m0\u001b[0m\u001b[1;33m]\u001b[0m\u001b[1;33m,\u001b[0m\u001b[1;33m\u001b[0m\u001b[1;33m\u001b[0m\u001b[0m\n\u001b[0;32m    272\u001b[0m                 \u001b[0margs\u001b[0m \u001b[1;33m=\u001b[0m \u001b[0margs\u001b[0m\u001b[1;33m[\u001b[0m\u001b[1;36m1\u001b[0m\u001b[1;33m:\u001b[0m\u001b[1;33m]\u001b[0m\u001b[1;33m\u001b[0m\u001b[1;33m\u001b[0m\u001b[0m\n\u001b[1;32m--> 273\u001b[1;33m             \u001b[1;32myield\u001b[0m \u001b[1;32mfrom\u001b[0m \u001b[0mself\u001b[0m\u001b[1;33m.\u001b[0m\u001b[0m_plot_args\u001b[0m\u001b[1;33m(\u001b[0m\u001b[0mthis\u001b[0m\u001b[1;33m,\u001b[0m \u001b[0mkwargs\u001b[0m\u001b[1;33m)\u001b[0m\u001b[1;33m\u001b[0m\u001b[1;33m\u001b[0m\u001b[0m\n\u001b[0m\u001b[0;32m    274\u001b[0m \u001b[1;33m\u001b[0m\u001b[0m\n\u001b[0;32m    275\u001b[0m     \u001b[1;32mdef\u001b[0m \u001b[0mget_next_color\u001b[0m\u001b[1;33m(\u001b[0m\u001b[0mself\u001b[0m\u001b[1;33m)\u001b[0m\u001b[1;33m:\u001b[0m\u001b[1;33m\u001b[0m\u001b[1;33m\u001b[0m\u001b[0m\n",
      "\u001b[1;32m~\\anaconda3\\envs\\myenv\\lib\\site-packages\\matplotlib\\axes\\_base.py\u001b[0m in \u001b[0;36m_plot_args\u001b[1;34m(self, tup, kwargs)\u001b[0m\n\u001b[0;32m    394\u001b[0m             \u001b[0mself\u001b[0m\u001b[1;33m.\u001b[0m\u001b[0maxes\u001b[0m\u001b[1;33m.\u001b[0m\u001b[0mxaxis\u001b[0m\u001b[1;33m.\u001b[0m\u001b[0mupdate_units\u001b[0m\u001b[1;33m(\u001b[0m\u001b[0mx\u001b[0m\u001b[1;33m)\u001b[0m\u001b[1;33m\u001b[0m\u001b[1;33m\u001b[0m\u001b[0m\n\u001b[0;32m    395\u001b[0m         \u001b[1;32mif\u001b[0m \u001b[0mself\u001b[0m\u001b[1;33m.\u001b[0m\u001b[0maxes\u001b[0m\u001b[1;33m.\u001b[0m\u001b[0myaxis\u001b[0m \u001b[1;32mis\u001b[0m \u001b[1;32mnot\u001b[0m \u001b[1;32mNone\u001b[0m\u001b[1;33m:\u001b[0m\u001b[1;33m\u001b[0m\u001b[1;33m\u001b[0m\u001b[0m\n\u001b[1;32m--> 396\u001b[1;33m             \u001b[0mself\u001b[0m\u001b[1;33m.\u001b[0m\u001b[0maxes\u001b[0m\u001b[1;33m.\u001b[0m\u001b[0myaxis\u001b[0m\u001b[1;33m.\u001b[0m\u001b[0mupdate_units\u001b[0m\u001b[1;33m(\u001b[0m\u001b[0my\u001b[0m\u001b[1;33m)\u001b[0m\u001b[1;33m\u001b[0m\u001b[1;33m\u001b[0m\u001b[0m\n\u001b[0m\u001b[0;32m    397\u001b[0m \u001b[1;33m\u001b[0m\u001b[0m\n\u001b[0;32m    398\u001b[0m         \u001b[1;32mif\u001b[0m \u001b[0mx\u001b[0m\u001b[1;33m.\u001b[0m\u001b[0mshape\u001b[0m\u001b[1;33m[\u001b[0m\u001b[1;36m0\u001b[0m\u001b[1;33m]\u001b[0m \u001b[1;33m!=\u001b[0m \u001b[0my\u001b[0m\u001b[1;33m.\u001b[0m\u001b[0mshape\u001b[0m\u001b[1;33m[\u001b[0m\u001b[1;36m0\u001b[0m\u001b[1;33m]\u001b[0m\u001b[1;33m:\u001b[0m\u001b[1;33m\u001b[0m\u001b[1;33m\u001b[0m\u001b[0m\n",
      "\u001b[1;32m~\\anaconda3\\envs\\myenv\\lib\\site-packages\\matplotlib\\axis.py\u001b[0m in \u001b[0;36mupdate_units\u001b[1;34m(self, data)\u001b[0m\n\u001b[0;32m   1464\u001b[0m         \u001b[0mneednew\u001b[0m \u001b[1;33m=\u001b[0m \u001b[0mself\u001b[0m\u001b[1;33m.\u001b[0m\u001b[0mconverter\u001b[0m \u001b[1;33m!=\u001b[0m \u001b[0mconverter\u001b[0m\u001b[1;33m\u001b[0m\u001b[1;33m\u001b[0m\u001b[0m\n\u001b[0;32m   1465\u001b[0m         \u001b[0mself\u001b[0m\u001b[1;33m.\u001b[0m\u001b[0mconverter\u001b[0m \u001b[1;33m=\u001b[0m \u001b[0mconverter\u001b[0m\u001b[1;33m\u001b[0m\u001b[1;33m\u001b[0m\u001b[0m\n\u001b[1;32m-> 1466\u001b[1;33m         \u001b[0mdefault\u001b[0m \u001b[1;33m=\u001b[0m \u001b[0mself\u001b[0m\u001b[1;33m.\u001b[0m\u001b[0mconverter\u001b[0m\u001b[1;33m.\u001b[0m\u001b[0mdefault_units\u001b[0m\u001b[1;33m(\u001b[0m\u001b[0mdata\u001b[0m\u001b[1;33m,\u001b[0m \u001b[0mself\u001b[0m\u001b[1;33m)\u001b[0m\u001b[1;33m\u001b[0m\u001b[1;33m\u001b[0m\u001b[0m\n\u001b[0m\u001b[0;32m   1467\u001b[0m         \u001b[1;32mif\u001b[0m \u001b[0mdefault\u001b[0m \u001b[1;32mis\u001b[0m \u001b[1;32mnot\u001b[0m \u001b[1;32mNone\u001b[0m \u001b[1;32mand\u001b[0m \u001b[0mself\u001b[0m\u001b[1;33m.\u001b[0m\u001b[0munits\u001b[0m \u001b[1;32mis\u001b[0m \u001b[1;32mNone\u001b[0m\u001b[1;33m:\u001b[0m\u001b[1;33m\u001b[0m\u001b[1;33m\u001b[0m\u001b[0m\n\u001b[0;32m   1468\u001b[0m             \u001b[0mself\u001b[0m\u001b[1;33m.\u001b[0m\u001b[0mset_units\u001b[0m\u001b[1;33m(\u001b[0m\u001b[0mdefault\u001b[0m\u001b[1;33m)\u001b[0m\u001b[1;33m\u001b[0m\u001b[1;33m\u001b[0m\u001b[0m\n",
      "\u001b[1;32m~\\anaconda3\\envs\\myenv\\lib\\site-packages\\matplotlib\\category.py\u001b[0m in \u001b[0;36mdefault_units\u001b[1;34m(data, axis)\u001b[0m\n\u001b[0;32m    105\u001b[0m         \u001b[1;31m# the conversion call stack is default_units -> axis_info -> convert\u001b[0m\u001b[1;33m\u001b[0m\u001b[1;33m\u001b[0m\u001b[0m\n\u001b[0;32m    106\u001b[0m         \u001b[1;32mif\u001b[0m \u001b[0maxis\u001b[0m\u001b[1;33m.\u001b[0m\u001b[0munits\u001b[0m \u001b[1;32mis\u001b[0m \u001b[1;32mNone\u001b[0m\u001b[1;33m:\u001b[0m\u001b[1;33m\u001b[0m\u001b[1;33m\u001b[0m\u001b[0m\n\u001b[1;32m--> 107\u001b[1;33m             \u001b[0maxis\u001b[0m\u001b[1;33m.\u001b[0m\u001b[0mset_units\u001b[0m\u001b[1;33m(\u001b[0m\u001b[0mUnitData\u001b[0m\u001b[1;33m(\u001b[0m\u001b[0mdata\u001b[0m\u001b[1;33m)\u001b[0m\u001b[1;33m)\u001b[0m\u001b[1;33m\u001b[0m\u001b[1;33m\u001b[0m\u001b[0m\n\u001b[0m\u001b[0;32m    108\u001b[0m         \u001b[1;32melse\u001b[0m\u001b[1;33m:\u001b[0m\u001b[1;33m\u001b[0m\u001b[1;33m\u001b[0m\u001b[0m\n\u001b[0;32m    109\u001b[0m             \u001b[0maxis\u001b[0m\u001b[1;33m.\u001b[0m\u001b[0munits\u001b[0m\u001b[1;33m.\u001b[0m\u001b[0mupdate\u001b[0m\u001b[1;33m(\u001b[0m\u001b[0mdata\u001b[0m\u001b[1;33m)\u001b[0m\u001b[1;33m\u001b[0m\u001b[1;33m\u001b[0m\u001b[0m\n",
      "\u001b[1;32m~\\anaconda3\\envs\\myenv\\lib\\site-packages\\matplotlib\\category.py\u001b[0m in \u001b[0;36m__init__\u001b[1;34m(self, data)\u001b[0m\n\u001b[0;32m    174\u001b[0m         \u001b[0mself\u001b[0m\u001b[1;33m.\u001b[0m\u001b[0m_counter\u001b[0m \u001b[1;33m=\u001b[0m \u001b[0mitertools\u001b[0m\u001b[1;33m.\u001b[0m\u001b[0mcount\u001b[0m\u001b[1;33m(\u001b[0m\u001b[1;33m)\u001b[0m\u001b[1;33m\u001b[0m\u001b[1;33m\u001b[0m\u001b[0m\n\u001b[0;32m    175\u001b[0m         \u001b[1;32mif\u001b[0m \u001b[0mdata\u001b[0m \u001b[1;32mis\u001b[0m \u001b[1;32mnot\u001b[0m \u001b[1;32mNone\u001b[0m\u001b[1;33m:\u001b[0m\u001b[1;33m\u001b[0m\u001b[1;33m\u001b[0m\u001b[0m\n\u001b[1;32m--> 176\u001b[1;33m             \u001b[0mself\u001b[0m\u001b[1;33m.\u001b[0m\u001b[0mupdate\u001b[0m\u001b[1;33m(\u001b[0m\u001b[0mdata\u001b[0m\u001b[1;33m)\u001b[0m\u001b[1;33m\u001b[0m\u001b[1;33m\u001b[0m\u001b[0m\n\u001b[0m\u001b[0;32m    177\u001b[0m \u001b[1;33m\u001b[0m\u001b[0m\n\u001b[0;32m    178\u001b[0m     \u001b[1;33m@\u001b[0m\u001b[0mstaticmethod\u001b[0m\u001b[1;33m\u001b[0m\u001b[1;33m\u001b[0m\u001b[0m\n",
      "\u001b[1;32m~\\anaconda3\\envs\\myenv\\lib\\site-packages\\matplotlib\\category.py\u001b[0m in \u001b[0;36mupdate\u001b[1;34m(self, data)\u001b[0m\n\u001b[0;32m    207\u001b[0m         \u001b[1;31m# check if convertible to number:\u001b[0m\u001b[1;33m\u001b[0m\u001b[1;33m\u001b[0m\u001b[0m\n\u001b[0;32m    208\u001b[0m         \u001b[0mconvertible\u001b[0m \u001b[1;33m=\u001b[0m \u001b[1;32mTrue\u001b[0m\u001b[1;33m\u001b[0m\u001b[1;33m\u001b[0m\u001b[0m\n\u001b[1;32m--> 209\u001b[1;33m         \u001b[1;32mfor\u001b[0m \u001b[0mval\u001b[0m \u001b[1;32min\u001b[0m \u001b[0mOrderedDict\u001b[0m\u001b[1;33m.\u001b[0m\u001b[0mfromkeys\u001b[0m\u001b[1;33m(\u001b[0m\u001b[0mdata\u001b[0m\u001b[1;33m)\u001b[0m\u001b[1;33m:\u001b[0m\u001b[1;33m\u001b[0m\u001b[1;33m\u001b[0m\u001b[0m\n\u001b[0m\u001b[0;32m    210\u001b[0m             \u001b[1;31m# OrderedDict just iterates over unique values in data.\u001b[0m\u001b[1;33m\u001b[0m\u001b[1;33m\u001b[0m\u001b[0m\n\u001b[0;32m    211\u001b[0m             \u001b[0mcbook\u001b[0m\u001b[1;33m.\u001b[0m\u001b[0m_check_isinstance\u001b[0m\u001b[1;33m(\u001b[0m\u001b[1;33m(\u001b[0m\u001b[0mstr\u001b[0m\u001b[1;33m,\u001b[0m \u001b[0mbytes\u001b[0m\u001b[1;33m)\u001b[0m\u001b[1;33m,\u001b[0m \u001b[0mvalue\u001b[0m\u001b[1;33m=\u001b[0m\u001b[0mval\u001b[0m\u001b[1;33m)\u001b[0m\u001b[1;33m\u001b[0m\u001b[1;33m\u001b[0m\u001b[0m\n",
      "\u001b[1;31mTypeError\u001b[0m: unhashable type: 'numpy.ndarray'"
     ]
    },
    {
     "data": {
      "image/png": "[encoded data removed]",
      "text/plain": [
       "<Figure size 432x288 with 1 Axes>"
      ]
     },
     "metadata": {
      "needs_background": "light"
     },
     "output_type": "display_data"
    }
   ],
   "source": [
    "%matplotlib inline\n",
    "# plt.title('network:{}   avg:{}  max:{}   infect_prob:{}'.format(data_file, avg, max_, infect_prob))\n",
    "# plt.plot(np.array(range(10, 21, 2)) / 10, degreerank_result, 'r-o', label='degree', linewidth=1.0, )\n",
    "# # plt.plot(np.array(range(10, 21, 2)) / 10, degreerank_non_result, 'r--o', label='degree_non', linewidth=1.0, )\n",
    "# # plt.plot(np.array(range(10, 21, 2)) / 10, vote_result, 'y-s', label='vote', linewidth=1.0, )\n",
    "# # plt.plot(np.array(range(10, 21, 2)) / 10, vote_non_result, 'y--s', label='vote_non', linewidth=1.0, )\n",
    "# plt.plot(np.array(range(10, 21, 2)) / 10, newmethod_result, 'b-^', label='EnRenew', linewidth=1.0, )\n",
    "# plt.plot(np.array(range(10, 21, 2)) / 10, kshell_result, 'g-p', label='kshell', linewidth=1.0, )\n",
    "# # plt.plot(np.array(range(10, 21, 2)) / 10, kshell_non_result, 'g--p', label='kshell_non', linewidth=1.0, )\n",
    "plt.plot(np.array(range(10, 21, 2)) / 10, opti_rank, 'c--o', label='evbrM', linewidth=1.0, )\n",
    "plt.plot(np.array(range(10, 21, 2)) / 10, closeness_centrality_result, 'b--o', label='ns_1', linewidth=1.0, )\n",
    "plt.plot(np.array(range(10, 21, 2)) / 10, degree_centrality_result, 'b-o', label='ns_2', linewidth=1.0, )\n",
    "plt.plot(np.array(range(10, 21, 2)) / 10, eigenvector_centrality_result, 'g--o', label='sn_1', linewidth=1.0, )\n",
    "plt.plot(np.array(range(10, 21, 2)) / 10, load_centrality_result, 'g-o', label='sn_2', linewidth=1.0, )\n",
    "plt.plot(np.array(range(10, 21, 2)) / 10, betweenness_centrality_result, 'b-^', label='EnRenew', linewidth=1.0, )\n",
    "plt.plot(np.array(range(10, 21, 2)) / 10, current_flow_betweenness_centrality_result, 'g-p', label='kshell', linewidth=1.0, )\n",
    "plt.plot(np.array(range(10, 21, 2)) / 10, approximate_current_flow_betweenness_centrality_result, 'r-o', label='degree', linewidth=1.0, )\n",
    "plt.legend(loc=\"upper left\")\n",
    "plt.ylabel(\"$F(t_c)$\")\n",
    "plt.xlabel('$p$')\n",
    "plt.show()\n"
   ]
  }
 ],
 "metadata": {
  "interpreter": {
   "hash": "67e6a4aa325bcd0e0aaaeb4e623fbf1760d37df0ebdc8dc3b72d0ab217e1e634"
  },
  "kernelspec": {
   "display_name": "Python 3.9.7 64-bit ('myenv': conda)",
   "name": "python3"
  },
  "language_info": {
   "codemirror_mode": {
    "name": "ipython",
    "version": 3
   },
   "file_extension": ".py",
   "mimetype": "text/x-python",
   "name": "python",
   "nbconvert_exporter": "python",
   "pygments_lexer": "ipython3",
   "version": "3.9.7"
  }
 },
 "nbformat": 4,
 "nbformat_minor": 2
}
