{
 "cells": [
  {
   "cell_type": "code",
   "execution_count": 1,
   "source": [
    "from sortedcontainers import SortedSet\r\n",
    "import networkx as nx\r\n",
    "import sys\r\n",
    "import os\r\n",
    "# dir_path = os.path.dirname(os.path.dirname(os.path.abspath(__file__)))\r\n",
    "# sys.path.append(dir_path)\r\n",
    "sys.path.append(r'c:\\\\Users\\\\rotim\\\\OneDrive\\\\Documents\\\\Reading\\\\graph-code\\\\Skoltech-PhD-Thesis\\\\_codes\\\\SIR\\\\Influential-nodes-identification-in-complex-networks-via-information-entropy')\r\n",
    "from algorithms import *\r\n",
    "import matplotlib.pyplot as plt\r\n",
    "import numpy as np\r\n",
    "from tqdm import tqdm\r\n",
    "import pickle\r\n"
   ],
   "outputs": [],
   "metadata": {
    "collapsed": true
   }
  },
  {
   "cell_type": "code",
   "execution_count": 2,
   "source": [
    "data_file = 'topo' # 'HepPh'\r\n",
    "G = clean_data(data_file)"
   ],
   "outputs": [],
   "metadata": {
    "collapsed": true
   }
  },
  {
   "cell_type": "code",
   "execution_count": 3,
   "source": [
    "print(nx.number_of_nodes(G), nx.number_of_edges(G))"
   ],
   "outputs": [
    {
     "output_type": "stream",
     "name": "stdout",
     "text": [
      "34 42\n"
     ]
    }
   ],
   "metadata": {
    "collapsed": true
   }
  },
  {
   "cell_type": "markdown",
   "source": [
    "Our Model"
   ],
   "metadata": {}
  },
  {
   "cell_type": "code",
   "execution_count": 4,
   "source": [
    "geo_loc_data = get_geo_data(\"Internet2LatLong.csv\")\r\n",
    "edge_geo_data_combined = assign_location(G, geo_loc_data)\r\n",
    "# set edge attributes\r\n",
    "set_edge_attr(G, edge_geo_data_combined)\r\n",
    "# obtain the node degrees and edges weights to desired lengths\r\n",
    "tmp_t = list(range(1, 5))\r\n",
    "tmp_t_SN, tmp_t_hub = hubs_SN_NS(G, tmp_t)\r\n",
    "\r\n",
    "combined_dict, combined_dict_k_2 = varying_examples(\r\n",
    "    tmp_t_SN[0][1], tmp_t_hub[1][2])\r\n",
    "\r\n",
    "# Get ranked result\r\n",
    "opti_rank, ranked_nodes = rank_result(combined_dict, combined_dict_k_2)\r\n",
    "\r\n",
    "print(opti_rank, ranked_nodes)\r\n",
    "\r\n"
   ],
   "outputs": [
    {
     "output_type": "stream",
     "name": "stdout",
     "text": [
      "[('27', 0.9985005730418679), ('5', 0.7549436527724699), ('12', 0.75434887813017), ('28', 0.6538494099071029), ('2', 0.5865976594398602)] [('27', 0.9985005730418679), ('5', 0.7549436527724699), ('12', 0.75434887813017), ('28', 0.6538494099071029), ('2', 0.5865976594398602), ('8', -0.050453003066369795), ('29', -0.08741203815217125), ('11', -0.09476383267522936), ('33', -0.1785220459582076), ('16', -0.17915011452858887), ('22', -0.21433411540053987), ('14', -0.26103242352740835), ('24', -0.2741646003757832), ('26', -0.3314800344449304), ('7', -0.34776492282853405), ('21', -0.4675182149424362), ('6', -0.5222256043810737), ('23', -0.6131195019583244), ('13', -0.657028903456349), ('32', -0.7094072525888995), ('3', -0.7305873447843267), ('34', -0.7897546865705557), ('15', -0.7933125112241983), ('31', -0.7953706107202866), ('25', -0.797530665360725), ('17', -0.79836359602605), ('19', -0.8073718135156045), ('10', -0.8165377332519864), ('9', -0.8454161947787605), ('4', -0.8715703385708794), ('20', -0.9550771860241506), ('30', -0.9929587931832465), ('1', -0.9981899589485623), ('18', -0.9985005730418679)]\n"
     ]
    }
   ],
   "metadata": {}
  },
  {
   "cell_type": "code",
   "execution_count": 18,
   "source": [
    "max_ = len(opti_rank)/nx.number_of_nodes(G)  # 0.16\r\n",
    "max_topk = round(max_ * nx.number_of_nodes(G))\r\n",
    "print(max_topk)\r\n",
    "\r\n",
    "degreerank = degree(G, max_topk)\r\n",
    "print('degreerank: ', degreerank)\r\n",
    "degreerank_non = degree_non(G, max_topk)\r\n",
    "print('degreerank_non :', degreerank_non)\r\n",
    "\r\n",
    "node_strength_rank_1 = sorted([(i, sum(hub_information(G, i, 1))) for (i, j) in list(G.degree())],\r\n",
    "                              key=lambda item: item[1], reverse=True)[:max_topk]\r\n",
    "print(\"node_strength_rank_1: \",node_strength_rank_1)\r\n",
    "\r\n",
    "node_strength_rank_2 = sorted([(i, sum(hub_information(G, i, 2))) for (i, j) in list(G.degree())],\r\n",
    "                              key=lambda item: item[1], reverse=True)[:max_topk]\r\n",
    "print(\"node_strength_rank_2: \", node_strength_rank_2)\r\n",
    "\r\n",
    "node_step_nbr_1 = sorted([(i, len(n_neighbor(G, i, 1))) for (i, j) in list(G.degree())],\r\n",
    "                         key=lambda item: item[1], reverse=True)[:max_topk]\r\n",
    "print(\"node_step_nbr_1: \",node_step_nbr_1)\r\n",
    "\r\n",
    "node_step_nbr_2 = sorted([(i, len(n_neighbor(G, i, 2))) for (i, j) in list(G.degree())],\r\n",
    "                         key=lambda item: item[1], reverse=True)[:max_topk]\r\n",
    "print(\"node_step_nbr_2: \",node_step_nbr_2)\r\n",
    "\r\n",
    "\r\n",
    "newmethod_rank = EnRenewRank(G, max_topk, 2)\r\n",
    "print('newmethod_rank: ', newmethod_rank)\r\n",
    "\r\n",
    "kshell_rank = kshell(G, max_topk)\r\n",
    "print('kshell_rank: ', kshell_rank)\r\n",
    "kshell_rank_non = kshell_non(G, max_topk)\r\n",
    "print('kshell_rank_non: ', kshell_rank_non)\r\n"
   ],
   "outputs": [
    {
     "output_type": "stream",
     "name": "stdout",
     "text": [
      "5\n",
      "degreerank:  [('2', ' '), ('5', ' '), ('12', ' '), ('6', ' '), ('7', ' ')]\n",
      "degreerank_non : [('2', ' '), ('12', ' '), ('6', ' '), ('8', ' '), ('16', ' ')]\n",
      "node_strength_rank_1:  [('27', 88.175), ('28', 40.637), ('12', 34.97800000000001), ('26', 30.902), ('33', 30.81)]\n",
      "node_strength_rank_2:  [('27', 220.161), ('28', 166.328), ('33', 130.799), ('22', 127.098), ('26', 114.425)]\n",
      "node_step_nbr_1:  [('2', 4), ('5', 4), ('12', 4), ('6', 3), ('7', 3)]\n",
      "node_step_nbr_2:  [('5', 10), ('8', 9), ('12', 9), ('29', 9), ('2', 8)]\n",
      "newmethod_rank:  [('5', 0.9097548562597484), ('12', 0.7276923667828582), ('29', 0.6539714380359193), ('14', 0.6058815878364635), ('24', 0.5577917376370076)]\n",
      "kshell_rank:  [('2', ' '), ('5', ' '), ('12', ' '), ('6', ' '), ('7', ' ')]\n",
      "kshell_rank_non:  [('2', ' '), ('12', ' '), ('6', ' '), ('8', ' '), ('16', ' ')]\n"
     ]
    }
   ],
   "metadata": {
    "collapsed": true
   }
  },
  {
   "cell_type": "markdown",
   "source": [
    "## Different Lambda $(\\lambda)$"
   ],
   "metadata": {}
  },
  {
   "cell_type": "code",
   "execution_count": 20,
   "source": [
    "infect_prob = compute_probability(G) * 1.5\r\n",
    "avg = 100\r\n",
    "max_iter = 200000\r\n",
    "topk = round(max_ * nx.number_of_nodes(G))\r\n",
    "\r\n",
    "degreerank_result = []\r\n",
    "degreerank_non_result = []\r\n",
    "vote_result = []\r\n",
    "vote_non_result = []\r\n",
    "newmethod_result = []\r\n",
    "newmethod_non_result = []\r\n",
    "kshell_result = []\r\n",
    "kshell_non_result = []\r\n",
    "evbrM_result = []\r\n",
    "node_strength_rank_1_result = []\r\n",
    "node_strength_rank_2_result = []\r\n",
    "node_step_nbr_1_result = []\r\n",
    "node_step_nbr_2_result = []\r\n",
    "# atio = [a/10 for a in list(range(10, 21, 2))]\r\n",
    "\r\n",
    "for a in tqdm(range(10, 21, 2)):\r\n",
    "    atio = a / 10\r\n",
    "    cover_prob = infect_prob / atio\r\n",
    "    degreerank_result.append(get_sir_result(G, degreerank, topk, avg, infect_prob, cover_prob, max_iter)[-1] / nx.number_of_nodes(G))\r\n",
    "    # degreerank_non_result.append(get_sir_result(G, degreerank_non, topk, avg, infect_prob, cover_prob, max_iter)[-1] / nx.number_of_nodes(G))\r\n",
    "    # vote_result.append(get_sir_result(G, vote, topk, avg, infect_prob, cover_prob, max_iter)[-1] / nx.number_of_nodes(G))\r\n",
    "    # vote_non_result.append(get_sir_result(G, vote_non, topk, avg, infect_prob, cover_prob, max_iter)[-1] / nx.number_of_nodes(G))\r\n",
    "    newmethod_result.append(get_sir_result(G, newmethod_rank, topk, avg, infect_prob, cover_prob, max_iter)[-1] / nx.number_of_nodes(G))\r\n",
    "    kshell_result.append(get_sir_result(G, kshell_rank, topk, avg, infect_prob, cover_prob, max_iter)[-1] / nx.number_of_nodes(G))\r\n",
    "    kshell_non_result.append(get_sir_result(G, kshell_rank_non, topk, avg, infect_prob, cover_prob, max_iter)[-1] / nx.number_of_nodes(G))\r\n",
    "    evbrM_result.append(get_sir_result(G, opti_rank, topk, avg,infect_prob, cover_prob, max_iter)[-1] / nx.number_of_nodes(G))\r\n",
    "    node_strength_rank_1_result.append(get_sir_result(G, node_strength_rank_1, topk, avg,infect_prob, cover_prob, max_iter)[-1] / nx.number_of_nodes(G))\r\n",
    "    node_strength_rank_2_result.append(get_sir_result(G, node_strength_rank_2, topk, avg,infect_prob, cover_prob, max_iter)[-1] / nx.number_of_nodes(G))\r\n",
    "    node_step_nbr_1_result.append(get_sir_result(G, node_step_nbr_1, topk, avg,infect_prob, cover_prob, max_iter)[-1] / nx.number_of_nodes(G))\r\n",
    "    node_step_nbr_2_result.append(get_sir_result(G, node_step_nbr_2, topk, avg,infect_prob, cover_prob, max_iter)[-1] / nx.number_of_nodes(G))\r\n"
   ],
   "outputs": [
    {
     "output_type": "stream",
     "name": "stderr",
     "text": [
      "100%|██████████| 6/6 [00:01<00:00,  3.13it/s]\n"
     ]
    }
   ],
   "metadata": {
    "collapsed": true
   }
  },
  {
   "cell_type": "code",
   "execution_count": 30,
   "source": [
    "%matplotlib inline\r\n",
    "plt.title('network:{}   avg:{}  max:{}   infect_prob:{}'.format(data_file, avg, max_, infect_prob))\r\n",
    "plt.plot(np.array(range(10, 21, 2)) / 10, degreerank_result, 'r-o', label='degree', linewidth=1.0, )\r\n",
    "# plt.plot(np.array(range(10, 21, 2)) / 10, degreerank_non_result, 'r--o', label='degree_non', linewidth=1.0, )\r\n",
    "# plt.plot(np.array(range(10, 21, 2)) / 10, vote_result, 'y-s', label='vote', linewidth=1.0, )\r\n",
    "# plt.plot(np.array(range(10, 21, 2)) / 10, vote_non_result, 'y--s', label='vote_non', linewidth=1.0, )\r\n",
    "# plt.plot(np.array(range(10, 21, 2)) / 10, newmethod_result, 'b-^', label='EnRenew', linewidth=1.0, )\r\n",
    "plt.plot(np.array(range(10, 21, 2)) / 10, kshell_result, 'g-p', label='kshell', linewidth=1.0, )\r\n",
    "# plt.plot(np.array(range(10, 21, 2)) / 10, kshell_non_result, 'g--p', label='kshell_non', linewidth=1.0, )\r\n",
    "plt.plot(np.array(range(10, 21, 2)) / 10, evbrM_result, 'c--o', label='evbrM', linewidth=1.0, )\r\n",
    "plt.plot(np.array(range(10, 21, 2)) / 10, node_strength_rank_1_result, 'b--o', label='ns_1', linewidth=1.0, )\r\n",
    "plt.plot(np.array(range(10, 21, 2)) / 10, node_strength_rank_2_result, 'b-o', label='ns_2', linewidth=1.0, )\r\n",
    "plt.plot(np.array(range(10, 21, 2)) / 10, node_step_nbr_1_result, 'g--o', label='sn_1', linewidth=1.0, )\r\n",
    "plt.plot(np.array(range(10, 21, 2)) / 10, node_step_nbr_2_result, 'g-o', label='sn_2', linewidth=1.0, )\r\n",
    "plt.legend(loc=\"upper left\")\r\n",
    "plt.ylabel(\"$F(t_c)$\")\r\n",
    "plt.xlabel('$p$')\r\n",
    "plt.show()\r\n"
   ],
   "outputs": [
    {
     "output_type": "display_data",
     "data": {
      "image/png": "[encoded data removed]",
      "text/plain": [
       "<Figure size 432x288 with 1 Axes>"
      ]
     },
     "metadata": {
      "needs_background": "light"
     }
    }
   ],
   "metadata": {
    "collapsed": true
   }
  },
  {
   "cell_type": "code",
   "execution_count": 12,
   "source": [
    "print(opti_rank)\r\n",
    "node_list = [i for i,j in list(G.degree())]\r\n",
    "opti_rank_nodes = [i for i, j in opti_rank]\r\n",
    "opti_rank_set = sorted(set(opti_rank_nodes), key=opti_rank_nodes.index)\r\n",
    "print(opti_rank_set)\r\n",
    "chosen_1 = [(i, n_neighbor(G, i, 1)) for (i, j) in opti_rank]\r\n",
    "chosen_2 = [(i, n_neighbor(G, i, 2)) for (i, j) in opti_rank]\r\n",
    "print(chosen_1,\"...\",chosen_2)\r\n",
    "remainder_nodes = list(set(node_list) - set(opti_rank_nodes))\r\n"
   ],
   "outputs": [
    {
     "output_type": "stream",
     "name": "stdout",
     "text": [
      "[('27', 0.9985005730418679), ('5', 0.7549436527724699), ('12', 0.75434887813017), ('28', 0.6538494099071029), ('2', 0.5865976594398602)]\n",
      "['27', '5', '12', '28', '2']\n",
      "[('27', ['28', '26', '33']), ('5', ['2', '6', '7', '8']), ('12', ['11', '13', '22', '32']), ('28', ['17', '27', '29']), ('2', ['1', '3', '4', '5'])] ... [('27', ['17', '29', '25', '28', '26', '34', '33']), ('5', ['10', '1', '14', '2', '3', '4', '6', '7', '8', '9']), ('12', ['13', '10', '11', '14', '20', '21', '22', '32', '9']), ('28', ['18', '19', '17', '27', '21', '29', '26', '33']), ('2', ['1', '15', '3', '4', '5', '6', '7', '8'])]\n"
     ]
    },
    {
     "output_type": "execute_result",
     "data": {
      "text/plain": [
       "['1',\n",
       " '26',\n",
       " '8',\n",
       " '14',\n",
       " '19',\n",
       " '25',\n",
       " '18',\n",
       " '34',\n",
       " '24',\n",
       " '30',\n",
       " '23',\n",
       " '11',\n",
       " '15',\n",
       " '4',\n",
       " '20',\n",
       " '22',\n",
       " '17',\n",
       " '10',\n",
       " '31',\n",
       " '6',\n",
       " '7',\n",
       " '16',\n",
       " '3',\n",
       " '21',\n",
       " '9',\n",
       " '32',\n",
       " '29',\n",
       " '33',\n",
       " '13']"
      ]
     },
     "metadata": {},
     "execution_count": 12
    }
   ],
   "metadata": {}
  },
  {
   "cell_type": "code",
   "execution_count": 7,
   "source": [],
   "outputs": [
    {
     "output_type": "execute_result",
     "data": {
      "text/plain": [
       "[('27', ['17', '25', '28', '26', '29', '33', '34']),\n",
       " ('5', ['14', '10', '1', '2', '3', '4', '6', '7', '8', '9']),\n",
       " ('12', ['13', '14', '10', '11', '20', '21', '22', '32', '9']),\n",
       " ('28', ['17', '19', '18', '29', '26', '27', '21', '33']),\n",
       " ('2', ['15', '1', '3', '4', '5', '6', '7', '8'])]"
      ]
     },
     "metadata": {},
     "execution_count": 7
    }
   ],
   "metadata": {}
  },
  {
   "cell_type": "code",
   "execution_count": 50,
   "source": [
    "sorted(['26', '28', '33'], key=lambda x: int(x[0])"
   ],
   "outputs": [
    {
     "output_type": "execute_result",
     "data": {
      "text/plain": [
       "['26', '28', '33']"
      ]
     },
     "metadata": {},
     "execution_count": 50
    }
   ],
   "metadata": {}
  }
 ],
 "metadata": {
  "kernelspec": {
   "name": "python3",
   "display_name": "Python 3.9.6 64-bit ('myenv': conda)"
  },
  "language_info": {
   "codemirror_mode": {
    "name": "ipython",
    "version": 3
   },
   "file_extension": ".py",
   "mimetype": "text/x-python",
   "name": "python",
   "nbconvert_exporter": "python",
   "pygments_lexer": "ipython3",
   "version": "3.9.6"
  },
  "interpreter": {
   "hash": "67e6a4aa325bcd0e0aaaeb4e623fbf1760d37df0ebdc8dc3b72d0ab217e1e634"
  }
 },
 "nbformat": 4,
 "nbformat_minor": 2
}