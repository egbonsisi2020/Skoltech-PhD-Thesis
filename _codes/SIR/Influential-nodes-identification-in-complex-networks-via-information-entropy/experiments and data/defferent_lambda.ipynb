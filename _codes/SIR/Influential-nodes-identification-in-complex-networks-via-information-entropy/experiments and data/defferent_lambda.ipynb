{
 "cells": [
  {
   "cell_type": "code",
   "execution_count": 1,
   "metadata": {
    "collapsed": true
   },
   "outputs": [],
   "source": [
    "import collections\n",
    "import networkx as nx\n",
    "import sys\n",
    "import os\n",
    "# dir_path = os.path.dirname(os.path.dirname(os.path.abspath(__file__)))\n",
    "# sys.path.append(dir_path)\n",
    "sys.path.append(r\"C:\\Users\\egbonsisi\\ControllerPlacementCodes\\Skoltech-PhD-Thesis\\_codes\\SIR\\Influential-nodes-identification-in-complex-networks-via-information-entropy\")\n",
    "from algorithms import *\n",
    "import matplotlib.pyplot as plt\n",
    "import numpy as np\n",
    "from tqdm import tqdm\n",
    "import pickle"
   ]
  },
  {
   "cell_type": "code",
   "execution_count": 2,
   "metadata": {
    "collapsed": true
   },
   "outputs": [
    {
     "name": "stdout",
     "output_type": "stream",
     "text": [
      "34 42\n"
     ]
    }
   ],
   "source": [
    "data_file = 'topo' # 'HepPh'\n",
    "G = clean_data(data_file)\n",
    "print(nx.number_of_nodes(G), nx.number_of_edges(G))\n"
   ]
  },
  {
   "cell_type": "markdown",
   "metadata": {},
   "source": [
    "Our Model"
   ]
  },
  {
   "cell_type": "code",
   "execution_count": 3,
   "metadata": {},
   "outputs": [
    {
     "name": "stdout",
     "output_type": "stream",
     "text": [
      "[('27', 0.9985005730418679), ('5', 0.7549436527724699), ('12', 0.75434887813017), ('28', 0.6538494099071029), ('2', 0.5865976594398602)] [('27', 0.9985005730418679), ('5', 0.7549436527724699), ('12', 0.75434887813017), ('28', 0.6538494099071029), ('2', 0.5865976594398602), ('8', -0.050453003066369795), ('29', -0.08741203815217125), ('11', -0.09476383267522936), ('33', -0.1785220459582076), ('16', -0.17915011452858887), ('22', -0.21433411540053987), ('14', -0.26103242352740835), ('24', -0.2741646003757832), ('26', -0.3314800344449304), ('7', -0.34776492282853405), ('21', -0.4675182149424362), ('6', -0.5222256043810737), ('23', -0.6131195019583244), ('13', -0.657028903456349), ('32', -0.7094072525888995), ('3', -0.7305873447843267), ('34', -0.7897546865705557), ('15', -0.7933125112241983), ('31', -0.7953706107202866), ('25', -0.797530665360725), ('17', -0.79836359602605), ('19', -0.8073718135156049), ('10', -0.8165377332519864), ('9', -0.8454161947787605), ('4', -0.8715703385708794), ('20', -0.9550771860241506), ('30', -0.9929587931832465), ('1', -0.9981899589485623), ('18', -0.9985005730418679)]\n"
     ]
    }
   ],
   "source": [
    "geo_loc_data = get_geo_data(\"Internet2LatLong.csv\")\n",
    "edge_geo_data_combined = assign_location(G, geo_loc_data)\n",
    "\n",
    "# set edge attributes\n",
    "set_edge_attr(G, edge_geo_data_combined)\n",
    "\n",
    "# obtain the node degrees and edges weights to desired lengths\n",
    "tmp_t = list(range(1, 5))\n",
    "tmp_t_SN, tmp_t_hub = hubs_SN_NS(G, tmp_t)\n",
    "\n",
    "combined_dict, combined_dict_k_2 = varying_examples(\n",
    "    tmp_t_SN[0][1], tmp_t_hub[1][2])\n",
    "\n",
    "# Get ranked result\n",
    "opti_rank, ranked_nodes = rank_result(combined_dict, combined_dict_k_2)\n",
    "\n",
    "print(opti_rank, ranked_nodes)\n",
    "\n"
   ]
  },
  {
   "cell_type": "code",
   "execution_count": 4,
   "metadata": {},
   "outputs": [
    {
     "name": "stdout",
     "output_type": "stream",
     "text": [
      "[('27', 0.9990716857702072), ('12', 0.7521774512545699), ('28', 0.6472884650866126), ('5', 0.6337786782367147), ('2', 0.5535765265950587), ('14', 0.30063054474382783), ('33', 0.2528976073762923), ('29', 0.13711911853530595), ('8', 0.043660796048857975)] [('27', 0.9990716857702072), ('12', 0.7521774512545699), ('28', 0.6472884650866126), ('5', 0.6337786782367147), ('2', 0.5535765265950587), ('14', 0.30063054474382783), ('33', 0.2528976073762923), ('29', 0.13711911853530595), ('8', 0.043660796048857975), ('16', -0.01727933705784218), ('24', -0.03253151365901913), ('21', -0.046130911965912125), ('22', -0.09152478023316207), ('11', -0.13430976826411317), ('26', -0.19614551798233593), ('7', -0.338029764206116), ('6', -0.5175573227963409), ('13', -0.5267385510903164), ('34', -0.5562112662795381), ('25', -0.566337202934197), ('15', -0.5764054479043599), ('17', -0.6023229987294308), ('9', -0.6165024210892801), ('19', -0.6391684216342991), ('10', -0.6652583167384655), ('3', -0.6673418225385758), ('23', -0.6699109617423161), ('31', -0.6982779919001405), ('32', -0.7022316661440396), ('20', -0.8824593280908105), ('4', -0.9300678053367009), ('1', -0.9955879046600997), ('18', -0.9990716857702072), ('30', -0.9998598133208871)]\n"
     ]
    }
   ],
   "source": [
    "geo_loc_data = get_geo_data(\"Internet2LatLong.csv\")\n",
    "edge_geo_data_combined = assign_location(G, geo_loc_data)\n",
    "\n",
    "# set edge attributes\n",
    "set_edge_attr(G, edge_geo_data_combined)\n",
    "\n",
    "# obtain the node degrees and edges weights to desired lengths\n",
    "tmp_t = list(range(1, 5))\n",
    "tmp_t_SN, tmp_t_hub = hubs_SN_NS(G, tmp_t)\n",
    "\n",
    "combined_dict, combined_dict_k_2 = varying_examples(\n",
    "    tmp_t_SN[0][1], tmp_t_hub[2][3])\n",
    "\n",
    "# Get ranked result\n",
    "opti_rank, ranked_nodes = rank_result(combined_dict, combined_dict_k_2)\n",
    "\n",
    "print(opti_rank, ranked_nodes)"
   ]
  },
  {
   "cell_type": "code",
   "execution_count": 5,
   "metadata": {},
   "outputs": [
    {
     "name": "stdout",
     "output_type": "stream",
     "text": [
      "[('27', 0.999318769278706), ('12', 0.6958405252824442), ('33', 0.5655232515939603), ('28', 0.5012289050128717), ('16', 0.44559318009078763), ('14', 0.3414173632384053), ('21', 0.26883754127502507), ('2', 0.24857189713534888), ('29', 0.14199882718612516), ('24', 0.08580456142780357), ('5', 0.057044671917930945), ('22', 0.024171378561747725)] [('27', 0.999318769278706), ('12', 0.6958405252824442), ('33', 0.5655232515939603), ('28', 0.5012289050128717), ('16', 0.44559318009078763), ('14', 0.3414173632384053), ('21', 0.26883754127502507), ('2', 0.24857189713534888), ('29', 0.14199882718612516), ('24', 0.08580456142780357), ('5', 0.057044671917930945), ('22', 0.024171378561747725), ('11', -0.07011659092109201), ('26', -0.12793293858199828), ('8', -0.14558334365415732), ('13', -0.24302223436585801), ('7', -0.25838815531696635), ('34', -0.29567288484086535), ('19', -0.4305104071625525), ('25', -0.45301339228380105), ('9', -0.5081504754810826), ('15', -0.5226743966662217), ('31', -0.5233680848725394), ('17', -0.5363037142341739), ('6', -0.6065798179079291), ('23', -0.6408981601316661), ('3', -0.6426721806910274), ('10', -0.6888918310107575), ('32', -0.7392237294994146), ('18', -0.8404315645818933), ('20', -0.846469081564718), ('4', -0.9665670174732828), ('30', -0.9683689007078888), ('1', -0.9999380515860963)]\n"
     ]
    }
   ],
   "source": [
    "geo_loc_data = get_geo_data(\"Internet2LatLong.csv\")\n",
    "edge_geo_data_combined = assign_location(G, geo_loc_data)\n",
    "\n",
    "# set edge attributes\n",
    "set_edge_attr(G, edge_geo_data_combined)\n",
    "\n",
    "# obtain the node degrees and edges weights to desired lengths\n",
    "tmp_t = list(range(1, 5))\n",
    "tmp_t_SN, tmp_t_hub = hubs_SN_NS(G, tmp_t)\n",
    "\n",
    "combined_dict, combined_dict_k_2 = varying_examples(\n",
    "    tmp_t_SN[0][1], tmp_t_hub[3][4])\n",
    "\n",
    "# Get ranked result\n",
    "opti_rank, ranked_nodes = rank_result(combined_dict, combined_dict_k_2)\n",
    "\n",
    "print(opti_rank, ranked_nodes)"
   ]
  },
  {
   "cell_type": "code",
   "execution_count": 6,
   "metadata": {
    "collapsed": true
   },
   "outputs": [
    {
     "name": "stdout",
     "output_type": "stream",
     "text": [
      "12\n",
      "degreerank:  [('2', ' '), ('5', ' '), ('12', ' '), ('6', ' '), ('7', ' '), ('8', ' '), ('14', ' '), ('11', ' '), ('16', ' '), ('24', ' '), ('28', ' '), ('19', ' ')]\n",
      "degreerank_non : [('2', ' '), ('12', ' '), ('6', ' '), ('8', ' '), ('16', ' '), ('28', ' '), ('19', ' '), ('21', ' '), ('10', ' '), ('23', ' '), ('25', ' '), ('33', ' ')]\n",
      "node_strength_rank_1:  [('27', 88.175), ('28', 40.637), ('12', 34.978), ('26', 30.902), ('33', 30.81), ('23', 29.957), ('5', 29.038), ('22', 28.059), ('31', 20.381), ('21', 19.35), ('6', 19.016), ('14', 18.436)]\n",
      "node_strength_rank_2:  [('27', 220.161), ('28', 166.328), ('33', 130.799), ('22', 127.098), ('26', 114.42500000000001), ('5', 99.125), ('12', 98.993), ('8', 87.92999999999998), ('29', 84.643), ('11', 83.99700000000001), ('23', 79.88900000000001), ('16', 76.762)]\n",
      "node_step_nbr_1:  [('2', 4), ('5', 4), ('12', 4), ('6', 3), ('7', 3), ('8', 3), ('14', 3), ('11', 3), ('16', 3), ('24', 3), ('28', 3), ('19', 3)]\n",
      "node_step_nbr_2:  [('5', 10), ('8', 9), ('12', 9), ('29', 9), ('2', 8), ('14', 8), ('11', 8), ('16', 8), ('28', 8), ('7', 7), ('13', 7), ('22', 7)]\n",
      "newmethod_rank:  [('5', 0.9097548562597484), ('12', 0.7276923667828582), ('29', 0.6539714380359193), ('14', 0.6058815878364635), ('24', 0.5577917376370076), ('27', 0.5577917376370076), ('4', 0.47377389756913546), ('10', 0.4359809586906129), ('9', 0.4359809586906129), ('3', 0.4256840473696797), ('17', 0.38789110849115704), ('20', 0.38789110849115704)]\n",
      "kshell_rank:  [('2', ' '), ('5', ' '), ('12', ' '), ('6', ' '), ('7', ' '), ('8', ' '), ('14', ' '), ('11', ' '), ('16', ' '), ('24', ' '), ('28', ' '), ('19', ' ')]\n",
      "kshell_rank_non:  [('2', ' '), ('12', ' '), ('6', ' '), ('8', ' '), ('16', ' '), ('28', ' '), ('19', ' '), ('21', ' '), ('10', ' '), ('23', ' '), ('25', ' '), ('33', ' ')]\n"
     ]
    }
   ],
   "source": [
    "max_ = len(opti_rank)/nx.number_of_nodes(G)  # 0.16\n",
    "max_topk = round(max_ * nx.number_of_nodes(G))\n",
    "print(max_topk)\n",
    "\n",
    "degreerank = degree(G, max_topk)\n",
    "print('degreerank: ', degreerank)\n",
    "degreerank_non = degree_non(G, max_topk)\n",
    "print('degreerank_non :', degreerank_non)\n",
    "\n",
    "node_strength_rank_1 = sorted([(i, sum(hub_information(G, i, 1))) for (i, j) in list(G.degree())],\n",
    "                              key=lambda item: item[1], reverse=True)[:max_topk]\n",
    "print(\"node_strength_rank_1: \",node_strength_rank_1)\n",
    "\n",
    "node_strength_rank_2 = sorted([(i, sum(hub_information(G, i, 2))) for (i, j) in list(G.degree())],\n",
    "                              key=lambda item: item[1], reverse=True)[:max_topk]\n",
    "print(\"node_strength_rank_2: \", node_strength_rank_2)\n",
    "\n",
    "node_step_nbr_1 = sorted([(i, len(n_neighbor(G, i, 1))) for (i, j) in list(G.degree())],\n",
    "                         key=lambda item: item[1], reverse=True)[:max_topk]\n",
    "print(\"node_step_nbr_1: \",node_step_nbr_1)\n",
    "\n",
    "node_step_nbr_2 = sorted([(i, len(n_neighbor(G, i, 2))) for (i, j) in list(G.degree())],\n",
    "                         key=lambda item: item[1], reverse=True)[:max_topk]\n",
    "print(\"node_step_nbr_2: \",node_step_nbr_2)\n",
    "\n",
    "\n",
    "newmethod_rank = EnRenewRank(G, max_topk, 2)\n",
    "print('newmethod_rank: ', newmethod_rank)\n",
    "\n",
    "kshell_rank = kshell(G, max_topk)\n",
    "print('kshell_rank: ', kshell_rank)\n",
    "kshell_rank_non = kshell_non(G, max_topk)\n",
    "print('kshell_rank_non: ', kshell_rank_non)\n"
   ]
  },
  {
   "cell_type": "code",
   "execution_count": 7,
   "metadata": {},
   "outputs": [
    {
     "name": "stdout",
     "output_type": "stream",
     "text": [
      "12\n",
      "newmethod_rank:  [('5', 0.9097548562597484), ('12', 0.7276923667828582), ('29', 0.6539714380359193), ('14', 0.6058815878364635), ('24', 0.5577917376370076), ('27', 0.5577917376370076), ('4', 0.47377389756913546), ('10', 0.4359809586906129), ('9', 0.4359809586906129), ('3', 0.4256840473696797), ('17', 0.38789110849115704), ('20', 0.38789110849115704)]\n",
      "kshell_rank:  [('2', ' '), ('5', ' '), ('12', ' '), ('6', ' '), ('7', ' '), ('8', ' '), ('14', ' '), ('11', ' '), ('16', ' '), ('24', ' '), ('28', ' '), ('19', ' ')]\n",
      "kshell_rank_non:  [('2', ' '), ('12', ' '), ('6', ' '), ('8', ' '), ('16', ' '), ('28', ' '), ('19', ' '), ('21', ' '), ('10', ' '), ('23', ' '), ('25', ' '), ('33', ' ')]\n"
     ]
    }
   ],
   "source": [
    "max_ = len(opti_rank)/nx.number_of_nodes(G)  # 0.16\n",
    "max_topk = round(max_ * nx.number_of_nodes(G))\n",
    "print(max_topk)\n",
    "\n",
    "degreerank = degree(G, max_topk)\n",
    "# print('degreerank: ', degreerank)\n",
    "degreerank_non = degree_non(G, max_topk)\n",
    "# print('degreerank_non :', degreerank_non)\n",
    "\n",
    "node_strength_rank_1 = sorted([(i, sum(hub_information(G, i, 1))) for (i, j) in list(G.degree())],\n",
    "                              key=lambda item: item[1], reverse=True)[:max_topk]\n",
    "# print(\"node_strength_rank_1: \",node_strength_rank_1)\n",
    "\n",
    "node_strength_rank_2 = sorted([(i, sum(hub_information(G, i, 2))) for (i, j) in list(G.degree())],\n",
    "                              key=lambda item: item[1], reverse=True)[:max_topk]\n",
    "# print(\"node_strength_rank_2: \", node_strength_rank_2)\n",
    "\n",
    "node_step_nbr_1 = sorted([(i, len(n_neighbor(G, i, 1))) for (i, j) in list(G.degree())],\n",
    "                         key=lambda item: item[1], reverse=True)[:max_topk]\n",
    "# print(\"node_step_nbr_1: \",node_step_nbr_1)\n",
    "\n",
    "node_step_nbr_2 = sorted([(i, len(n_neighbor(G, i, 2))) for (i, j) in list(G.degree())],\n",
    "                         key=lambda item: item[1], reverse=True)[:max_topk]\n",
    "# print(\"node_step_nbr_2: \",node_step_nbr_2)\n",
    "\n",
    "\n",
    "newmethod_rank = EnRenewRank(G, max_topk, 2)\n",
    "print('newmethod_rank: ', newmethod_rank)\n",
    "\n",
    "kshell_rank = kshell(G, max_topk)\n",
    "print('kshell_rank: ', kshell_rank)\n",
    "kshell_rank_non = kshell_non(G, max_topk)\n",
    "print('kshell_rank_non: ', kshell_rank_non)"
   ]
  },
  {
   "cell_type": "markdown",
   "metadata": {},
   "source": [
    "## Different Lambda $(\\lambda)$"
   ]
  },
  {
   "cell_type": "code",
   "execution_count": 8,
   "metadata": {
    "collapsed": true
   },
   "outputs": [
    {
     "name": "stderr",
     "output_type": "stream",
     "text": [
      "100%|██████████| 6/6 [00:08<00:00,  1.48s/it]\n"
     ]
    }
   ],
   "source": [
    "infect_prob = compute_probability(G) * 1.5\n",
    "avg = 100\n",
    "max_iter = 200000\n",
    "topk = round(max_ * nx.number_of_nodes(G))\n",
    "\n",
    "degreerank_result = []\n",
    "degreerank_non_result = []\n",
    "vote_result = []\n",
    "vote_non_result = []\n",
    "newmethod_result = []\n",
    "newmethod_non_result = []\n",
    "kshell_result = []\n",
    "kshell_non_result = []\n",
    "evbrM_result = []\n",
    "node_strength_rank_1_result = []\n",
    "node_strength_rank_2_result = []\n",
    "node_step_nbr_1_result = []\n",
    "node_step_nbr_2_result = []\n",
    "# atio = [a/10 for a in list(range(10, 21, 2))]\n",
    "\n",
    "for a in tqdm(range(10, 21, 2)):\n",
    "    atio = a / 10\n",
    "    cover_prob = infect_prob / atio\n",
    "    degreerank_result.append(get_sir_result(G, degreerank, topk, avg, infect_prob, cover_prob, max_iter)[-1] / nx.number_of_nodes(G))\n",
    "    # degreerank_non_result.append(get_sir_result(G, degreerank_non, topk, avg, infect_prob, cover_prob, max_iter)[-1] / nx.number_of_nodes(G))\n",
    "    # vote_result.append(get_sir_result(G, vote, topk, avg, infect_prob, cover_prob, max_iter)[-1] / nx.number_of_nodes(G))\n",
    "    # vote_non_result.append(get_sir_result(G, vote_non, topk, avg, infect_prob, cover_prob, max_iter)[-1] / nx.number_of_nodes(G))\n",
    "    newmethod_result.append(get_sir_result(G, newmethod_rank, topk, avg, infect_prob, cover_prob, max_iter)[-1] / nx.number_of_nodes(G))\n",
    "    kshell_result.append(get_sir_result(G, kshell_rank, topk, avg, infect_prob, cover_prob, max_iter)[-1] / nx.number_of_nodes(G))\n",
    "    kshell_non_result.append(get_sir_result(G, kshell_rank_non, topk, avg, infect_prob, cover_prob, max_iter)[-1] / nx.number_of_nodes(G))\n",
    "    evbrM_result.append(get_sir_result(G, opti_rank, topk, avg,infect_prob, cover_prob, max_iter)[-1] / nx.number_of_nodes(G))\n",
    "    node_strength_rank_1_result.append(get_sir_result(G, node_strength_rank_1, topk, avg,infect_prob, cover_prob, max_iter)[-1] / nx.number_of_nodes(G))\n",
    "    node_strength_rank_2_result.append(get_sir_result(G, node_strength_rank_2, topk, avg,infect_prob, cover_prob, max_iter)[-1] / nx.number_of_nodes(G))\n",
    "    node_step_nbr_1_result.append(get_sir_result(G, node_step_nbr_1, topk, avg,infect_prob, cover_prob, max_iter)[-1] / nx.number_of_nodes(G))\n",
    "    node_step_nbr_2_result.append(get_sir_result(G, node_step_nbr_2, topk, avg,infect_prob, cover_prob, max_iter)[-1] / nx.number_of_nodes(G))\n"
   ]
  },
  {
   "cell_type": "code",
   "execution_count": 9,
   "metadata": {
    "collapsed": true
   },
   "outputs": [
    {
     "data": {
      "image/png": "[encoded data removed]",
      "text/plain": [
       "<Figure size 432x288 with 1 Axes>"
      ]
     },
     "metadata": {
      "needs_background": "light"
     },
     "output_type": "display_data"
    }
   ],
   "source": [
    "%matplotlib inline\n",
    "plt.title('network:{}   avg:{}  max:{}   infect_prob:{}'.format(data_file, avg, max_, infect_prob))\n",
    "plt.plot(np.array(range(10, 21, 2)) / 10, degreerank_result, 'r-o', label='degree', linewidth=1.0, )\n",
    "# plt.plot(np.array(range(10, 21, 2)) / 10, degreerank_non_result, 'r--o', label='degree_non', linewidth=1.0, )\n",
    "# plt.plot(np.array(range(10, 21, 2)) / 10, vote_result, 'y-s', label='vote', linewidth=1.0, )\n",
    "# plt.plot(np.array(range(10, 21, 2)) / 10, vote_non_result, 'y--s', label='vote_non', linewidth=1.0, )\n",
    "# plt.plot(np.array(range(10, 21, 2)) / 10, newmethod_result, 'b-^', label='EnRenew', linewidth=1.0, )\n",
    "plt.plot(np.array(range(10, 21, 2)) / 10, kshell_result, 'g-p', label='kshell', linewidth=1.0, )\n",
    "# plt.plot(np.array(range(10, 21, 2)) / 10, kshell_non_result, 'g--p', label='kshell_non', linewidth=1.0, )\n",
    "plt.plot(np.array(range(10, 21, 2)) / 10, evbrM_result, 'c--o', label='evbrM', linewidth=1.0, )\n",
    "plt.plot(np.array(range(10, 21, 2)) / 10, node_strength_rank_1_result, 'b--o', label='ns_1', linewidth=1.0, )\n",
    "plt.plot(np.array(range(10, 21, 2)) / 10, node_strength_rank_2_result, 'b-o', label='ns_2', linewidth=1.0, )\n",
    "plt.plot(np.array(range(10, 21, 2)) / 10, node_step_nbr_1_result, 'g--o', label='sn_1', linewidth=1.0, )\n",
    "plt.plot(np.array(range(10, 21, 2)) / 10, node_step_nbr_2_result, 'g-o', label='sn_2', linewidth=1.0, )\n",
    "plt.legend(loc=\"upper left\")\n",
    "plt.ylabel(\"$F(t_c)$\")\n",
    "plt.xlabel('$p$')\n",
    "plt.show()\n"
   ]
  },
  {
   "cell_type": "code",
   "execution_count": 8,
   "metadata": {},
   "outputs": [
    {
     "data": {
      "text/plain": [
       "[('27', {'23', '24', '25', '26', '31', '33', '34'}),\n",
       " ('5', {'10', '14', '16', '6', '7', '8', '9'}),\n",
       " ('12', {'11', '13', '20', '21', '22', '30', '32'}),\n",
       " ('28', {'17', '18', '19', '29'}),\n",
       " ('2', {'1', '15', '3', '4'})]"
      ]
     },
     "execution_count": 8,
     "metadata": {},
     "output_type": "execute_result"
    }
   ],
   "source": [
    "node_cluster = cluster_optimal_nodes(G, opti_rank)\n",
    "node_cluster"
   ]
  }
 ],
 "metadata": {
  "interpreter": {
   "hash": "b3ba2566441a7c06988d0923437866b63cedc61552a5af99d1f4fb67d367b25f"
  },
  "kernelspec": {
   "display_name": "Python 3.8.8 64-bit ('base': conda)",
   "name": "python3"
  },
  "language_info": {
   "codemirror_mode": {
    "name": "ipython",
    "version": 3
   },
   "file_extension": ".py",
   "mimetype": "text/x-python",
   "name": "python",
   "nbconvert_exporter": "python",
   "pygments_lexer": "ipython3",
   "version": "3.8.8"
  }
 },
 "nbformat": 4,
 "nbformat_minor": 2
}
