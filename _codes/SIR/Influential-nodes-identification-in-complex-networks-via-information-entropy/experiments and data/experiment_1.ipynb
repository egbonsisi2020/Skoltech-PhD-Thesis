{
 "cells": [
  {
   "cell_type": "code",
   "execution_count": 1,
   "source": [
    "import networkx as nx\r\n",
    "import sys\r\n",
    "sys.path.append(r'c:\\\\Users\\\\rotim\\\\OneDrive\\\\Documents\\\\Reading\\\\graph-code\\\\Skoltech-PhD-Thesis\\\\_codes\\\\SIR\\\\Influential-nodes-identification-in-complex-networks-via-information-entropy')\r\n",
    "from algorithms import *\r\n",
    "import matplotlib.pyplot as plt\r\n",
    "import numpy as np\r\n",
    "from tqdm import tqdm\r\n",
    "import pickle"
   ],
   "outputs": [],
   "metadata": {}
  },
  {
   "cell_type": "code",
   "execution_count": 2,
   "source": [
    "data_file = 'topo'  # 'HepPh'\r\n",
    "G = clean_data(data_file)\r\n",
    "print(nx.number_of_nodes(G), nx.number_of_edges(G))\r\n"
   ],
   "outputs": [
    {
     "output_type": "stream",
     "name": "stdout",
     "text": [
      "34 42\n"
     ]
    }
   ],
   "metadata": {}
  },
  {
   "cell_type": "code",
   "execution_count": 3,
   "source": [
    "geo_loc_data = get_geo_data(\"Internet2LatLong.csv\")\r\n",
    "edge_geo_data_combined = assign_location(G, geo_loc_data)\r\n",
    "\r\n",
    "# set edge attributes\r\n",
    "set_edge_attr(G, edge_geo_data_combined)"
   ],
   "outputs": [],
   "metadata": {}
  },
  {
   "cell_type": "markdown",
   "source": [
    "### Degree, Two Step Neghbor $D - 2SN$"
   ],
   "metadata": {}
  },
  {
   "cell_type": "code",
   "execution_count": 4,
   "source": [
    "d = [(i, len(n_neighbor(G, i, 1)))\r\n",
    "          for (i, j) in sorted(list(G.degree()), key=lambda item: int(item[0]))]\r\n",
    "two_sn = [(i, len(n_neighbor(G, i, 2)))\r\n",
    "          for (i, j) in sorted(list(G.degree()), key=lambda item: int(item[0]))]\r\n",
    "combined_dict_d, combined_dict_k_2 = varying_examples(d, two_sn)\r\n",
    "\r\n",
    "# Get ranked result\r\n",
    "opti_rank_m1, ranked_nodes_m1 = rank_result(combined_dict_d, combined_dict_k_2)\r\n",
    "opti_rank_m1\r\n",
    "ranked_nodes_m1\r\n"
   ],
   "outputs": [
    {
     "output_type": "execute_result",
     "data": {
      "text/plain": [
       "[('5', 0.9962640099626401),\n",
       " ('12', 0.9672830725462306),\n",
       " ('2', 0.9286898839137645),\n",
       " ('8', 0.7955251709136109),\n",
       " ('29', 0.7955251709136109),\n",
       " ('11', 0.6096752816434725),\n",
       " ('14', 0.6096752816434725),\n",
       " ('16', 0.6096752816434725),\n",
       " ('28', 0.6096752816434725),\n",
       " ('7', 0.39744499645138387),\n",
       " ('19', 0.39744499645138387),\n",
       " ('24', 0.39744499645138387),\n",
       " ('27', 0.39744499645138387),\n",
       " ('6', 0.15278838808250583),\n",
       " ('21', 0.15278838808250583)]"
      ]
     },
     "metadata": {},
     "execution_count": 4
    }
   ],
   "metadata": {}
  },
  {
   "cell_type": "code",
   "execution_count": 18,
   "source": [
    "ns_over_d = [(i, sum(hub_information(G, i, 1))/len(n_neighbor(G, i, 1)))\r\n",
    " for (i, j) in sorted(list(G.degree()), key=lambda item: int(item[0]))]\r\n",
    "\r\n",
    "combined_dict, combined_dict_k_2 = varying_examples(ns_over_d, two_sn)\r\n",
    "\r\n",
    "# Get ranked result\r\n",
    "opti_rank_m2, ranked_nodes_m2 = rank_result(combined_dict, combined_dict_k_2)\r\n",
    "opti_rank_m2\r\n",
    "# ranked_nodes_m2\r\n"
   ],
   "outputs": [
    {
     "output_type": "execute_result",
     "data": {
      "text/plain": [
       "[('27', 0.9844851618495875),\n",
       " ('5', 0.7345027474546084),\n",
       " ('28', 0.27345263505673767),\n",
       " ('12', 0.2674557456648337),\n",
       " ('22', 0.029837483220877647)]"
      ]
     },
     "metadata": {},
     "execution_count": 18
    }
   ],
   "metadata": {}
  },
  {
   "cell_type": "markdown",
   "source": [
    "### $D - WD$"
   ],
   "metadata": {}
  },
  {
   "cell_type": "code",
   "execution_count": 16,
   "source": [
    "w_d = [(i[0],i[1]-(j[1])) for i,j in zip(ns_over_d, two_sn)]\r\n",
    "combined_dict_w_d, combined_dict_k_w_d = varying_examples(d, w_d)\r\n",
    "\r\n",
    "# Get ranked result\r\n",
    "opti_rank_m3, ranked_nodes_m3 = rank_result(combined_dict_w_d, combined_dict_k_w_d)\r\n",
    "opti_rank_m3\r\n",
    "# ranked_nodes_m3\r\n"
   ],
   "outputs": [
    {
     "output_type": "execute_result",
     "data": {
      "text/plain": [
       "[('27', 0.9893353941267387),\n",
       " ('12', 0.4407547478381754),\n",
       " ('5', 0.10787190872467467),\n",
       " ('28', 0.07030551260082774)]"
      ]
     },
     "metadata": {},
     "execution_count": 16
    }
   ],
   "metadata": {}
  },
  {
   "cell_type": "markdown",
   "source": [
    "### $K - 2SN$"
   ],
   "metadata": {}
  },
  {
   "cell_type": "code",
   "execution_count": 21,
   "source": [
    "# obtain the node degrees and edges weights to desired lengths\r\n",
    "tmp_t = list(range(1, 5))\r\n",
    "tmp_t_SN, tmp_t_hub = hubs_SN_NS(G, tmp_t)\r\n",
    "\r\n",
    "combined_dict_m0, combined_dict_k_2 = varying_examples(\r\n",
    "    tmp_t_SN[0][1], tmp_t_hub[1][2])\r\n",
    "\r\n",
    "# Get ranked result\r\n",
    "opti_rank_m0, ranked_nodes_m0 = rank_result(combined_dict_m0, combined_dict_k_2)\r\n",
    "\r\n",
    "print(opti_rank_m0, ranked_nodes_m0)\r\n"
   ],
   "outputs": [
    {
     "output_type": "stream",
     "name": "stdout",
     "text": [
      "[('27', 0.9985005730418679), ('5', 0.7549436527724699), ('12', 0.75434887813017), ('28', 0.6538494099071029), ('2', 0.5865976594398602)] [('27', 0.9985005730418679), ('5', 0.7549436527724699), ('12', 0.75434887813017), ('28', 0.6538494099071029), ('2', 0.5865976594398602), ('8', -0.050453003066369795), ('29', -0.08741203815217125), ('11', -0.09476383267522936), ('33', -0.1785220459582076), ('16', -0.17915011452858887), ('22', -0.21433411540053987), ('14', -0.26103242352740835), ('24', -0.2741646003757832), ('26', -0.3314800344449304), ('7', -0.34776492282853405), ('21', -0.4675182149424362), ('6', -0.5222256043810737), ('23', -0.6131195019583244), ('13', -0.657028903456349), ('32', -0.7094072525888995), ('3', -0.7305873447843267), ('34', -0.7897546865705557), ('15', -0.7933125112241983), ('31', -0.7953706107202866), ('25', -0.797530665360725), ('17', -0.79836359602605), ('19', -0.8073718135156049), ('10', -0.8165377332519864), ('9', -0.8454161947787605), ('4', -0.8715703385708794), ('20', -0.9550771860241506), ('30', -0.9929587931832465), ('1', -0.9981899589485623), ('18', -0.9985005730418679)]\n"
     ]
    }
   ],
   "metadata": {}
  },
  {
   "cell_type": "markdown",
   "source": [
    "### Classical Model"
   ],
   "metadata": {}
  },
  {
   "cell_type": "code",
   "execution_count": 30,
   "source": [
    "max_ = 1\r\n",
    "max_topk = round(max_ * nx.number_of_nodes(G))\r\n",
    "newmethod_rank = EnRenewRank(G, max_topk, 2)\r\n"
   ],
   "outputs": [],
   "metadata": {}
  },
  {
   "cell_type": "code",
   "execution_count": 12,
   "source": [
    "infect_prob = compute_probability(G) * 1.5\r\n",
    "print(infect_prob)\r\n",
    "atio = 1.5\r\n",
    "cover_prob = infect_prob / atio\r\n",
    "avg = 100\r\n",
    "max_iter = 200000\r\n"
   ],
   "outputs": [
    {
     "output_type": "stream",
     "name": "stdout",
     "text": [
      "0.8873239436619718\n"
     ]
    }
   ],
   "metadata": {}
  },
  {
   "cell_type": "code",
   "execution_count": 8,
   "source": [
    "rates = [0.15, 0.3, 0.45, 0.6, 0.75, 0.9]\r\n",
    "topk_list = list(map(lambda x: round(nx.number_of_nodes(G) * x), rates))\r\n",
    "topk_list\r\n"
   ],
   "outputs": [
    {
     "output_type": "execute_result",
     "data": {
      "text/plain": [
       "[5, 10, 15, 20, 26, 31]"
      ]
     },
     "metadata": {},
     "execution_count": 8
    }
   ],
   "metadata": {}
  },
  {
   "cell_type": "markdown",
   "source": [
    "### Weighted Degree $WD  - 2SN$\r\n",
    "$Where  WD = (NS/D)$"
   ],
   "metadata": {}
  },
  {
   "cell_type": "code",
   "execution_count": 33,
   "source": [
    "m0_result = [get_sir_result(G, ranked_nodes_m0, k, avg, infect_prob, cover_prob, max_iter)[-1]/ nx.number_of_nodes(G) for k in topk_list]\r\n",
    "m1_result = [get_sir_result(G, ranked_nodes_m1, k, avg, infect_prob, cover_prob, max_iter)[-1]/ nx.number_of_nodes(G) for k in topk_list]\r\n",
    "m2_result = [get_sir_result(G, ranked_nodes_m2, k, avg, infect_prob, cover_prob, max_iter)[-1]/ nx.number_of_nodes(G) for k in topk_list]\r\n",
    "m3_result = [get_sir_result(G, ranked_nodes_m3, k, avg, infect_prob, cover_prob, max_iter)[-1]/ nx.number_of_nodes(G) for k in topk_list]\r\n",
    "newmethod_result = [get_sir_result(G,newmethod_rank, k, avg, infect_prob, cover_prob, max_iter)[-1]/ nx.number_of_nodes(G) for k in topk_list]\r\n",
    "\r\n"
   ],
   "outputs": [],
   "metadata": {}
  },
  {
   "cell_type": "code",
   "execution_count": 34,
   "source": [
    "%matplotlib inline\r\n",
    "plt.title(f'network:{data_file}   avg:{avg}  i/r:{atio}   infect_prob:{infect_prob}')\r\n",
    "plt.plot(np.array(topk_list) / nx.number_of_nodes(G), m0_result, 'g--o', label='D-2NS', linewidth=1.0, )\r\n",
    "plt.plot(np.array(topk_list) / nx.number_of_nodes(G), m1_result, 'b-o', label='D-2SN', linewidth=1.0, )\r\n",
    "plt.plot(np.array(topk_list) / nx.number_of_nodes(G), m2_result, 'r--o', label='WD-2SN', linewidth=1.0, )\r\n",
    "plt.plot(np.array(topk_list) / nx.number_of_nodes(G), m3_result, 'c--o', label='D-WD', linewidth=1.0, )\r\n",
    "plt.plot(np.array(topk_list) / nx.number_of_nodes(G), newmethod_result, 'y--o', label='Classical', linewidth=1.0, )\r\n",
    "plt.legend(loc=\"upper left\")\r\n",
    "plt.ylabel(\"$F(t_c)$\")\r\n",
    "plt.xlabel('$p$')\r\n",
    "plt.show()\r\n",
    "\r\n"
   ],
   "outputs": [
    {
     "output_type": "display_data",
     "data": {
      "image/png": "[encoded data removed]",
      "text/plain": [
       "<Figure size 432x288 with 1 Axes>"
      ]
     },
     "metadata": {
      "needs_background": "light"
     }
    }
   ],
   "metadata": {}
  }
 ],
 "metadata": {
  "orig_nbformat": 4,
  "language_info": {
   "name": "python",
   "version": "3.9.7",
   "mimetype": "text/x-python",
   "codemirror_mode": {
    "name": "ipython",
    "version": 3
   },
   "pygments_lexer": "ipython3",
   "nbconvert_exporter": "python",
   "file_extension": ".py"
  },
  "kernelspec": {
   "name": "python3",
   "display_name": "Python 3.9.7 64-bit ('myenv': conda)"
  },
  "interpreter": {
   "hash": "67e6a4aa325bcd0e0aaaeb4e623fbf1760d37df0ebdc8dc3b72d0ab217e1e634"
  }
 },
 "nbformat": 4,
 "nbformat_minor": 2
}