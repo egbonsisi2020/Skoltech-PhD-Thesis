{
 "cells": [
  {
   "cell_type": "code",
   "execution_count": 1,
   "metadata": {},
   "outputs": [],
   "source": [
    "import collections\n",
    "import networkx as nx\n",
    "import sys\n",
    "import os\n",
    "sys.path.append(r'c:\\\\Users\\\\rotim\\\\OneDrive\\\\Documents\\\\Reading\\\\graph-code\\\\Skoltech-PhD-Thesis\\\\_codes\\\\SIR\\\\Influential-nodes-identification-in-complex-networks-via-information-entropy')\n",
    "from algorithms import *\n",
    "import matplotlib.pyplot as plt\n",
    "import matplotlib.patches as patches\n",
    "import numpy as np\n",
    "from tqdm import tqdm\n",
    "import pickle"
   ]
  },
  {
   "cell_type": "code",
   "execution_count": 2,
   "metadata": {},
   "outputs": [
    {
     "name": "stdout",
     "output_type": "stream",
     "text": [
      "{'ABILENE': {'index': 0, 'nodes': 11, 'edges': 14}, 'ABVT': {'index': 1, 'nodes': 23, 'edges': 31}, 'AGIS': {'index': 2, 'nodes': 25, 'edges': 30}, 'ARN.GRAPHML': {'index': 3, 'nodes': 30, 'edges': 29}, 'BELLCANADA': {'index': 4, 'nodes': 48, 'edges': 64}, 'BELLSOUTH.GRAPHML': {'index': 5, 'nodes': 51, 'edges': 66}, 'BICS.GRAPHML': {'index': 6, 'nodes': 33, 'edges': 48}, 'CERNET.GRAPHML': {'index': 7, 'nodes': 41, 'edges': 58}, 'CESNET200706.GRAPHML': {'index': 8, 'nodes': 44, 'edges': 51}, 'CHINANET.GRAPHML': {'index': 9, 'nodes': 42, 'edges': 66}, 'COGENTCO.GRAPHML': {'index': 10, 'nodes': 197, 'edges': 243}, 'COLT.GRAPHML': {'index': 11, 'nodes': 153, 'edges': 177}, 'DELTACOM.GRAPHML': {'index': 12, 'nodes': 113, 'edges': 161}, 'GARR201110.GRAPHML': {'index': 13, 'nodes': 59, 'edges': 74}, 'GEANT2001': {'index': 14, 'nodes': 27, 'edges': 38}, 'GRNET.GRAPHML': {'index': 15, 'nodes': 37, 'edges': 42}, 'INTELLIFIBER.GRAPHML': {'index': 16, 'nodes': 73, 'edges': 95}, 'INTEROUTE.GRAPHML': {'index': 17, 'nodes': 110, 'edges': 148}, 'ION.GRAPHML': {'index': 18, 'nodes': 125, 'edges': 146}, 'JANETBACKBONE.GRAPHML': {'index': 19, 'nodes': 29, 'edges': 45}, 'KDL': {'index': 20, 'nodes': 754, 'edges': 895}, 'LATNET.GRAPHML': {'index': 21, 'nodes': 69, 'edges': 74}, 'MISSOURI.GRAPHML': {'index': 22, 'nodes': 67, 'edges': 83}, 'NIIF.GRAPHML': {'index': 23, 'nodes': 36, 'edges': 41}, 'NOEL.GRAPHML': {'index': 24, 'nodes': 19, 'edges': 25}, 'PIONIERL3.GRAPHML': {'index': 25, 'nodes': 38, 'edges': 45}, 'REDIRIS.GRAPHML': {'index': 26, 'nodes': 19, 'edges': 31}, 'RENATER2010.GRAPHML': {'index': 27, 'nodes': 43, 'edges': 56}, 'RHNET.GRAPHML': {'index': 28, 'nodes': 16, 'edges': 18}, 'RNP.GRAPHML': {'index': 29, 'nodes': 31, 'edges': 34}, 'ROEDUNETFIBRE.GRAPHML': {'index': 30, 'nodes': 48, 'edges': 52}, 'SINET.GRAPHML': {'index': 31, 'nodes': 74, 'edges': 76}, 'SPRINT': {'index': 32, 'nodes': 11, 'edges': 18}, 'SUNET.GRAPHML': {'index': 33, 'nodes': 26, 'edges': 32}, 'SURFNET.GRAPHML': {'index': 34, 'nodes': 50, 'edges': 68}, 'SWITCHL3.GRAPHML': {'index': 35, 'nodes': 42, 'edges': 63}, 'TATANLD.GRAPHML': {'index': 36, 'nodes': 145, 'edges': 186}, 'TINET.GRAPHML': {'index': 37, 'nodes': 53, 'edges': 89}, 'ULAKNET.GRAPHML': {'index': 38, 'nodes': 82, 'edges': 82}, 'UNINETT2010.GRAPHML': {'index': 39, 'nodes': 74, 'edges': 101}, 'USCARRIER': {'index': 40, 'nodes': 158, 'edges': 189}, 'USCARRIER.GRAPHML': {'index': 41, 'nodes': 158, 'edges': 189}, 'UUNET.GRAPHML': {'index': 42, 'nodes': 49, 'edges': 84}}\n"
     ]
    }
   ],
   "source": [
    "graph_collections, graph_name = read_graph(\"./test-graphs\")\n"
   ]
  },
  {
   "cell_type": "code",
   "execution_count": 3,
   "metadata": {},
   "outputs": [],
   "source": [
    "# India   145nodes 187edges #37\n",
    "# US carrier 158nodes   189edges # 41\n",
    "# Kentucky    754nodes   895edges # 20\n",
    "# Albeni  # 0\n",
    "# Geant  2001 #14\n",
    "# Bell Canada # 4\n",
    "# Abvt # 1\n",
    "# Agis # 2\n",
    "# 10, 18, 8\n",
    "# selection__= []\n",
    "# selection__=[i for i,j in enumerate(graph_name)]\n",
    "def selection__from_graph(graph_coll,graph_name_list,sel_=[]):\n",
    "    \"\"\"_summary_\n",
    "\n",
    "    Args:\n",
    "        graph_coll (_type_): _description_\n",
    "        sel_ (list, optional): _description_. Defaults to [].\n",
    "\n",
    "    Returns:\n",
    "        _type_: _description_\n",
    "    \"\"\"\n",
    "    if sel_ !=[]:\n",
    "        return [(j, graph_coll[k]) for i, j in enumerate(graph_name_list)\n",
    "                for k in sel_ if i == k]\n",
    "    else:\n",
    "        return [(i, j) for i, j in zip(graph_name_list, graph_coll)]\n"
   ]
  },
  {
   "cell_type": "code",
   "execution_count": 4,
   "metadata": {},
   "outputs": [],
   "source": [
    "G = graph_collections[1]\n",
    "# geo_loc_data = get_geo_data(\"Internet2LatLong.csv\")\n",
    "geo_loc_data = {k: {\"lat\": v.get('Latitude', 0), \"long\": v.get('Longitude', 0)}\n",
    "                for (k, v) in G.nodes(data=True)}\n",
    "# print(geo_loc_data)\n",
    "edge_geo_data_combined = assign_location(G, geo_loc_data)\n",
    "# set edge attributes\n",
    "set_edge_attr(G, edge_geo_data_combined)\n",
    "# G.edges(data=True)\n"
   ]
  },
  {
   "cell_type": "code",
   "execution_count": 5,
   "metadata": {},
   "outputs": [
    {
     "data": {
      "text/plain": [
       "{}"
      ]
     },
     "execution_count": 5,
     "metadata": {},
     "output_type": "execute_result"
    }
   ],
   "source": [
    "selection__= [37,41,20,0,14,4,1,2,10, 18, 8]\n",
    "\n",
    "gGrahps = selection__from_graph(graph_collections, graph_name)  # , selection__\n",
    "\n",
    "# print(gGrahps)\n",
    "\n",
    "geo_loc_data_sample = {i: {k: {\"lat\": v.get('Latitude', 0), \"long\": v.get('Longitude', 0)}\n",
    "     for (k, v) in g.nodes(data=True)} for i, g in gGrahps}\n",
    "# print(geo_loc_data_sample)\n",
    "\n",
    "edge_geo_data_sample = {k: assign_location(u, v) for (k, v), (j,u) in zip(geo_loc_data_sample.items(), gGrahps)}\n",
    "# print(geo_loc_data_sample)\n",
    "nx.get_edge_attributes(gGrahps[4][1], 'weight')\n"
   ]
  },
  {
   "cell_type": "code",
   "execution_count": 6,
   "metadata": {},
   "outputs": [],
   "source": [
    "node_strength_2_deg = [(i, sum(hub_information(G, i, 2))) \n",
    "                       for (i, j) in sorted(list(G.degree()), key=lambda item: int(item[0]))]\n",
    "degree__ = [(i, len(n_neighbor(G, i, 1))) for (i, j) in sorted(list(G.degree()),\n",
    "                                                               key=lambda item: int(item[0]))]\n"
   ]
  },
  {
   "cell_type": "code",
   "execution_count": 7,
   "metadata": {},
   "outputs": [],
   "source": [
    "\n",
    "source_1, source_2, source_3, source_4, *others = degree__, node_strength_2_deg, eccentricity(G),  approximate_current_flow_betweenness_centrality(G, weight=\"weight\"), current_flow_betweenness_centrality(G), betweenness_centrality(G, weight=\"weight\"),  closeness_centrality(G),      load_centrality(\n",
    "    G),    #eigenvector_centrality(G),\n",
    "\n",
    "# print(source_2, source_3)\n"
   ]
  },
  {
   "cell_type": "code",
   "execution_count": 8,
   "metadata": {},
   "outputs": [],
   "source": [
    "sources_of_evidences = {\n",
    "    \"Degree\": {g[0]: [(i, len(n_neighbor(g[1], i, 1))) for (i, j) in sorted(list(g[1].degree()), key=lambda item: int(item[0]))] for g in gGrahps},\n",
    "    \"Node Strength\": {g[0]: [(i, sum(hub_information(g[1], i, 2))) for (i, j) in sorted(list(g[1].degree()), key=lambda item: int(item[0]))] for g in gGrahps},\n",
    "    \"Eccentricity\": {g[0]: eccentricity(g[1]) for g in gGrahps},\n",
    "    \"Approx Curr. Flow Betwns Cent'y\": {g[0]: approximate_current_flow_betweenness_centrality(g[1]) for g in gGrahps}\n",
    "}\n",
    "# sources_of_evidences[\"Degree\"][\"ABILENE\"]"
   ]
  },
  {
   "cell_type": "code",
   "execution_count": 9,
   "metadata": {},
   "outputs": [
    {
     "data": {
      "text/plain": [
       "[('11', 0.9991533889283354),\n",
       " ('1', 0.8102800440940692),\n",
       " ('10', 0.43433003311276563),\n",
       " ('5', 0.32810873941933705)]"
      ]
     },
     "execution_count": 9,
     "metadata": {},
     "output_type": "execute_result"
    }
   ],
   "source": [
    "e_v = 2\n",
    "varying_examples_multi(source_1, source_2, source_3, source_4,e_v)"
   ]
  },
  {
   "cell_type": "code",
   "execution_count": 10,
   "metadata": {},
   "outputs": [],
   "source": [
    "evis = [2,3,4]\n",
    "selected_nodes_based_on_source ={i:{e: varying_examples_multi(sources_of_evidences[\"Degree\"][i],\n",
    "sources_of_evidences[\"Node Strength\"][i], \n",
    "sources_of_evidences[\"Eccentricity\"][i], \n",
    "    sources_of_evidences[\"Approx Curr. Flow Betwns Cent'y\"][i], e) for e in evis} for i, j in gGrahps}\n",
    "\n",
    "selected_nodes_based_on_source_ext = {k2:{k:len(v) for k,v in v2.items()} for k2,v2 in selected_nodes_based_on_source.items()}\n",
    "\n",
    "# {i: { \"#Nodes\":  nx.number_of_nodes(j), \"#Edges\": nx.number_of_edges(j), \"sel_\":v} for (i,j), v in zip(gGrahps, selected_nodes_based_on_source.values())}\n",
    "sel_node_summary={i: {\"#Nodes\":  nx.number_of_nodes(j), \"#Edges\": nx.number_of_edges(j), \"Diameter\":nx.diameter(j), \"Density\":nx.density(j)}for (i, j)in gGrahps }\n",
    "sel_to_table = {\n",
    "    i: (sel_node_summary[i] | selected_nodes_based_on_source_ext[i]) for i, j in gGrahps}\n",
    "    \n"
   ]
  },
  {
   "cell_type": "code",
   "execution_count": 11,
   "metadata": {},
   "outputs": [
    {
     "data": {
      "text/html": [
       "<div>\n",
       "<style scoped>\n",
       "    .dataframe tbody tr th:only-of-type {\n",
       "        vertical-align: middle;\n",
       "    }\n",
       "\n",
       "    .dataframe tbody tr th {\n",
       "        vertical-align: top;\n",
       "    }\n",
       "\n",
       "    .dataframe thead th {\n",
       "        text-align: right;\n",
       "    }\n",
       "</style>\n",
       "<table border=\"1\" class=\"dataframe\">\n",
       "  <thead>\n",
       "    <tr style=\"text-align: right;\">\n",
       "      <th></th>\n",
       "      <th>#Nodes</th>\n",
       "      <th>#Edges</th>\n",
       "      <th>Diameter</th>\n",
       "      <th>Density</th>\n",
       "      <th>2</th>\n",
       "      <th>3</th>\n",
       "      <th>4</th>\n",
       "    </tr>\n",
       "  </thead>\n",
       "  <tbody>\n",
       "    <tr>\n",
       "      <th>ABILENE</th>\n",
       "      <td>11</td>\n",
       "      <td>14</td>\n",
       "      <td>5</td>\n",
       "      <td>0.254545</td>\n",
       "      <td>5</td>\n",
       "      <td>4</td>\n",
       "      <td>4</td>\n",
       "    </tr>\n",
       "    <tr>\n",
       "      <th>ABVT</th>\n",
       "      <td>23</td>\n",
       "      <td>31</td>\n",
       "      <td>7</td>\n",
       "      <td>0.122530</td>\n",
       "      <td>4</td>\n",
       "      <td>17</td>\n",
       "      <td>7</td>\n",
       "    </tr>\n",
       "    <tr>\n",
       "      <th>AGIS</th>\n",
       "      <td>25</td>\n",
       "      <td>30</td>\n",
       "      <td>7</td>\n",
       "      <td>0.100000</td>\n",
       "      <td>6</td>\n",
       "      <td>11</td>\n",
       "      <td>9</td>\n",
       "    </tr>\n",
       "    <tr>\n",
       "      <th>ARN.GRAPHML</th>\n",
       "      <td>30</td>\n",
       "      <td>29</td>\n",
       "      <td>4</td>\n",
       "      <td>0.066667</td>\n",
       "      <td>3</td>\n",
       "      <td>10</td>\n",
       "      <td>14</td>\n",
       "    </tr>\n",
       "    <tr>\n",
       "      <th>BELLCANADA</th>\n",
       "      <td>48</td>\n",
       "      <td>64</td>\n",
       "      <td>13</td>\n",
       "      <td>0.056738</td>\n",
       "      <td>11</td>\n",
       "      <td>16</td>\n",
       "      <td>18</td>\n",
       "    </tr>\n",
       "    <tr>\n",
       "      <th>BELLSOUTH.GRAPHML</th>\n",
       "      <td>51</td>\n",
       "      <td>66</td>\n",
       "      <td>7</td>\n",
       "      <td>0.051765</td>\n",
       "      <td>3</td>\n",
       "      <td>29</td>\n",
       "      <td>30</td>\n",
       "    </tr>\n",
       "    <tr>\n",
       "      <th>BICS.GRAPHML</th>\n",
       "      <td>33</td>\n",
       "      <td>48</td>\n",
       "      <td>8</td>\n",
       "      <td>0.090909</td>\n",
       "      <td>8</td>\n",
       "      <td>23</td>\n",
       "      <td>17</td>\n",
       "    </tr>\n",
       "    <tr>\n",
       "      <th>CERNET.GRAPHML</th>\n",
       "      <td>41</td>\n",
       "      <td>58</td>\n",
       "      <td>5</td>\n",
       "      <td>0.070732</td>\n",
       "      <td>4</td>\n",
       "      <td>21</td>\n",
       "      <td>14</td>\n",
       "    </tr>\n",
       "    <tr>\n",
       "      <th>CESNET200706.GRAPHML</th>\n",
       "      <td>44</td>\n",
       "      <td>51</td>\n",
       "      <td>6</td>\n",
       "      <td>0.053911</td>\n",
       "      <td>4</td>\n",
       "      <td>17</td>\n",
       "      <td>26</td>\n",
       "    </tr>\n",
       "    <tr>\n",
       "      <th>CHINANET.GRAPHML</th>\n",
       "      <td>42</td>\n",
       "      <td>66</td>\n",
       "      <td>4</td>\n",
       "      <td>0.076655</td>\n",
       "      <td>8</td>\n",
       "      <td>10</td>\n",
       "      <td>33</td>\n",
       "    </tr>\n",
       "    <tr>\n",
       "      <th>COGENTCO.GRAPHML</th>\n",
       "      <td>197</td>\n",
       "      <td>243</td>\n",
       "      <td>28</td>\n",
       "      <td>0.012587</td>\n",
       "      <td>8</td>\n",
       "      <td>21</td>\n",
       "      <td>29</td>\n",
       "    </tr>\n",
       "    <tr>\n",
       "      <th>COLT.GRAPHML</th>\n",
       "      <td>153</td>\n",
       "      <td>177</td>\n",
       "      <td>20</td>\n",
       "      <td>0.015222</td>\n",
       "      <td>4</td>\n",
       "      <td>106</td>\n",
       "      <td>47</td>\n",
       "    </tr>\n",
       "    <tr>\n",
       "      <th>DELTACOM.GRAPHML</th>\n",
       "      <td>113</td>\n",
       "      <td>161</td>\n",
       "      <td>23</td>\n",
       "      <td>0.025442</td>\n",
       "      <td>5</td>\n",
       "      <td>10</td>\n",
       "      <td>14</td>\n",
       "    </tr>\n",
       "    <tr>\n",
       "      <th>GARR201110.GRAPHML</th>\n",
       "      <td>59</td>\n",
       "      <td>74</td>\n",
       "      <td>8</td>\n",
       "      <td>0.043250</td>\n",
       "      <td>5</td>\n",
       "      <td>31</td>\n",
       "      <td>42</td>\n",
       "    </tr>\n",
       "    <tr>\n",
       "      <th>GEANT2001</th>\n",
       "      <td>27</td>\n",
       "      <td>38</td>\n",
       "      <td>6</td>\n",
       "      <td>0.108262</td>\n",
       "      <td>5</td>\n",
       "      <td>19</td>\n",
       "      <td>19</td>\n",
       "    </tr>\n",
       "    <tr>\n",
       "      <th>GRNET.GRAPHML</th>\n",
       "      <td>37</td>\n",
       "      <td>42</td>\n",
       "      <td>8</td>\n",
       "      <td>0.063063</td>\n",
       "      <td>6</td>\n",
       "      <td>28</td>\n",
       "      <td>24</td>\n",
       "    </tr>\n",
       "    <tr>\n",
       "      <th>INTELLIFIBER.GRAPHML</th>\n",
       "      <td>73</td>\n",
       "      <td>95</td>\n",
       "      <td>15</td>\n",
       "      <td>0.036149</td>\n",
       "      <td>14</td>\n",
       "      <td>27</td>\n",
       "      <td>29</td>\n",
       "    </tr>\n",
       "    <tr>\n",
       "      <th>INTEROUTE.GRAPHML</th>\n",
       "      <td>110</td>\n",
       "      <td>148</td>\n",
       "      <td>17</td>\n",
       "      <td>0.024687</td>\n",
       "      <td>31</td>\n",
       "      <td>53</td>\n",
       "      <td>59</td>\n",
       "    </tr>\n",
       "    <tr>\n",
       "      <th>ION.GRAPHML</th>\n",
       "      <td>125</td>\n",
       "      <td>146</td>\n",
       "      <td>25</td>\n",
       "      <td>0.018839</td>\n",
       "      <td>21</td>\n",
       "      <td>36</td>\n",
       "      <td>40</td>\n",
       "    </tr>\n",
       "    <tr>\n",
       "      <th>JANETBACKBONE.GRAPHML</th>\n",
       "      <td>29</td>\n",
       "      <td>45</td>\n",
       "      <td>5</td>\n",
       "      <td>0.110837</td>\n",
       "      <td>5</td>\n",
       "      <td>11</td>\n",
       "      <td>9</td>\n",
       "    </tr>\n",
       "    <tr>\n",
       "      <th>KDL</th>\n",
       "      <td>754</td>\n",
       "      <td>895</td>\n",
       "      <td>58</td>\n",
       "      <td>0.003153</td>\n",
       "      <td>47</td>\n",
       "      <td>178</td>\n",
       "      <td>175</td>\n",
       "    </tr>\n",
       "    <tr>\n",
       "      <th>LATNET.GRAPHML</th>\n",
       "      <td>69</td>\n",
       "      <td>74</td>\n",
       "      <td>12</td>\n",
       "      <td>0.031543</td>\n",
       "      <td>4</td>\n",
       "      <td>38</td>\n",
       "      <td>57</td>\n",
       "    </tr>\n",
       "    <tr>\n",
       "      <th>MISSOURI.GRAPHML</th>\n",
       "      <td>67</td>\n",
       "      <td>83</td>\n",
       "      <td>14</td>\n",
       "      <td>0.037540</td>\n",
       "      <td>21</td>\n",
       "      <td>24</td>\n",
       "      <td>26</td>\n",
       "    </tr>\n",
       "    <tr>\n",
       "      <th>NIIF.GRAPHML</th>\n",
       "      <td>36</td>\n",
       "      <td>41</td>\n",
       "      <td>7</td>\n",
       "      <td>0.065079</td>\n",
       "      <td>2</td>\n",
       "      <td>31</td>\n",
       "      <td>27</td>\n",
       "    </tr>\n",
       "    <tr>\n",
       "      <th>NOEL.GRAPHML</th>\n",
       "      <td>19</td>\n",
       "      <td>25</td>\n",
       "      <td>6</td>\n",
       "      <td>0.146199</td>\n",
       "      <td>6</td>\n",
       "      <td>14</td>\n",
       "      <td>8</td>\n",
       "    </tr>\n",
       "    <tr>\n",
       "      <th>PIONIERL3.GRAPHML</th>\n",
       "      <td>38</td>\n",
       "      <td>45</td>\n",
       "      <td>10</td>\n",
       "      <td>0.064011</td>\n",
       "      <td>4</td>\n",
       "      <td>17</td>\n",
       "      <td>9</td>\n",
       "    </tr>\n",
       "    <tr>\n",
       "      <th>REDIRIS.GRAPHML</th>\n",
       "      <td>19</td>\n",
       "      <td>31</td>\n",
       "      <td>4</td>\n",
       "      <td>0.181287</td>\n",
       "      <td>8</td>\n",
       "      <td>9</td>\n",
       "      <td>5</td>\n",
       "    </tr>\n",
       "    <tr>\n",
       "      <th>RENATER2010.GRAPHML</th>\n",
       "      <td>43</td>\n",
       "      <td>56</td>\n",
       "      <td>9</td>\n",
       "      <td>0.062016</td>\n",
       "      <td>3</td>\n",
       "      <td>39</td>\n",
       "      <td>4</td>\n",
       "    </tr>\n",
       "    <tr>\n",
       "      <th>RHNET.GRAPHML</th>\n",
       "      <td>16</td>\n",
       "      <td>18</td>\n",
       "      <td>8</td>\n",
       "      <td>0.150000</td>\n",
       "      <td>5</td>\n",
       "      <td>8</td>\n",
       "      <td>8</td>\n",
       "    </tr>\n",
       "    <tr>\n",
       "      <th>RNP.GRAPHML</th>\n",
       "      <td>31</td>\n",
       "      <td>34</td>\n",
       "      <td>11</td>\n",
       "      <td>0.073118</td>\n",
       "      <td>4</td>\n",
       "      <td>7</td>\n",
       "      <td>5</td>\n",
       "    </tr>\n",
       "    <tr>\n",
       "      <th>ROEDUNETFIBRE.GRAPHML</th>\n",
       "      <td>48</td>\n",
       "      <td>52</td>\n",
       "      <td>13</td>\n",
       "      <td>0.046099</td>\n",
       "      <td>7</td>\n",
       "      <td>10</td>\n",
       "      <td>15</td>\n",
       "    </tr>\n",
       "    <tr>\n",
       "      <th>SINET.GRAPHML</th>\n",
       "      <td>74</td>\n",
       "      <td>76</td>\n",
       "      <td>7</td>\n",
       "      <td>0.028138</td>\n",
       "      <td>5</td>\n",
       "      <td>33</td>\n",
       "      <td>25</td>\n",
       "    </tr>\n",
       "    <tr>\n",
       "      <th>SPRINT</th>\n",
       "      <td>11</td>\n",
       "      <td>18</td>\n",
       "      <td>4</td>\n",
       "      <td>0.327273</td>\n",
       "      <td>8</td>\n",
       "      <td>4</td>\n",
       "      <td>3</td>\n",
       "    </tr>\n",
       "    <tr>\n",
       "      <th>SUNET.GRAPHML</th>\n",
       "      <td>26</td>\n",
       "      <td>32</td>\n",
       "      <td>12</td>\n",
       "      <td>0.098462</td>\n",
       "      <td>12</td>\n",
       "      <td>11</td>\n",
       "      <td>10</td>\n",
       "    </tr>\n",
       "    <tr>\n",
       "      <th>SURFNET.GRAPHML</th>\n",
       "      <td>50</td>\n",
       "      <td>68</td>\n",
       "      <td>11</td>\n",
       "      <td>0.055510</td>\n",
       "      <td>4</td>\n",
       "      <td>28</td>\n",
       "      <td>9</td>\n",
       "    </tr>\n",
       "    <tr>\n",
       "      <th>SWITCHL3.GRAPHML</th>\n",
       "      <td>42</td>\n",
       "      <td>63</td>\n",
       "      <td>6</td>\n",
       "      <td>0.073171</td>\n",
       "      <td>8</td>\n",
       "      <td>31</td>\n",
       "      <td>24</td>\n",
       "    </tr>\n",
       "    <tr>\n",
       "      <th>TATANLD.GRAPHML</th>\n",
       "      <td>145</td>\n",
       "      <td>186</td>\n",
       "      <td>28</td>\n",
       "      <td>0.017816</td>\n",
       "      <td>27</td>\n",
       "      <td>39</td>\n",
       "      <td>41</td>\n",
       "    </tr>\n",
       "    <tr>\n",
       "      <th>TINET.GRAPHML</th>\n",
       "      <td>53</td>\n",
       "      <td>89</td>\n",
       "      <td>9</td>\n",
       "      <td>0.064586</td>\n",
       "      <td>8</td>\n",
       "      <td>49</td>\n",
       "      <td>25</td>\n",
       "    </tr>\n",
       "    <tr>\n",
       "      <th>ULAKNET.GRAPHML</th>\n",
       "      <td>82</td>\n",
       "      <td>82</td>\n",
       "      <td>4</td>\n",
       "      <td>0.024691</td>\n",
       "      <td>3</td>\n",
       "      <td>6</td>\n",
       "      <td>70</td>\n",
       "    </tr>\n",
       "    <tr>\n",
       "      <th>UNINETT2010.GRAPHML</th>\n",
       "      <td>74</td>\n",
       "      <td>101</td>\n",
       "      <td>9</td>\n",
       "      <td>0.037394</td>\n",
       "      <td>8</td>\n",
       "      <td>45</td>\n",
       "      <td>17</td>\n",
       "    </tr>\n",
       "    <tr>\n",
       "      <th>USCARRIER</th>\n",
       "      <td>158</td>\n",
       "      <td>189</td>\n",
       "      <td>35</td>\n",
       "      <td>0.015238</td>\n",
       "      <td>19</td>\n",
       "      <td>49</td>\n",
       "      <td>49</td>\n",
       "    </tr>\n",
       "    <tr>\n",
       "      <th>USCARRIER.GRAPHML</th>\n",
       "      <td>158</td>\n",
       "      <td>189</td>\n",
       "      <td>35</td>\n",
       "      <td>0.015238</td>\n",
       "      <td>19</td>\n",
       "      <td>49</td>\n",
       "      <td>49</td>\n",
       "    </tr>\n",
       "    <tr>\n",
       "      <th>UUNET.GRAPHML</th>\n",
       "      <td>49</td>\n",
       "      <td>84</td>\n",
       "      <td>8</td>\n",
       "      <td>0.071429</td>\n",
       "      <td>10</td>\n",
       "      <td>23</td>\n",
       "      <td>31</td>\n",
       "    </tr>\n",
       "  </tbody>\n",
       "</table>\n",
       "</div>"
      ],
      "text/plain": [
       "                       #Nodes  #Edges  Diameter   Density   2    3    4\n",
       "ABILENE                    11      14         5  0.254545   5    4    4\n",
       "ABVT                       23      31         7  0.122530   4   17    7\n",
       "AGIS                       25      30         7  0.100000   6   11    9\n",
       "ARN.GRAPHML                30      29         4  0.066667   3   10   14\n",
       "BELLCANADA                 48      64        13  0.056738  11   16   18\n",
       "BELLSOUTH.GRAPHML          51      66         7  0.051765   3   29   30\n",
       "BICS.GRAPHML               33      48         8  0.090909   8   23   17\n",
       "CERNET.GRAPHML             41      58         5  0.070732   4   21   14\n",
       "CESNET200706.GRAPHML       44      51         6  0.053911   4   17   26\n",
       "CHINANET.GRAPHML           42      66         4  0.076655   8   10   33\n",
       "COGENTCO.GRAPHML          197     243        28  0.012587   8   21   29\n",
       "COLT.GRAPHML              153     177        20  0.015222   4  106   47\n",
       "DELTACOM.GRAPHML          113     161        23  0.025442   5   10   14\n",
       "GARR201110.GRAPHML         59      74         8  0.043250   5   31   42\n",
       "GEANT2001                  27      38         6  0.108262   5   19   19\n",
       "GRNET.GRAPHML              37      42         8  0.063063   6   28   24\n",
       "INTELLIFIBER.GRAPHML       73      95        15  0.036149  14   27   29\n",
       "INTEROUTE.GRAPHML         110     148        17  0.024687  31   53   59\n",
       "ION.GRAPHML               125     146        25  0.018839  21   36   40\n",
       "JANETBACKBONE.GRAPHML      29      45         5  0.110837   5   11    9\n",
       "KDL                       754     895        58  0.003153  47  178  175\n",
       "LATNET.GRAPHML             69      74        12  0.031543   4   38   57\n",
       "MISSOURI.GRAPHML           67      83        14  0.037540  21   24   26\n",
       "NIIF.GRAPHML               36      41         7  0.065079   2   31   27\n",
       "NOEL.GRAPHML               19      25         6  0.146199   6   14    8\n",
       "PIONIERL3.GRAPHML          38      45        10  0.064011   4   17    9\n",
       "REDIRIS.GRAPHML            19      31         4  0.181287   8    9    5\n",
       "RENATER2010.GRAPHML        43      56         9  0.062016   3   39    4\n",
       "RHNET.GRAPHML              16      18         8  0.150000   5    8    8\n",
       "RNP.GRAPHML                31      34        11  0.073118   4    7    5\n",
       "ROEDUNETFIBRE.GRAPHML      48      52        13  0.046099   7   10   15\n",
       "SINET.GRAPHML              74      76         7  0.028138   5   33   25\n",
       "SPRINT                     11      18         4  0.327273   8    4    3\n",
       "SUNET.GRAPHML              26      32        12  0.098462  12   11   10\n",
       "SURFNET.GRAPHML            50      68        11  0.055510   4   28    9\n",
       "SWITCHL3.GRAPHML           42      63         6  0.073171   8   31   24\n",
       "TATANLD.GRAPHML           145     186        28  0.017816  27   39   41\n",
       "TINET.GRAPHML              53      89         9  0.064586   8   49   25\n",
       "ULAKNET.GRAPHML            82      82         4  0.024691   3    6   70\n",
       "UNINETT2010.GRAPHML        74     101         9  0.037394   8   45   17\n",
       "USCARRIER                 158     189        35  0.015238  19   49   49\n",
       "USCARRIER.GRAPHML         158     189        35  0.015238  19   49   49\n",
       "UUNET.GRAPHML              49      84         8  0.071429  10   23   31"
      ]
     },
     "execution_count": 11,
     "metadata": {},
     "output_type": "execute_result"
    }
   ],
   "source": [
    "pd.DataFrame.from_dict(\n",
    "    sel_to_table, orient='index')\n",
    "# print()\n"
   ]
  },
  {
   "cell_type": "code",
   "execution_count": 12,
   "metadata": {},
   "outputs": [
    {
     "name": "stderr",
     "output_type": "stream",
     "text": [
      "100%|██████████| 43/43 [00:11<00:00,  3.87it/s]\n"
     ]
    }
   ],
   "source": [
    "clusters__ = {\n",
    "    k2: {\n",
    "        k: cluster_optimal_nodes_test(j, v) for k, v in v2.items()\n",
    "        }  \n",
    "        for (i, j), (k2, v2) in zip(\n",
    "            tqdm(gGrahps), \n",
    "            selected_nodes_based_on_source.items()\n",
    "        ) \n",
    "}\n"
   ]
  },
  {
   "cell_type": "code",
   "execution_count": 13,
   "metadata": {},
   "outputs": [
    {
     "data": {
      "text/plain": [
       "[{2: {'8': {'5', '7'}, '9': {'0', '2'}, '10': {'1'}, '6': {'3', '4'}}},\n",
       " {3: {'7': {'10', '5', '8'}, '1': {'0'}, '2': {'9'}, '6': {'3', '4'}}},\n",
       " {4: {'7': {'1', '10', '3', '6', '8'}, '2': {'0', '9'}, '5': {'4'}}}]"
      ]
     },
     "execution_count": 13,
     "metadata": {},
     "output_type": "execute_result"
    }
   ],
   "source": [
    "[{x:cluster_optimal_nodes_test(\n",
    "    gGrahps[0][1], selected_nodes_based_on_source[\"ABILENE\"][x])}for x in [2, 3, 4]]\n"
   ]
  },
  {
   "cell_type": "code",
   "execution_count": 14,
   "metadata": {},
   "outputs": [],
   "source": [
    "\n",
    "clusters__dict = { c: {e: {i: set([i]) | j for i, j in f.items()} for e, f in d.items()} for c, d in clusters__.items()}\n",
    "\n",
    "# print(clusters__dict)\n",
    "clusters__pair ={x: {e: {u: k for (k, v) in f.items() for u in v} for e, f in y.items()} for x, y in clusters__dict.items()}\n",
    "# clusters__pair\n",
    "# https://networkx.org/documentation/stable/reference/generated/networkx.classes.function.set_node_attributes.html\n"
   ]
  },
  {
   "cell_type": "code",
   "execution_count": 15,
   "metadata": {},
   "outputs": [
    {
     "data": {
      "text/plain": [
       "23"
      ]
     },
     "execution_count": 15,
     "metadata": {},
     "output_type": "execute_result"
    }
   ],
   "source": [
    "G = graph_collections[1]\n",
    "__rand = nx.number_of_nodes(G)\n",
    "nx.number_of_nodes(G)\n"
   ]
  },
  {
   "cell_type": "code",
   "execution_count": 16,
   "metadata": {},
   "outputs": [
    {
     "name": "stdout",
     "output_type": "stream",
     "text": [
      "{2: {'8': '8', '5': '8', '7': '8', '0': '9', '2': '9', '9': '9', '10': '10', '1': '10', '3': '6', '4': '6', '6': '6'}, 3: {'10': '7', '8': '7', '5': '7', '7': '7', '1': '1', '0': '1', '2': '2', '9': '2', '3': '6', '4': '6', '6': '6'}, 4: {'1': '7', '7': '7', '6': '7', '3': '7', '8': '7', '10': '7', '0': '2', '2': '2', '9': '2', '5': '5', '4': '5'}}\n"
     ]
    }
   ],
   "source": [
    "print(clusters__pair['ABILENE'])\n"
   ]
  },
  {
   "cell_type": "code",
   "execution_count": 17,
   "metadata": {},
   "outputs": [],
   "source": [
    "clusters__pair_small = {'ABILENE':\n",
    "                        {\n",
    "                            2: {'7': '8', '8': '8', '5': '8', '0': '9', '9': '9', '2': '9', '1': '10', '10': '10', '6': '6', '3': '6', '4': '6'},\n",
    "                            3: {'7': '7', '8': '7', '5': '7', '10': '7', '1': '1', '0': '1', '9': '2', '2': '2', '6': '6', '3': '6', '4': '6'},\n",
    "                            4: {'3': '7', '10': '7', '1': '7', '7': '7', '8': '7', '6': '7', '0': '2', '9': '2', '2': '2', '4': '5', '5': '5'}}}\n"
   ]
  },
  {
   "cell_type": "code",
   "execution_count": 18,
   "metadata": {},
   "outputs": [],
   "source": [
    "# [[plot_optimal_cluster(v2,g,k,k2) for k2, v2 in v.items()] for (n,g), (k,v) in zip(tqdm(gGrahps),clusters__pair_small.items())]\n"
   ]
  },
  {
   "cell_type": "code",
   "execution_count": 40,
   "metadata": {},
   "outputs": [],
   "source": [
    "def plot_optimal_cluster_test(graph_clusters, g, title, evi):\n",
    "    \n",
    "    len_renadom = len(graph_clusters)\n",
    "    random_colors = color_generator(len_renadom)\n",
    "    respective_colors = {k:v for  k,v in random_colors.items() if k in set(graph_clusters.values())}\n",
    "    handles__ = [patches.Patch(color=v, label=k) for k, v in respective_colors.items()]\n",
    "    graph_clusters = dict(\n",
    "        sorted(graph_clusters.items(), key=lambda x: int(x[0])))\n",
    "    values = [random_colors.get(v, \"#000000\")\n",
    "              for k, v in graph_clusters.items()]\n",
    "    pos = nx.spring_layout(g)\n",
    "    nx.draw(g, cmap=plt.get_cmap('viridis'), pos=pos, node_color=values,\n",
    "            with_labels=True, font_color='white')\n",
    "    \n",
    "    title = title.split(\".\")[0]\n",
    "    plt.suptitle(f\"Graph: {title} \\n Sources of Evidences: {evi}\",\n",
    "                 fontsize=10, y=0.95)  # f\"{title}_{evi}\"\n",
    "    plt.legend(handles=handles__)\n",
    "    dirpath = Path(f\"{Path().absolute()}\\images\\{title}\")\n",
    "    os.makedirs(dirpath, exist_ok=True)\n",
    "    plt.savefig(Path(f\"{dirpath}\\{title.lower()}_{evi}.png\"))\n",
    "    # plt.show()\n",
    "    plt.close()\n",
    "    return \"Done\"\n",
    "\n"
   ]
  },
  {
   "cell_type": "code",
   "execution_count": 42,
   "metadata": {},
   "outputs": [
    {
     "name": "stderr",
     "output_type": "stream",
     "text": [
      "100%|██████████| 43/43 [04:22<00:00,  6.11s/it]\n"
     ]
    },
    {
     "data": {
      "text/plain": [
       "[['Done', 'Done', 'Done'],\n",
       " ['Done', 'Done', 'Done'],\n",
       " ['Done', 'Done', 'Done'],\n",
       " ['Done', 'Done', 'Done'],\n",
       " ['Done', 'Done', 'Done'],\n",
       " ['Done', 'Done', 'Done'],\n",
       " ['Done', 'Done', 'Done'],\n",
       " ['Done', 'Done', 'Done'],\n",
       " ['Done', 'Done', 'Done'],\n",
       " ['Done', 'Done', 'Done'],\n",
       " ['Done', 'Done', 'Done'],\n",
       " ['Done', 'Done', 'Done'],\n",
       " ['Done', 'Done', 'Done'],\n",
       " ['Done', 'Done', 'Done'],\n",
       " ['Done', 'Done', 'Done'],\n",
       " ['Done', 'Done', 'Done'],\n",
       " ['Done', 'Done', 'Done'],\n",
       " ['Done', 'Done', 'Done'],\n",
       " ['Done', 'Done', 'Done'],\n",
       " ['Done', 'Done', 'Done'],\n",
       " ['Done', 'Done', 'Done'],\n",
       " ['Done', 'Done', 'Done'],\n",
       " ['Done', 'Done', 'Done'],\n",
       " ['Done', 'Done', 'Done'],\n",
       " ['Done', 'Done', 'Done'],\n",
       " ['Done', 'Done', 'Done'],\n",
       " ['Done', 'Done', 'Done'],\n",
       " ['Done', 'Done', 'Done'],\n",
       " ['Done', 'Done', 'Done'],\n",
       " ['Done', 'Done', 'Done'],\n",
       " ['Done', 'Done', 'Done'],\n",
       " ['Done', 'Done', 'Done'],\n",
       " ['Done', 'Done', 'Done'],\n",
       " ['Done', 'Done', 'Done'],\n",
       " ['Done', 'Done', 'Done'],\n",
       " ['Done', 'Done', 'Done'],\n",
       " ['Done', 'Done', 'Done'],\n",
       " ['Done', 'Done', 'Done'],\n",
       " ['Done', 'Done', 'Done'],\n",
       " ['Done', 'Done', 'Done'],\n",
       " ['Done', 'Done', 'Done'],\n",
       " ['Done', 'Done', 'Done'],\n",
       " ['Done', 'Done', 'Done']]"
      ]
     },
     "execution_count": 42,
     "metadata": {},
     "output_type": "execute_result"
    }
   ],
   "source": [
    "[[plot_optimal_cluster_test(v2, g, k, k2) for k2, v2 in v.items()] for (\n",
    "    n, g), (k, v) in zip(tqdm(gGrahps), clusters__pair.items())]\n"
   ]
  },
  {
   "cell_type": "code",
   "execution_count": 21,
   "metadata": {},
   "outputs": [
    {
     "data": {
      "text/plain": [
       "{'0', '1', '10', '2', '3', '4', '5', '6', '7', '8', '9'}"
      ]
     },
     "execution_count": 21,
     "metadata": {},
     "output_type": "execute_result"
    }
   ],
   "source": [
    "set(clusters__pair_small['ABILENE'][2].keys())\n"
   ]
  },
  {
   "cell_type": "code",
   "execution_count": 22,
   "metadata": {},
   "outputs": [
    {
     "name": "stdout",
     "output_type": "stream",
     "text": [
      "{dict_values(['8', '8', '8', '9', '9', '9', '10', '10', '6', '6', '6'])}\n",
      "{'10', '8', '9', '6'}\n"
     ]
    },
    {
     "data": {
      "text/plain": [
       "{'7': '8', '5': '8', '0': '9', '2': '9', '1': '10', '3': '6', '4': '6'}"
      ]
     },
     "execution_count": 22,
     "metadata": {},
     "output_type": "execute_result"
    }
   ],
   "source": [
    "# plot_optimal_cluster(clusters__pair_small['ABILENE'][2], gGrahps[0][1], 'ABILENE', 2)\n",
    "print({clusters__pair_small['ABILENE'][2].values()})\n",
    "tau = {v for  v in clusters__pair_small['ABILENE'][2].values()}\n",
    "print(tau)\n",
    "set(clusters__pair_small['ABILENE'][2].values())\n",
    "{k:v for k,v in clusters__pair_small['ABILENE'][2].items() if k!=v}\n",
    "# {'8': {'5', '7'}, '9': {'0', '2'}, '10': {'1'}, '6': {'3', '4'}}\n",
    "{k: v for k, v in clusters__pair_small['ABILENE'][2].items() if k != v}\n"
   ]
  },
  {
   "cell_type": "code",
   "execution_count": 23,
   "metadata": {},
   "outputs": [
    {
     "name": "stdout",
     "output_type": "stream",
     "text": [
      "{'7': 'C:8', '8': 'C:8', '5': 'C:8', '0': 'C:9', '9': 'C:9', '2': 'C:9', '1': '10', '10': '10', '6': 'C:6', '3': 'C:6', '4': 'C:6'}\n",
      "{'7': '8', '8': '8', '5': '8', '0': '9', '9': '9', '2': '9', '1': '10', '10': '10', '6': '6', '3': '6', '4': '6'}\n",
      "{'0': 2, '1': 2, '2': 2, '3': 2, '4': 3, '5': 2, '6': 3, '7': 3, '8': 3, '9': 3, '10': 3}\n"
     ]
    }
   ],
   "source": [
    "# G.nodes(data=True)\n",
    "#  {k: f'C:{v}' if k in set(v) else v for k,v in clusters__pair_small['ABILENE'][2].items()}\n",
    "node_label = {k: f'C:{v}' if v in set(v) else v for k,v in clusters__pair_small['ABILENE'][2].items()}\n",
    "print(node_label)\n",
    "# {v: f'C:{k}' if v in set(k) else k for k, v in clusters__pair_small['ABILENE'][2].items()}\n",
    "print(clusters__pair_small['ABILENE'][2])\n",
    "print({k:v for k,v in gGrahps[0][1].degree()})\n",
    "# print(nx.get_node_attributes(gGrahps[0][1], 'id'))\n"
   ]
  },
  {
   "cell_type": "code",
   "execution_count": 24,
   "metadata": {},
   "outputs": [],
   "source": [
    "# print()"
   ]
  },
  {
   "cell_type": "code",
   "execution_count": 25,
   "metadata": {},
   "outputs": [],
   "source": [
    "# [(node, data) for node, data in G.nodes(data=True)]\n",
    "node_strength_2_deg = [(i, sum(hub_information(G, i, 2)))\n",
    "                       for (i, j) in sorted(list(G.degree()), key=lambda item: int(item[0]))]\n",
    "degree__ = [(i, len(n_neighbor(G, i, 1))) for (i, j) in sorted(list(G.degree()),\n",
    "                                                               key=lambda item: int(item[0]))]\n"
   ]
  },
  {
   "cell_type": "code",
   "execution_count": 26,
   "metadata": {},
   "outputs": [
    {
     "data": {
      "text/plain": [
       "{'11': {'13', '14', '15', '16', '17', '18', '19', '21', '22'},\n",
       " '1': {'4', '6', '8', '9'},\n",
       " '0': {'7'},\n",
       " '2': {'10', '20', '3'},\n",
       " '5': {'12'}}"
      ]
     },
     "execution_count": 26,
     "metadata": {},
     "output_type": "execute_result"
    }
   ],
   "source": [
    "cluster_optimal_nodes_test(\n",
    "    gGrahps[1][1], selected_nodes_based_on_source[\"ABVT\"][4])\n"
   ]
  },
  {
   "cell_type": "code",
   "execution_count": 27,
   "metadata": {},
   "outputs": [
    {
     "data": {
      "text/plain": [
       "{'11': {'13', '14', '15', '16', '17', '18', '19', '21', '22'},\n",
       " '1': {'4', '6', '8', '9'},\n",
       " '0': {'7'},\n",
       " '2': {'10', '20', '3'},\n",
       " '5': {'12'}}"
      ]
     },
     "execution_count": 27,
     "metadata": {},
     "output_type": "execute_result"
    }
   ],
   "source": [
    "G = gGrahps[1][1] #graph_collections[1]\n",
    "sample__ = cluster_optimal_nodes_test(G, selected_nodes_based_on_source[\"ABVT\"][4])\n",
    "sample__"
   ]
  },
  {
   "cell_type": "code",
   "execution_count": 28,
   "metadata": {},
   "outputs": [],
   "source": [
    "[(i, sum(hub_information(G, i, 1)))\n",
    " for (i, j) in sample__.items()]\n",
    "\n",
    "average_case_c_s=[{source:(sum([nx.shortest_path_length(G, source, sub_target, weight='weight') for sub_target in target])/ (nx.number_of_nodes(G)-len(sample__)))} for source, target in sample__.items()]\n",
    "\n",
    "worst_case_c_s=[{source: max([nx.shortest_path_length(G, source, sub_target, weight='weight') for sub_target in target]\n",
    "               )} for source, target in sample__.items()]\n",
    "\n",
    "# print([(s,x) for s,t in sample__.items() for x in t])\n",
    "# print([[(s, x) for x in t]for s, t in sample__.items()])\n"
   ]
  },
  {
   "cell_type": "code",
   "execution_count": 29,
   "metadata": {},
   "outputs": [
    {
     "data": {
      "text/plain": [
       "[{'11': 133.00400000000002},\n",
       " {'1': 88.182},\n",
       " {'0': 90.846},\n",
       " {'2': 97.637},\n",
       " {'5': 133.00400000000002}]"
      ]
     },
     "execution_count": 29,
     "metadata": {},
     "output_type": "execute_result"
    }
   ],
   "source": [
    "average_c_c = {s: set(sample__.keys())-set([s]) for s, t in sample__.items()}\n",
    "# sample__.keys()\n",
    "len_k = len(average_c_c)\n",
    "average_case_c_c=[{source: (2*sum([nx.shortest_path_length(G, source, sub_target, weight='weight')\n",
    "                        for sub_target in target])/(len_k**2 - len_k))} for source, target in average_c_c.items()]\n",
    "\n",
    "worst_case_c_c = [{source: max([nx.shortest_path_length(G, source, sub_target, weight='weight') for sub_target in target]\n",
    "                               )} for source, target in average_c_c.items()]\n",
    "\n",
    "worst_case_c_c"
   ]
  },
  {
   "cell_type": "code",
   "execution_count": 30,
   "metadata": {},
   "outputs": [
    {
     "data": {
      "text/plain": [
       "5"
      ]
     },
     "execution_count": 30,
     "metadata": {},
     "output_type": "execute_result"
    }
   ],
   "source": [
    "len_k"
   ]
  }
 ],
 "metadata": {
  "interpreter": {
   "hash": "67e6a4aa325bcd0e0aaaeb4e623fbf1760d37df0ebdc8dc3b72d0ab217e1e634"
  },
  "kernelspec": {
   "display_name": "Python 3.9.7 64-bit ('myenv': conda)",
   "language": "python",
   "name": "python3"
  },
  "language_info": {
   "codemirror_mode": {
    "name": "ipython",
    "version": 3
   },
   "file_extension": ".py",
   "mimetype": "text/x-python",
   "name": "python",
   "nbconvert_exporter": "python",
   "pygments_lexer": "ipython3",
   "version": "3.9.7"
  },
  "orig_nbformat": 4
 },
 "nbformat": 4,
 "nbformat_minor": 2
}
