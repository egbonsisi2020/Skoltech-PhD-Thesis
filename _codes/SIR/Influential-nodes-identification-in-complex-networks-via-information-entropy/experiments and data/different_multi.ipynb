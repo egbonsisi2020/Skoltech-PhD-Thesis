{
 "cells": [
  {
   "cell_type": "code",
   "execution_count": null,
   "metadata": {},
   "outputs": [],
   "source": [
    "import collections\n",
    "import networkx as nx\n",
    "import sys\n",
    "import os\n",
    "sys.path.append(r'c:\\\\Users\\\\rotim\\\\OneDrive\\\\Documents\\\\Reading\\\\graph-code\\\\Skoltech-PhD-Thesis\\\\_codes\\\\SIR\\\\Influential-nodes-identification-in-complex-networks-via-information-entropy')\n",
    "from algorithms import *\n",
    "import matplotlib.pyplot as plt\n",
    "import numpy as np\n",
    "from tqdm import tqdm\n",
    "import pickle"
   ]
  },
  {
   "cell_type": "code",
   "execution_count": null,
   "metadata": {},
   "outputs": [],
   "source": [
    "graph_collections, graph_name = read_graph(\"./test-graphs\")\n"
   ]
  },
  {
   "cell_type": "code",
   "execution_count": null,
   "metadata": {},
   "outputs": [],
   "source": [
    "# India   145nodes 187edges #37\n",
    "# US carrier 158nodes   189edges # 41\n",
    "# Kentucky    754nodes   895edges # 20\n",
    "# Albeni  # 0\n",
    "# Geant  2001 #14\n",
    "# Bell Canada # 4\n",
    "# Abvt # 1\n",
    "# Agis # 2\n",
    "# 10, 18, 8\n",
    "# selection__= []\n",
    "# selection__=[i for i,j in enumerate(graph_name)]\n",
    "def selection__from_graph(graph_coll,graph_name_list,sel_=[]):\n",
    "    \"\"\"_summary_\n",
    "\n",
    "    Args:\n",
    "        graph_coll (_type_): _description_\n",
    "        sel_ (list, optional): _description_. Defaults to [].\n",
    "\n",
    "    Returns:\n",
    "        _type_: _description_\n",
    "    \"\"\"\n",
    "    if sel_ !=[]:\n",
    "        return [(j, graph_coll[k]) for i, j in enumerate(graph_name_list)\n",
    "                for k in sel_ if i == k]\n",
    "    else:\n",
    "        return [(i, j) for i, j in zip(graph_name_list, graph_coll)]\n"
   ]
  },
  {
   "cell_type": "code",
   "execution_count": null,
   "metadata": {},
   "outputs": [],
   "source": [
    "G = graph_collections[37]\n",
    "# geo_loc_data = get_geo_data(\"Internet2LatLong.csv\")\n",
    "geo_loc_data = {k: {\"lat\": v.get('Latitude', 0), \"long\": v.get('Longitude', 0)}\n",
    "                for (k, v) in G.nodes(data=True)}\n",
    "# print(geo_loc_data)\n",
    "edge_geo_data_combined = assign_location(G, geo_loc_data)\n",
    "# set edge attributes\n",
    "set_edge_attr(G, edge_geo_data_combined)\n"
   ]
  },
  {
   "cell_type": "code",
   "execution_count": null,
   "metadata": {},
   "outputs": [],
   "source": [
    "selection__= [37,41,20,0,14,4,1,2,10, 18, 8]\n",
    "\n",
    "gGrahps = selection__from_graph(graph_collections, graph_name, selection__)\n",
    "\n",
    "# print(gGrahps)\n",
    "\n",
    "geo_loc_data_sample = {i: {k: {\"lat\": v.get('Latitude', 0), \"long\": v.get('Longitude', 0)}\n",
    "     for (k, v) in g.nodes(data=True)} for i, g in gGrahps}\n",
    "# print(geo_loc_data_sample)\n",
    "\n",
    "edge_geo_data_sample = {k: assign_location(u, v) for (k, v), (j,u) in zip(geo_loc_data_sample.items(), gGrahps)}\n",
    "# print(geo_loc_data_sample)\n",
    "\n",
    "\n",
    "\n",
    "# print()\n",
    "# # edge_geo_data_combined_sample = {k: assign_location(g, v) for (k, v), g in zip(geo_loc_data_all.items(), graph_collections)}\n"
   ]
  },
  {
   "cell_type": "code",
   "execution_count": null,
   "metadata": {},
   "outputs": [],
   "source": [
    "weight_sum =sum([sum(hub_information(G, i, 2))\n",
    "     for (i, j) in sorted(list(G.degree()), key=lambda item: int(item[0]))])\n",
    "node_strength_2_deg = [(i, sum(hub_information(G, i, 2)))  # /weight_sum\n",
    "                       for (i, j) in sorted(list(G.degree()), key=lambda item: int(item[0]))]\n",
    "degree__ = [(i, len(n_neighbor(G, i, 1))) for (i, j) in sorted(list(G.degree()),\n",
    "                                                               key=lambda item: int(item[0]))]\n"
   ]
  },
  {
   "cell_type": "code",
   "execution_count": null,
   "metadata": {},
   "outputs": [],
   "source": [
    "\n",
    "source_1, source_2, source_3, source_4, *others = degree__, node_strength_2_deg, eccentricity(G),  approximate_current_flow_betweenness_centrality(G, weight=\"weight\"), current_flow_betweenness_centrality(G), betweenness_centrality(G, weight=\"weight\"),  closeness_centrality(G),      load_centrality(\n",
    "    G),    #eigenvector_centrality(G),\n",
    "\n",
    "# print(source_2, source_3)\n"
   ]
  },
  {
   "cell_type": "code",
   "execution_count": null,
   "metadata": {},
   "outputs": [],
   "source": [
    "sources_of_evidences = {\n",
    "    \"Degree\": {g[0]: [(i, len(n_neighbor(g[1], i, 1))) for (i, j) in sorted(list(g[1].degree()), key=lambda item: int(item[0]))] for g in gGrahps},\n",
    "    \"Node Strength\": {g[0]: [(i, sum(hub_information(g[1], i, 2))) for (i, j) in sorted(list(g[1].degree()), key=lambda item: int(item[0]))] for g in gGrahps},\n",
    "    \"Eccentricity\": {g[0]: eccentricity(g[1]) for g in gGrahps},\n",
    "    \"Approx Curr. Flow Betwns Cent'y\": {g[0]: approximate_current_flow_betweenness_centrality(g[1]) for g in gGrahps}\n",
    "}\n",
    "# sources_of_evidences[\"Degree\"][\"ABILENE\"]"
   ]
  },
  {
   "cell_type": "code",
   "execution_count": null,
   "metadata": {},
   "outputs": [],
   "source": [
    "e_v = 2\n",
    "varying_examples_multi(source_1, source_2, source_3, source_4,e_v)"
   ]
  },
  {
   "cell_type": "code",
   "execution_count": null,
   "metadata": {},
   "outputs": [],
   "source": [
    "evis = [2,3,4]\n",
    "selected_nodes_based_on_source ={i:{e: varying_examples_multi(sources_of_evidences[\"Degree\"][i],\n",
    "sources_of_evidences[\"Node Strength\"][i], \n",
    "sources_of_evidences[\"Eccentricity\"][i], \n",
    "    sources_of_evidences[\"Approx Curr. Flow Betwns Cent'y\"][i], e) for e in evis} for i, j in gGrahps}\n",
    "\n",
    "selected_nodes_based_on_source_ext = {k2:{k:len(v) for k,v in v2.items()} for k2,v2 in selected_nodes_based_on_source.items()}\n",
    "\n",
    "# {i: { \"#Nodes\":  nx.number_of_nodes(j), \"#Edges\": nx.number_of_edges(j), \"sel_\":v} for (i,j), v in zip(gGrahps, selected_nodes_based_on_source.values())}\n",
    "sel_node_summary={i: {\"#Nodes\":  nx.number_of_nodes(j), \"#Edges\": nx.number_of_edges(j), \"Diameter\":nx.diameter(j), \"Density\":nx.density(j)}for (i, j)in gGrahps }\n",
    "sel_to_table = {\n",
    "    i: (sel_node_summary[i] | selected_nodes_based_on_source_ext[i]) for i, j in gGrahps}\n",
    "    \n"
   ]
  },
  {
   "cell_type": "code",
   "execution_count": null,
   "metadata": {},
   "outputs": [],
   "source": [
    "pd.DataFrame.from_dict(\n",
    "    sel_to_table, orient='index')\n",
    "# print()\n"
   ]
  },
  {
   "cell_type": "code",
   "execution_count": null,
   "metadata": {},
   "outputs": [],
   "source": [
    "selected_nodes_based_on_source[\"ABILENE\"]\n",
    "# {i:{varying_examples_multi(j,v2) for i,j in gGrahps for v2 in v} for v in selected_nodes_based_on_source.values()}\n",
    "# varying_examples_multi(j)\n",
    "# cluster_optimal_nodes()\n",
    "# selected_nodes_based_on_source[\"BELLCANADA\"][4]\n",
    "# sel_error ={k2: {k: cluster_optimal_nodes(j, v) for k, v in v2.items() for i, j in gGrahps if {i, k2} } for k2, v2 in selected_nodes_based_on_source.items()}\n",
    "clusters__ = {\n",
    "    k2: {\n",
    "        k: cluster_optimal_nodes_test(j, v) for k, v in v2.items()\n",
    "        }  \n",
    "        for (i, j), (k2, v2) in zip(\n",
    "            tqdm(gGrahps), tqdm(selected_nodes_based_on_source.items())\n",
    "            )\n",
    "            }\n",
    "\n",
    "# clusters__ = {\n",
    "#     k2:{\n",
    "#         k: cluster_optimal_nodes_test(j, v) for k, v in v2.items()\n",
    "#     }\n",
    "#     for (i, j), (k2, v2) in zip(\n",
    "#         tqdm(gGrahps), \n",
    "#         tqdm(selected_nodes_based_on_source.items())\n",
    "#     )\n",
    "# }\n"
   ]
  },
  {
   "cell_type": "code",
   "execution_count": null,
   "metadata": {},
   "outputs": [],
   "source": [
    "# gGrahps[0][1]\n",
    "cluster_optimal_nodes(gGrahps[0][1], selected_nodes_based_on_source[\"ABILENE\"][2])\n"
   ]
  },
  {
   "cell_type": "code",
   "execution_count": null,
   "metadata": {},
   "outputs": [],
   "source": [
    "[{x:cluster_optimal_nodes_test(\n",
    "    gGrahps[1][1], selected_nodes_based_on_source[\"ABILENE\"][x])}for x in [2, 3, 4]]\n"
   ]
  },
  {
   "cell_type": "code",
   "execution_count": null,
   "metadata": {},
   "outputs": [],
   "source": [
    "\n",
    "clusters__dict = { c: {e: {i: set([i]) | j for i, j in f.items()} for e, f in d.items()} for c, d in clusters__.items()}\n",
    "\n",
    "clusters__pair ={x: {e: {u: k for (k, v) in f.items() for u in v} for e, f in y.items()} for x, y in clusters__dict.items()}\n",
    "# clusters__pair\n",
    "# https://networkx.org/documentation/stable/reference/generated/networkx.classes.function.set_node_attributes.html\n",
    "\n"
   ]
  },
  {
   "cell_type": "code",
   "execution_count": null,
   "metadata": {},
   "outputs": [],
   "source": [
    "\n",
    "# list(gGrahps[0][1].nodes.data())\n",
    "# gGrahps[0][1].edges(data=True)\n"
   ]
  },
  {
   "cell_type": "code",
   "execution_count": null,
   "metadata": {},
   "outputs": [],
   "source": [
    "#Generate 1000 random numbers between 1 and 16777215\n",
    "max_node_len = max([nx.number_of_nodes(j) for i,j in gGrahps])\n",
    "color_generator(7)\n"
   ]
  },
  {
   "cell_type": "code",
   "execution_count": null,
   "metadata": {},
   "outputs": [],
   "source": [
    "t = nx.Graph()\n",
    "t.add_edges_from(\n",
    "    [('A', 'B'), ('A', 'C'), ('D', 'B'), ('E', 'C'), ('E', 'F'),\n",
    "     ('B', 'H'), ('B', 'G'), ('B', 'F'), ('C', 'G')])\n",
    "\n",
    "val_map = {'A': 1.0,\n",
    "           'D': 0.5714285714285714,\n",
    "           'H': 0.0}\n",
    "\n",
    "values = [val_map.get(node, 0.25) for node in t.nodes()]\n",
    "# \n",
    "print(values)\n",
    "#  node_color=values,\n",
    "nx.draw(t, cmap=plt.get_cmap('viridis'), with_labels=True, font_color='white')\n",
    "plt.show()\n"
   ]
  },
  {
   "cell_type": "code",
   "execution_count": null,
   "metadata": {},
   "outputs": [],
   "source": [
    "[nodes for nodes in G.nodes()]\n",
    "nx.draw(G, cmap=plt.get_cmap('viridis'), with_labels=True, font_color='white')\n"
   ]
  },
  {
   "cell_type": "code",
   "execution_count": null,
   "metadata": {},
   "outputs": [],
   "source": [
    "f = nx.path_graph(3)\n",
    "bb = nx.betweenness_centrality(f)\n",
    "print(bb)\n",
    "isinstance(bb, dict)\n",
    "# True\n",
    "nx.set_node_attributes(f, bb, \"betweenness\")\n",
    "f.nodes[1][\"betweenness\"]\n",
    "# 1.0"
   ]
  },
  {
   "cell_type": "code",
   "execution_count": null,
   "metadata": {},
   "outputs": [],
   "source": [
    "# clusters__pair\n",
    "# gGrahps[8]\n"
   ]
  },
  {
   "cell_type": "code",
   "execution_count": null,
   "metadata": {},
   "outputs": [],
   "source": [
    "G = graph_collections[1]\n",
    "__rand = nx.number_of_nodes(G)\n"
   ]
  },
  {
   "cell_type": "code",
   "execution_count": 66,
   "metadata": {},
   "outputs": [
    {
     "data": {
      "image/png": "[encoded data removed]",
      "text/plain": [
       "<Figure size 432x432 with 1 Axes>"
      ]
     },
     "metadata": {},
     "output_type": "display_data"
    },
    {
     "name": "stdout",
     "output_type": "stream",
     "text": [
      "{'1': {'22', '4', '6', '16', '15', '7'}, '5': {'12', '0'}, '8': {'9'}, '11': {'21', '17', '13', '18'}, '10': {'19', '2', '20', '3', '14'}}\n",
      "None\n"
     ]
    }
   ],
   "source": [
    "kdl_cluster_2 = clusters__pair[\"ABVT\"][4]\n",
    "nx.set_node_attributes(G, kdl_cluster_2, \"2 Sources\")\n",
    "list(G.nodes().data())\n",
    "\n",
    "opti_n_maps = {node: j['2 Sources'] for node, j in G.nodes().data()}\n",
    "# print(opti_n_maps)\n",
    "# print(nx.number_of_nodes(G))\n",
    "random_cols = color_generator(__rand)\n",
    "# random_cols = {node:get_random_hex() for node in G.nodes()}\n",
    "# print(random_cols)\n",
    "{(k,v,k1,v1) for (k,v),(k1,v1) in zip(random_cols.items(),opti_n_maps.items())}\n",
    "values = [val_map.get(node, 0.25) for node in t.nodes()]\n",
    "values = [random_cols.get(v, \"#000000\") for k, v in opti_n_maps.items() ]\n",
    "#  node_color=values,\n",
    "# print(values)\n",
    "fig, ax = plt.subplots(1, figsize=(6, 6))\n",
    "nx.draw(G, cmap=plt.get_cmap('viridis'), node_color=values, with_labels=True, font_color='white')\n",
    "# ax.legend(scatterpoints=1)\n",
    "plt.show()\n",
    "print(print(cluster_optimal_nodes_test(\n",
    "        gGrahps[1][1], selected_nodes_based_on_source[\"ABVT\"][4]))\n",
    ")\n"
   ]
  },
  {
   "cell_type": "code",
   "execution_count": 69,
   "metadata": {},
   "outputs": [
    {
     "ename": "KeyError",
     "evalue": "'Latitude'",
     "output_type": "error",
     "traceback": [
      "\u001b[1;31m---------------------------------------------------------------------------\u001b[0m",
      "\u001b[1;31mKeyError\u001b[0m                                  Traceback (most recent call last)",
      "\u001b[1;32m~\\AppData\\Local\\Temp/ipykernel_24808/2271838742.py\u001b[0m in \u001b[0;36m<module>\u001b[1;34m\u001b[0m\n\u001b[1;32m----> 1\u001b[1;33m \u001b[1;33m{\u001b[0m\u001b[0mnode\u001b[0m\u001b[1;33m:\u001b[0m\u001b[0mj\u001b[0m\u001b[1;33m.\u001b[0m\u001b[0mget\u001b[0m\u001b[1;33m(\u001b[0m\u001b[0mj\u001b[0m\u001b[1;33m[\u001b[0m\u001b[1;34m\"Latitude\"\u001b[0m\u001b[1;33m]\u001b[0m\u001b[1;33m,\u001b[0m \u001b[1;36m0.0\u001b[0m\u001b[1;33m)\u001b[0m \u001b[1;32mfor\u001b[0m \u001b[0mnode\u001b[0m\u001b[1;33m,\u001b[0m \u001b[0mj\u001b[0m \u001b[1;32min\u001b[0m \u001b[0mG\u001b[0m\u001b[1;33m.\u001b[0m\u001b[0mnodes\u001b[0m\u001b[1;33m(\u001b[0m\u001b[0mdata\u001b[0m\u001b[1;33m=\u001b[0m\u001b[1;32mTrue\u001b[0m\u001b[1;33m)\u001b[0m \u001b[1;33m}\u001b[0m\u001b[1;33m\u001b[0m\u001b[1;33m\u001b[0m\u001b[0m\n\u001b[0m",
      "\u001b[1;32m~\\AppData\\Local\\Temp/ipykernel_24808/2271838742.py\u001b[0m in \u001b[0;36m<dictcomp>\u001b[1;34m(.0)\u001b[0m\n\u001b[1;32m----> 1\u001b[1;33m \u001b[1;33m{\u001b[0m\u001b[0mnode\u001b[0m\u001b[1;33m:\u001b[0m\u001b[0mj\u001b[0m\u001b[1;33m.\u001b[0m\u001b[0mget\u001b[0m\u001b[1;33m(\u001b[0m\u001b[0mj\u001b[0m\u001b[1;33m[\u001b[0m\u001b[1;34m\"Latitude\"\u001b[0m\u001b[1;33m]\u001b[0m\u001b[1;33m,\u001b[0m \u001b[1;36m0.0\u001b[0m\u001b[1;33m)\u001b[0m \u001b[1;32mfor\u001b[0m \u001b[0mnode\u001b[0m\u001b[1;33m,\u001b[0m \u001b[0mj\u001b[0m \u001b[1;32min\u001b[0m \u001b[0mG\u001b[0m\u001b[1;33m.\u001b[0m\u001b[0mnodes\u001b[0m\u001b[1;33m(\u001b[0m\u001b[0mdata\u001b[0m\u001b[1;33m=\u001b[0m\u001b[1;32mTrue\u001b[0m\u001b[1;33m)\u001b[0m \u001b[1;33m}\u001b[0m\u001b[1;33m\u001b[0m\u001b[1;33m\u001b[0m\u001b[0m\n\u001b[0m",
      "\u001b[1;31mKeyError\u001b[0m: 'Latitude'"
     ]
    }
   ],
   "source": [
    "{node: j.get(j[\"Latitude\"], 0.0) for node, j in G.nodes(data=True) }\n"
   ]
  },
  {
   "cell_type": "code",
   "execution_count": 65,
   "metadata": {},
   "outputs": [
    {
     "data": {
      "text/plain": [
       "[('0',\n",
       "  {'Internal': 1,\n",
       "   'Latitude': 38.89511,\n",
       "   'Country': 'United States',\n",
       "   'id': 0,\n",
       "   'Longitude': -77.03637,\n",
       "   'label': 'Washington CDC',\n",
       "   '2 Sources': '5'}),\n",
       " ('1',\n",
       "  {'Internal': 1,\n",
       "   'Latitude': 40.71427,\n",
       "   'Country': 'United States',\n",
       "   'id': 1,\n",
       "   'Longitude': -74.00597,\n",
       "   'label': 'New York',\n",
       "   '2 Sources': '1'}),\n",
       " ('2',\n",
       "  {'Internal': 1,\n",
       "   'Latitude': 33.749,\n",
       "   'Country': 'United States',\n",
       "   'id': 2,\n",
       "   'Longitude': -84.38798,\n",
       "   'label': 'Atlanta',\n",
       "   '2 Sources': '10'}),\n",
       " ('3',\n",
       "  {'Internal': 1,\n",
       "   'Latitude': 25.77427,\n",
       "   'Country': 'United States',\n",
       "   'id': 3,\n",
       "   'Longitude': -80.19366,\n",
       "   'label': 'Miami',\n",
       "   '2 Sources': '10'}),\n",
       " ('4',\n",
       "  {'Internal': 1,\n",
       "   'Latitude': 42.35843,\n",
       "   'Country': 'United States',\n",
       "   'id': 4,\n",
       "   'Longitude': -71.05977,\n",
       "   'label': 'Boston',\n",
       "   '2 Sources': '1'}),\n",
       " ('5',\n",
       "  {'Internal': 1,\n",
       "   'Latitude': 51.50853,\n",
       "   'Country': 'United Kingdom',\n",
       "   'id': 5,\n",
       "   'Longitude': -0.12574,\n",
       "   'label': 'London',\n",
       "   '2 Sources': '5'}),\n",
       " ('6',\n",
       "  {'Internal': 1,\n",
       "   'Latitude': 39.95234,\n",
       "   'Country': 'United States',\n",
       "   'id': 6,\n",
       "   'Longitude': -75.16379,\n",
       "   'label': 'Philadelphia',\n",
       "   '2 Sources': '1'}),\n",
       " ('7',\n",
       "  {'Internal': 1,\n",
       "   'Latitude': 39.29038,\n",
       "   'Country': 'United States',\n",
       "   'id': 7,\n",
       "   'Longitude': -76.61219,\n",
       "   'label': 'Baltimore',\n",
       "   '2 Sources': '1'}),\n",
       " ('8',\n",
       "  {'Internal': 1,\n",
       "   'Latitude': 52.37403,\n",
       "   'Country': 'Netherlands',\n",
       "   'id': 8,\n",
       "   'Longitude': 4.88969,\n",
       "   'label': 'Amsterdam',\n",
       "   '2 Sources': '8'}),\n",
       " ('9',\n",
       "  {'Internal': 1,\n",
       "   'Latitude': 50.11667,\n",
       "   'Country': 'Germany',\n",
       "   'id': 9,\n",
       "   'Longitude': 8.68333,\n",
       "   'label': 'Frankfurt',\n",
       "   '2 Sources': '8'}),\n",
       " ('10',\n",
       "  {'Internal': 1,\n",
       "   'Latitude': 29.76328,\n",
       "   'Country': 'United States',\n",
       "   'id': 10,\n",
       "   'Longitude': -95.36327,\n",
       "   'label': 'Houston',\n",
       "   '2 Sources': '10'}),\n",
       " ('11',\n",
       "  {'hyperedge': 1,\n",
       "   'Internal': 1,\n",
       "   'id': 11,\n",
       "   'label': 'None',\n",
       "   '2 Sources': '11'}),\n",
       " ('12',\n",
       "  {'Internal': 1,\n",
       "   'Latitude': 48.85341,\n",
       "   'Country': 'France',\n",
       "   'id': 12,\n",
       "   'Longitude': 2.3488,\n",
       "   'label': 'Paris',\n",
       "   '2 Sources': '5'}),\n",
       " ('13',\n",
       "  {'Internal': 1,\n",
       "   'Latitude': 32.78306,\n",
       "   'Country': 'United States',\n",
       "   'id': 13,\n",
       "   'Longitude': -96.80667,\n",
       "   'label': 'Dallas',\n",
       "   '2 Sources': '11'}),\n",
       " ('14',\n",
       "  {'Internal': 1,\n",
       "   'Latitude': 30.26715,\n",
       "   'Country': 'United States',\n",
       "   'id': 14,\n",
       "   'Longitude': -97.74306,\n",
       "   'label': 'Austin',\n",
       "   '2 Sources': '10'}),\n",
       " ('15',\n",
       "  {'Internal': 1,\n",
       "   'Latitude': 47.60621,\n",
       "   'Country': 'United States',\n",
       "   'id': 15,\n",
       "   'Longitude': -122.33207,\n",
       "   'label': 'Seattle',\n",
       "   '2 Sources': '1'}),\n",
       " ('16',\n",
       "  {'Internal': 1,\n",
       "   'Latitude': 45.52345,\n",
       "   'Country': 'United States',\n",
       "   'id': 16,\n",
       "   'Longitude': -122.67621,\n",
       "   'label': 'Portland',\n",
       "   '2 Sources': '1'}),\n",
       " ('17',\n",
       "  {'Internal': 1,\n",
       "   'Latitude': 35.61488,\n",
       "   'Country': 'Japan',\n",
       "   'id': 17,\n",
       "   'Longitude': 139.5813,\n",
       "   'label': 'Tokyo',\n",
       "   '2 Sources': '11'}),\n",
       " ('18',\n",
       "  {'Internal': 1,\n",
       "   'Latitude': 37.77493,\n",
       "   'Country': 'United States',\n",
       "   'id': 18,\n",
       "   'Longitude': -122.41942,\n",
       "   'label': 'San Francisco',\n",
       "   '2 Sources': '11'}),\n",
       " ('19',\n",
       "  {'Internal': 1,\n",
       "   'Latitude': 34.05223,\n",
       "   'Country': 'United States',\n",
       "   'id': 19,\n",
       "   'Longitude': -118.24368,\n",
       "   'label': 'Los Angeles',\n",
       "   '2 Sources': '10'}),\n",
       " ('20',\n",
       "  {'Internal': 1,\n",
       "   'Latitude': 33.44838,\n",
       "   'Country': 'United States',\n",
       "   'id': 20,\n",
       "   'Longitude': -112.07404,\n",
       "   'label': 'Phoenix',\n",
       "   '2 Sources': '10'}),\n",
       " ('21',\n",
       "  {'Internal': 1,\n",
       "   'Latitude': 39.73915,\n",
       "   'Country': 'United States',\n",
       "   'id': 21,\n",
       "   'Longitude': -104.9847,\n",
       "   'label': 'Denver',\n",
       "   '2 Sources': '11'}),\n",
       " ('22',\n",
       "  {'Internal': 1,\n",
       "   'Latitude': 41.85003,\n",
       "   'Country': 'United States',\n",
       "   'id': 22,\n",
       "   'Longitude': -87.65005,\n",
       "   'label': 'Chicago',\n",
       "   '2 Sources': '1'})]"
      ]
     },
     "execution_count": 65,
     "metadata": {},
     "output_type": "execute_result"
    }
   ],
   "source": [
    "[(node, data) for node, data in G.nodes(data=True)]"
   ]
  }
 ],
 "metadata": {
  "interpreter": {
   "hash": "67e6a4aa325bcd0e0aaaeb4e623fbf1760d37df0ebdc8dc3b72d0ab217e1e634"
  },
  "kernelspec": {
   "display_name": "Python 3.9.7 64-bit ('myenv': conda)",
   "language": "python",
   "name": "python3"
  },
  "language_info": {
   "codemirror_mode": {
    "name": "ipython",
    "version": 3
   },
   "file_extension": ".py",
   "mimetype": "text/x-python",
   "name": "python",
   "nbconvert_exporter": "python",
   "pygments_lexer": "ipython3",
   "version": "3.9.7"
  },
  "orig_nbformat": 4
 },
 "nbformat": 4,
 "nbformat_minor": 2
}
