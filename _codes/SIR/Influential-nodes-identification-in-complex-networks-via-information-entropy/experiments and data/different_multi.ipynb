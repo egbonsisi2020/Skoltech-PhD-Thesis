{
 "cells": [
  {
   "cell_type": "code",
   "execution_count": 1,
   "metadata": {},
   "outputs": [],
   "source": [
    "import collections\n",
    "import networkx as nx\n",
    "import sys\n",
    "import os\n",
    "sys.path.append(r'c:\\\\Users\\\\rotim\\\\OneDrive\\\\Documents\\\\Reading\\\\graph-code\\\\Skoltech-PhD-Thesis\\\\_codes\\\\SIR\\\\Influential-nodes-identification-in-complex-networks-via-information-entropy')\n",
    "from algorithms import *\n",
    "import matplotlib.pyplot as plt\n",
    "import numpy as np\n",
    "from tqdm import tqdm\n",
    "import pickle"
   ]
  },
  {
   "cell_type": "code",
   "execution_count": 2,
   "metadata": {},
   "outputs": [
    {
     "name": "stdout",
     "output_type": "stream",
     "text": [
      "{'ABILENE': {'index': 0, 'nodes': 11, 'edges': 14}, 'ABVT': {'index': 1, 'nodes': 23, 'edges': 31}, 'AGIS': {'index': 2, 'nodes': 25, 'edges': 30}, 'ARN.GRAPHML': {'index': 3, 'nodes': 30, 'edges': 29}, 'BELLCANADA': {'index': 4, 'nodes': 48, 'edges': 64}, 'BELLSOUTH.GRAPHML': {'index': 5, 'nodes': 51, 'edges': 66}, 'BICS.GRAPHML': {'index': 6, 'nodes': 33, 'edges': 48}, 'CERNET.GRAPHML': {'index': 7, 'nodes': 41, 'edges': 58}, 'CESNET200706.GRAPHML': {'index': 8, 'nodes': 44, 'edges': 51}, 'CHINANET.GRAPHML': {'index': 9, 'nodes': 42, 'edges': 66}, 'COGENTCO.GRAPHML': {'index': 10, 'nodes': 197, 'edges': 243}, 'COLT.GRAPHML': {'index': 11, 'nodes': 153, 'edges': 177}, 'DELTACOM.GRAPHML': {'index': 12, 'nodes': 113, 'edges': 161}, 'GARR201110.GRAPHML': {'index': 13, 'nodes': 59, 'edges': 74}, 'GEANT2001': {'index': 14, 'nodes': 27, 'edges': 38}, 'GRNET.GRAPHML': {'index': 15, 'nodes': 37, 'edges': 42}, 'INTELLIFIBER.GRAPHML': {'index': 16, 'nodes': 73, 'edges': 95}, 'INTEROUTE.GRAPHML': {'index': 17, 'nodes': 110, 'edges': 148}, 'ION.GRAPHML': {'index': 18, 'nodes': 125, 'edges': 146}, 'JANETBACKBONE.GRAPHML': {'index': 19, 'nodes': 29, 'edges': 45}, 'KDL': {'index': 20, 'nodes': 754, 'edges': 895}, 'LATNET.GRAPHML': {'index': 21, 'nodes': 69, 'edges': 74}, 'MISSOURI.GRAPHML': {'index': 22, 'nodes': 67, 'edges': 83}, 'NIIF.GRAPHML': {'index': 23, 'nodes': 36, 'edges': 41}, 'NOEL.GRAPHML': {'index': 24, 'nodes': 19, 'edges': 25}, 'PIONIERL3.GRAPHML': {'index': 25, 'nodes': 38, 'edges': 45}, 'REDIRIS.GRAPHML': {'index': 26, 'nodes': 19, 'edges': 31}, 'RENATER2010.GRAPHML': {'index': 27, 'nodes': 43, 'edges': 56}, 'RHNET.GRAPHML': {'index': 28, 'nodes': 16, 'edges': 18}, 'RNP.GRAPHML': {'index': 29, 'nodes': 31, 'edges': 34}, 'ROEDUNETFIBRE.GRAPHML': {'index': 30, 'nodes': 48, 'edges': 52}, 'SINET.GRAPHML': {'index': 31, 'nodes': 74, 'edges': 76}, 'SINGAREN.GRAPHML': {'index': 32, 'nodes': 11, 'edges': 10}, 'SPRINT': {'index': 33, 'nodes': 11, 'edges': 18}, 'SUNET.GRAPHML': {'index': 34, 'nodes': 26, 'edges': 32}, 'SURFNET.GRAPHML': {'index': 35, 'nodes': 50, 'edges': 68}, 'SWITCHL3.GRAPHML': {'index': 36, 'nodes': 42, 'edges': 63}, 'TATANLD.GRAPHML': {'index': 37, 'nodes': 145, 'edges': 186}, 'TINET.GRAPHML': {'index': 38, 'nodes': 53, 'edges': 89}, 'ULAKNET.GRAPHML': {'index': 39, 'nodes': 82, 'edges': 82}, 'UNINETT2010.GRAPHML': {'index': 40, 'nodes': 74, 'edges': 101}, 'USCARRIER': {'index': 41, 'nodes': 158, 'edges': 189}, 'USCARRIER.GRAPHML': {'index': 42, 'nodes': 158, 'edges': 189}, 'UUNET.GRAPHML': {'index': 43, 'nodes': 49, 'edges': 84}}\n"
     ]
    }
   ],
   "source": [
    "graph_collections, graph_name = read_graph(\"./test-graphs\")\n"
   ]
  },
  {
   "cell_type": "code",
   "execution_count": 20,
   "metadata": {},
   "outputs": [],
   "source": [
    "G = graph_collections[37]\n",
    "# geo_loc_data = get_geo_data(\"Internet2LatLong.csv\")\n",
    "geo_loc_data = {k: {\"lat\": v.get('Latitude', 0), \"long\": v.get('Longitude', 0)}\n",
    "                for (k, v) in G.nodes(data=True)}\n",
    "# print(geo_loc_data)\n",
    "edge_geo_data_combined = assign_location(G, geo_loc_data)\n",
    "# set edge attributes\n",
    "set_edge_attr(G, edge_geo_data_combined)\n"
   ]
  },
  {
   "cell_type": "code",
   "execution_count": 21,
   "metadata": {},
   "outputs": [],
   "source": [
    "weight_sum =sum([sum(hub_information(G, i, 2))\n",
    "     for (i, j) in sorted(list(G.degree()), key=lambda item: int(item[0]))])\n",
    "node_strength_2_deg = [(i, sum(hub_information(G, i, 2)))  # /weight_sum\n",
    "                       for (i, j) in sorted(list(G.degree()), key=lambda item: int(item[0]))]\n",
    "# node_strength_2_deg\n"
   ]
  },
  {
   "cell_type": "code",
   "execution_count": 22,
   "metadata": {},
   "outputs": [],
   "source": [
    "\n",
    "source_1, source_2, source_3, source_4, *others = closeness_centrality(G), node_strength_2_deg, betweenness_centrality(G, weight=\"weight\"),  eccentricity(G),  load_centrality(\n",
    "    G), current_flow_betweenness_centrality(G), approximate_current_flow_betweenness_centrality(G)  # eigenvector_centrality(G),\n",
    "\n",
    "# print(source_2, source_3)\n"
   ]
  },
  {
   "cell_type": "code",
   "execution_count": 26,
   "metadata": {},
   "outputs": [
    {
     "data": {
      "text/plain": [
       "[('95', 0.030281988130215074),\n",
       " ('71', 0.029956408131288456),\n",
       " ('60', 0.02941798533965903),\n",
       " ('87', 0.028884759679223004),\n",
       " ('98', 0.027418744596797495),\n",
       " ('67', 0.027315523744181416),\n",
       " ('69', 0.026904597127131665),\n",
       " ('88', 0.026598441261451663),\n",
       " ('97', 0.02489583492006522),\n",
       " ('79', 0.02460094937343414),\n",
       " ('61', 0.024113103940026394),\n",
       " ('120', 0.024113103940026394),\n",
       " ('56', 0.023629742380087432),\n",
       " ('62', 0.022770795228815786),\n",
       " ('15', 0.022581828592361724),\n",
       " ('76', 0.02192582732593734),\n",
       " ('81', 0.02100295816080626),\n",
       " ('24', 0.020547697992815642),\n",
       " ('63', 0.019827669156709322),\n",
       " ('94', 0.019827669156709322),\n",
       " ('75', 0.019560282123159658),\n",
       " ('57', 0.019205962920251743),\n",
       " ('72', 0.0191177726525095),\n",
       " ('100', 0.01859187163332209),\n",
       " ('82', 0.018244327629360405),\n",
       " ('65', 0.017899199222298552),\n",
       " ('80', 0.01781329160882199),\n",
       " ('34', 0.017641923041904293),\n",
       " ('119', 0.017641923041904293),\n",
       " ('59', 0.017556461315025855),\n",
       " ('64', 0.017216089156897412),\n",
       " ('19', 0.017216089156897395),\n",
       " ('96', 0.016878058337775854),\n",
       " ('73', 0.01679391363860022),\n",
       " ('125', 0.016626057231839853),\n",
       " ('27', 0.016542344782195864),\n",
       " ('99', 0.01654234478219585),\n",
       " ('93', 0.016458775675787556),\n",
       " ('104', 0.016375349544753802),\n",
       " ('25', 0.015877774798979612),\n",
       " ('26', 0.0155488718429095),\n",
       " ('68', 0.015303655489240463),\n",
       " ('66', 0.014415080219407048),\n",
       " ('126', 0.013779067218760288),\n",
       " ('58', 0.013151471263614208),\n",
       " ('18', 0.012378560330338519),\n",
       " ('20', 0.011845024830476216),\n",
       " ('77', 0.011542873948091927),\n",
       " ('21', 0.011317547316824828),\n",
       " ('127', 0.011018811928564458),\n",
       " ('103', 0.010574313858904342),\n",
       " ('53', 0.010427099906516243),\n",
       " ('122', 0.010353670154181399),\n",
       " ('91', 0.010207163677167187),\n",
       " ('52', 0.009698068261821374),\n",
       " ('101', 0.009481618882414741),\n",
       " ('31', 0.008909435688827964),\n",
       " ('23', 0.008696726924781831),\n",
       " ('105', 0.008485021503962327),\n",
       " ('128', 0.008414674769471627),\n",
       " ('9', 0.008134389581461725),\n",
       " ('106', 0.008134389581461725),\n",
       " ('102', 0.0077864926973581754),\n",
       " ('78', 0.007648092597358087),\n",
       " ('35', 0.006962509412659109),\n",
       " ('29', 0.006894533442840299),\n",
       " ('84', 0.006623676152784785),\n",
       " ('123', 0.005294031760738156),\n",
       " ('51', 0.005228607212811308),\n",
       " ('1', 0.005228607212811303),\n",
       " ('70', 0.004773396322827502),\n",
       " ('54', 0.004708757943440818),\n",
       " ('46', 0.003750733415003012),\n",
       " ('136', 0.003248485569450423),\n",
       " ('50', 0.0031861225094858264),\n",
       " ('132', 0.0025061684125423627),\n",
       " ('85', 0.0021398899322710684),\n",
       " ('11', 0.0018371014991016253),\n",
       " ('22', 0.001357197169134676),\n",
       " ('55', 0.0012975995055975586),\n",
       " ('118', 0.0010008993218501294),\n",
       " ('90', 0.0009418156135531201),\n",
       " ('92', 0.0009418156135531201),\n",
       " ('133', 0.0009418156135531184),\n",
       " ('7', 0.0007063290748130155),\n",
       " ('14', 0.00018139733073488026)]"
      ]
     },
     "execution_count": 26,
     "metadata": {},
     "output_type": "execute_result"
    }
   ],
   "source": [
    "evi = 3\n",
    "maxi_mini_result = maxi_mini(source_1, source_2, source_3, source_4,no_of_evidences=evi)\n",
    "probability_weights_multi_res=probability_weights_multi(maxi_mini_result, e_1=source_1, e_2=source_2, e_3=source_3, e_4=source_4, number_of_evidences=evi)\n",
    "convert_dict_multi_results = convert_dict_multi(probability_weights_multi_res)\n",
    "rank_result_multi(convert_dict_multi_results)\n"
   ]
  }
 ],
 "metadata": {
  "interpreter": {
   "hash": "67e6a4aa325bcd0e0aaaeb4e623fbf1760d37df0ebdc8dc3b72d0ab217e1e634"
  },
  "kernelspec": {
   "display_name": "Python 3.9.7 64-bit ('myenv': conda)",
   "language": "python",
   "name": "python3"
  },
  "language_info": {
   "codemirror_mode": {
    "name": "ipython",
    "version": 3
   },
   "file_extension": ".py",
   "mimetype": "text/x-python",
   "name": "python",
   "nbconvert_exporter": "python",
   "pygments_lexer": "ipython3",
   "version": "3.9.7"
  },
  "orig_nbformat": 4
 },
 "nbformat": 4,
 "nbformat_minor": 2
}
