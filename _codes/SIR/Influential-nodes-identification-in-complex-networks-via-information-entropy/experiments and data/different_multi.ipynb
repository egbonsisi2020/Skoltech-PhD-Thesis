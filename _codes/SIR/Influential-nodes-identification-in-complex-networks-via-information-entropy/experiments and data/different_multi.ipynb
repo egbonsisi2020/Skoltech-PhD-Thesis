{
 "cells": [
  {
   "cell_type": "code",
   "execution_count": 1,
   "metadata": {},
   "outputs": [],
   "source": [
    "import collections\n",
    "import networkx as nx\n",
    "import sys\n",
    "import os\n",
    "sys.path.append(r'c:\\\\Users\\\\rotim\\\\OneDrive\\\\Documents\\\\Reading\\\\graph-code\\\\Skoltech-PhD-Thesis\\\\_codes\\\\SIR\\\\Influential-nodes-identification-in-complex-networks-via-information-entropy')\n",
    "from algorithms import *\n",
    "import matplotlib.pyplot as plt\n",
    "import numpy as np\n",
    "from tqdm import tqdm\n",
    "import pickle"
   ]
  },
  {
   "cell_type": "code",
   "execution_count": 2,
   "metadata": {},
   "outputs": [
    {
     "name": "stdout",
     "output_type": "stream",
     "text": [
      "{'ABILENE': {'index': 0, 'nodes': 11, 'edges': 14}, 'ABVT': {'index': 1, 'nodes': 23, 'edges': 31}, 'AGIS': {'index': 2, 'nodes': 25, 'edges': 30}, 'ARN.GRAPHML': {'index': 3, 'nodes': 30, 'edges': 29}, 'BELLCANADA': {'index': 4, 'nodes': 48, 'edges': 64}, 'BELLSOUTH.GRAPHML': {'index': 5, 'nodes': 51, 'edges': 66}, 'BICS.GRAPHML': {'index': 6, 'nodes': 33, 'edges': 48}, 'CERNET.GRAPHML': {'index': 7, 'nodes': 41, 'edges': 58}, 'CESNET200706.GRAPHML': {'index': 8, 'nodes': 44, 'edges': 51}, 'CHINANET.GRAPHML': {'index': 9, 'nodes': 42, 'edges': 66}, 'COGENTCO.GRAPHML': {'index': 10, 'nodes': 197, 'edges': 243}, 'COLT.GRAPHML': {'index': 11, 'nodes': 153, 'edges': 177}, 'DELTACOM.GRAPHML': {'index': 12, 'nodes': 113, 'edges': 161}, 'GARR201110.GRAPHML': {'index': 13, 'nodes': 59, 'edges': 74}, 'GEANT2001': {'index': 14, 'nodes': 27, 'edges': 38}, 'GRNET.GRAPHML': {'index': 15, 'nodes': 37, 'edges': 42}, 'INTELLIFIBER.GRAPHML': {'index': 16, 'nodes': 73, 'edges': 95}, 'INTEROUTE.GRAPHML': {'index': 17, 'nodes': 110, 'edges': 148}, 'ION.GRAPHML': {'index': 18, 'nodes': 125, 'edges': 146}, 'JANETBACKBONE.GRAPHML': {'index': 19, 'nodes': 29, 'edges': 45}, 'KDL': {'index': 20, 'nodes': 754, 'edges': 895}, 'LATNET.GRAPHML': {'index': 21, 'nodes': 69, 'edges': 74}, 'MISSOURI.GRAPHML': {'index': 22, 'nodes': 67, 'edges': 83}, 'NIIF.GRAPHML': {'index': 23, 'nodes': 36, 'edges': 41}, 'NOEL.GRAPHML': {'index': 24, 'nodes': 19, 'edges': 25}, 'PIONIERL3.GRAPHML': {'index': 25, 'nodes': 38, 'edges': 45}, 'REDIRIS.GRAPHML': {'index': 26, 'nodes': 19, 'edges': 31}, 'RENATER2010.GRAPHML': {'index': 27, 'nodes': 43, 'edges': 56}, 'RHNET.GRAPHML': {'index': 28, 'nodes': 16, 'edges': 18}, 'RNP.GRAPHML': {'index': 29, 'nodes': 31, 'edges': 34}, 'ROEDUNETFIBRE.GRAPHML': {'index': 30, 'nodes': 48, 'edges': 52}, 'SINET.GRAPHML': {'index': 31, 'nodes': 74, 'edges': 76}, 'SINGAREN.GRAPHML': {'index': 32, 'nodes': 11, 'edges': 10}, 'SPRINT': {'index': 33, 'nodes': 11, 'edges': 18}, 'SUNET.GRAPHML': {'index': 34, 'nodes': 26, 'edges': 32}, 'SURFNET.GRAPHML': {'index': 35, 'nodes': 50, 'edges': 68}, 'SWITCHL3.GRAPHML': {'index': 36, 'nodes': 42, 'edges': 63}, 'TATANLD.GRAPHML': {'index': 37, 'nodes': 145, 'edges': 186}, 'TINET.GRAPHML': {'index': 38, 'nodes': 53, 'edges': 89}, 'ULAKNET.GRAPHML': {'index': 39, 'nodes': 82, 'edges': 82}, 'UNINETT2010.GRAPHML': {'index': 40, 'nodes': 74, 'edges': 101}, 'USCARRIER': {'index': 41, 'nodes': 158, 'edges': 189}, 'USCARRIER.GRAPHML': {'index': 42, 'nodes': 158, 'edges': 189}, 'UUNET.GRAPHML': {'index': 43, 'nodes': 49, 'edges': 84}}\n"
     ]
    }
   ],
   "source": [
    "graph_collections, graph_name = read_graph(\"./test-graphs\")\n"
   ]
  },
  {
   "cell_type": "code",
   "execution_count": 3,
   "metadata": {},
   "outputs": [],
   "source": [
    "# India   145nodes 187edges #37\n",
    "# US carrier 158nodes   189edges # 41\n",
    "# Kentucky    754nodes   895edges # 20\n",
    "# Albeni  # 0\n",
    "# Geant  2001 #14\n",
    "# Bell Canada # 4\n",
    "# Abvt # 1\n",
    "# Agis # 2\n",
    "# 10, 18, 8\n",
    "# selection__= []\n",
    "# selection__=[i for i,j in enumerate(graph_name)]\n",
    "def selection__from_graph(graph_coll,graph_name_list,sel_=[]):\n",
    "    \"\"\"_summary_\n",
    "\n",
    "    Args:\n",
    "        graph_coll (_type_): _description_\n",
    "        sel_ (list, optional): _description_. Defaults to [].\n",
    "\n",
    "    Returns:\n",
    "        _type_: _description_\n",
    "    \"\"\"\n",
    "    if sel_ !=[]:\n",
    "        return [(j, graph_coll[k]) for i, j in enumerate(graph_name_list)\n",
    "                for k in sel_ if i == k]\n",
    "    else:\n",
    "        return [(i, j) for i, j in zip(graph_name_list, graph_coll)]\n"
   ]
  },
  {
   "cell_type": "code",
   "execution_count": 37,
   "metadata": {},
   "outputs": [
    {
     "data": {
      "text/plain": [
       "EdgeDataView([('0', '2', {'LinkLabel': 'Leased Wavelength/Managed Service', 'key': 0, 'weight': 7.016}), ('0', '4', {'LinkLabel': 'Leased Wavelength/Managed Service', 'key': 0, 'weight': 5.104}), ('0', '5', {'LinkLabel': 'Leased Wavelength/Managed Service', 'key': 0, 'weight': 47.464}), ('0', '7', {'LinkLabel': 'Leased Wavelength/Managed Service', 'key': 0, 'weight': 0.46}), ('1', '8', {'LinkLabel': 'Leased Wavelength/Managed Service', 'key': 0, 'weight': 47.169}), ('1', '22', {'LinkLabel': 'Leased Wavelength/Managed Service', 'key': 0, 'weight': 9.22}), ('1', '4', {'LinkLabel': 'Leased Wavelength/Managed Service', 'key': 0, 'weight': 2.461}), ('1', '5', {'LinkLabel': 'Leased Wavelength/Managed Service', 'key': 0, 'weight': 44.822}), ('1', '6', {'LinkLabel': 'Leased Wavelength/Managed Service', 'key': 0, 'weight': 1.043}), ('2', '10', {'LinkLabel': 'Leased Wavelength/Managed Service', 'key': 0, 'weight': 9.073}), ('2', '3', {'LinkLabel': 'Leased Wavelength/Managed Service', 'key': 0, 'weight': 7.842}), ('3', '10', {'LinkLabel': 'Leased Wavelength/Managed Service', 'key': 0, 'weight': 12.517}), ('5', '12', {'LinkLabel': 'Leased Wavelength/Managed Service', 'key': 0, 'weight': 2.766}), ('5', '8', {'LinkLabel': 'Leased Wavelength/Managed Service', 'key': 0, 'weight': 2.872}), ('6', '7', {'LinkLabel': 'Leased Wavelength/Managed Service', 'key': 0, 'weight': 1.161}), ('8', '9', {'LinkLabel': 'Leased Wavelength/Managed Service', 'key': 0, 'weight': 2.931}), ('9', '12', {'LinkLabel': 'Leased Wavelength/Managed Service', 'key': 0, 'weight': 3.85}), ('10', '20', {'LinkLabel': 'Leased Wavelength/Managed Service', 'key': 0, 'weight': 13.138}), ('10', '13', {'LinkLabel': 'Leased Wavelength/Managed Service', 'key': 0, 'weight': 2.919}), ('10', '14', {'LinkLabel': 'Leased Wavelength/Managed Service', 'key': 0, 'weight': 1.898}), ('11', '13', {'LinkLabel': 'Leased Wavelength/Managed Service', 'key': 0, 'weight': 85.645}), ('11', '22', {'LinkLabel': 'Leased Wavelength/Managed Service', 'key': 0, 'weight': 78.962}), ('11', '21', {'LinkLabel': 'Leased Wavelength/Managed Service', 'key': 0, 'weight': 90.789}), ('13', '14', {'LinkLabel': 'Leased Wavelength/Managed Service', 'key': 0, 'weight': 2.362}), ('15', '16', {'LinkLabel': 'Leased Wavelength/Managed Service', 'key': 0, 'weight': 1.876}), ('15', '22', {'LinkLabel': 'Leased Wavelength/Managed Service', 'key': 0, 'weight': 22.44}), ('16', '18', {'LinkLabel': 'Leased Wavelength/Managed Service', 'key': 0, 'weight': 6.935}), ('17', '18', {'LinkLabel': 'Leased Wavelength/Managed Service', 'key': 0, 'weight': 66.656}), ('18', '19', {'LinkLabel': 'Leased Wavelength/Managed Service', 'key': 0, 'weight': 4.499}), ('18', '21', {'LinkLabel': 'Leased Wavelength/Managed Service', 'key': 0, 'weight': 12.271}), ('19', '20', {'LinkLabel': 'Leased Wavelength/Managed Service', 'key': 0, 'weight': 4.621})])"
      ]
     },
     "execution_count": 37,
     "metadata": {},
     "output_type": "execute_result"
    }
   ],
   "source": [
    "G = graph_collections[1]\n",
    "# geo_loc_data = get_geo_data(\"Internet2LatLong.csv\")\n",
    "geo_loc_data = {k: {\"lat\": v.get('Latitude', 0), \"long\": v.get('Longitude', 0)}\n",
    "                for (k, v) in G.nodes(data=True)}\n",
    "# print(geo_loc_data)\n",
    "edge_geo_data_combined = assign_location(G, geo_loc_data)\n",
    "# set edge attributes\n",
    "set_edge_attr(G, edge_geo_data_combined)\n",
    "G.edges(data=True)\n"
   ]
  },
  {
   "cell_type": "code",
   "execution_count": 5,
   "metadata": {},
   "outputs": [],
   "source": [
    "selection__= [37,41,20,0,14,4,1,2,10, 18, 8]\n",
    "\n",
    "gGrahps = selection__from_graph(graph_collections, graph_name, selection__)\n",
    "\n",
    "# print(gGrahps)\n",
    "\n",
    "geo_loc_data_sample = {i: {k: {\"lat\": v.get('Latitude', 0), \"long\": v.get('Longitude', 0)}\n",
    "     for (k, v) in g.nodes(data=True)} for i, g in gGrahps}\n",
    "# print(geo_loc_data_sample)\n",
    "\n",
    "edge_geo_data_sample = {k: assign_location(u, v) for (k, v), (j,u) in zip(geo_loc_data_sample.items(), gGrahps)}\n",
    "# print(geo_loc_data_sample)\n",
    "\n",
    "\n",
    "\n",
    "# print()\n",
    "# # edge_geo_data_combined_sample = {k: assign_location(g, v) for (k, v), g in zip(geo_loc_data_all.items(), graph_collections)}\n"
   ]
  },
  {
   "cell_type": "code",
   "execution_count": 6,
   "metadata": {},
   "outputs": [],
   "source": [
    "node_strength_2_deg = [(i, sum(hub_information(G, i, 2))) \n",
    "                       for (i, j) in sorted(list(G.degree()), key=lambda item: int(item[0]))]\n",
    "degree__ = [(i, len(n_neighbor(G, i, 1))) for (i, j) in sorted(list(G.degree()),\n",
    "                                                               key=lambda item: int(item[0]))]\n"
   ]
  },
  {
   "cell_type": "code",
   "execution_count": 7,
   "metadata": {},
   "outputs": [],
   "source": [
    "\n",
    "source_1, source_2, source_3, source_4, *others = degree__, node_strength_2_deg, eccentricity(G),  approximate_current_flow_betweenness_centrality(G, weight=\"weight\"), current_flow_betweenness_centrality(G), betweenness_centrality(G, weight=\"weight\"),  closeness_centrality(G),      load_centrality(\n",
    "    G),    #eigenvector_centrality(G),\n",
    "\n",
    "# print(source_2, source_3)\n"
   ]
  },
  {
   "cell_type": "code",
   "execution_count": 8,
   "metadata": {},
   "outputs": [],
   "source": [
    "sources_of_evidences = {\n",
    "    \"Degree\": {g[0]: [(i, len(n_neighbor(g[1], i, 1))) for (i, j) in sorted(list(g[1].degree()), key=lambda item: int(item[0]))] for g in gGrahps},\n",
    "    \"Node Strength\": {g[0]: [(i, sum(hub_information(g[1], i, 2))) for (i, j) in sorted(list(g[1].degree()), key=lambda item: int(item[0]))] for g in gGrahps},\n",
    "    \"Eccentricity\": {g[0]: eccentricity(g[1]) for g in gGrahps},\n",
    "    \"Approx Curr. Flow Betwns Cent'y\": {g[0]: approximate_current_flow_betweenness_centrality(g[1]) for g in gGrahps}\n",
    "}\n",
    "# sources_of_evidences[\"Degree\"][\"ABILENE\"]"
   ]
  },
  {
   "cell_type": "code",
   "execution_count": 9,
   "metadata": {},
   "outputs": [
    {
     "data": {
      "text/plain": [
       "[('70', 0.9986942454915201),\n",
       " ('52', 0.7269206963021474),\n",
       " ('118', 0.6606933873804313),\n",
       " ('37', 0.04551598153655445)]"
      ]
     },
     "execution_count": 9,
     "metadata": {},
     "output_type": "execute_result"
    }
   ],
   "source": [
    "e_v = 2\n",
    "varying_examples_multi(source_1, source_2, source_3, source_4,e_v)"
   ]
  },
  {
   "cell_type": "code",
   "execution_count": 10,
   "metadata": {},
   "outputs": [],
   "source": [
    "evis = [2,3,4]\n",
    "selected_nodes_based_on_source ={i:{e: varying_examples_multi(sources_of_evidences[\"Degree\"][i],\n",
    "sources_of_evidences[\"Node Strength\"][i], \n",
    "sources_of_evidences[\"Eccentricity\"][i], \n",
    "    sources_of_evidences[\"Approx Curr. Flow Betwns Cent'y\"][i], e) for e in evis} for i, j in gGrahps}\n",
    "\n",
    "selected_nodes_based_on_source_ext = {k2:{k:len(v) for k,v in v2.items()} for k2,v2 in selected_nodes_based_on_source.items()}\n",
    "\n",
    "# {i: { \"#Nodes\":  nx.number_of_nodes(j), \"#Edges\": nx.number_of_edges(j), \"sel_\":v} for (i,j), v in zip(gGrahps, selected_nodes_based_on_source.values())}\n",
    "sel_node_summary={i: {\"#Nodes\":  nx.number_of_nodes(j), \"#Edges\": nx.number_of_edges(j), \"Diameter\":nx.diameter(j), \"Density\":nx.density(j)}for (i, j)in gGrahps }\n",
    "sel_to_table = {\n",
    "    i: (sel_node_summary[i] | selected_nodes_based_on_source_ext[i]) for i, j in gGrahps}\n",
    "    \n"
   ]
  },
  {
   "cell_type": "code",
   "execution_count": 11,
   "metadata": {},
   "outputs": [
    {
     "data": {
      "text/html": [
       "<div>\n",
       "<style scoped>\n",
       "    .dataframe tbody tr th:only-of-type {\n",
       "        vertical-align: middle;\n",
       "    }\n",
       "\n",
       "    .dataframe tbody tr th {\n",
       "        vertical-align: top;\n",
       "    }\n",
       "\n",
       "    .dataframe thead th {\n",
       "        text-align: right;\n",
       "    }\n",
       "</style>\n",
       "<table border=\"1\" class=\"dataframe\">\n",
       "  <thead>\n",
       "    <tr style=\"text-align: right;\">\n",
       "      <th></th>\n",
       "      <th>#Nodes</th>\n",
       "      <th>#Edges</th>\n",
       "      <th>Diameter</th>\n",
       "      <th>Density</th>\n",
       "      <th>2</th>\n",
       "      <th>3</th>\n",
       "      <th>4</th>\n",
       "    </tr>\n",
       "  </thead>\n",
       "  <tbody>\n",
       "    <tr>\n",
       "      <th>ABILENE</th>\n",
       "      <td>11</td>\n",
       "      <td>14</td>\n",
       "      <td>5</td>\n",
       "      <td>0.254545</td>\n",
       "      <td>5</td>\n",
       "      <td>4</td>\n",
       "      <td>4</td>\n",
       "    </tr>\n",
       "    <tr>\n",
       "      <th>ABVT</th>\n",
       "      <td>23</td>\n",
       "      <td>31</td>\n",
       "      <td>7</td>\n",
       "      <td>0.122530</td>\n",
       "      <td>10</td>\n",
       "      <td>11</td>\n",
       "      <td>11</td>\n",
       "    </tr>\n",
       "    <tr>\n",
       "      <th>AGIS</th>\n",
       "      <td>25</td>\n",
       "      <td>30</td>\n",
       "      <td>7</td>\n",
       "      <td>0.100000</td>\n",
       "      <td>6</td>\n",
       "      <td>11</td>\n",
       "      <td>9</td>\n",
       "    </tr>\n",
       "    <tr>\n",
       "      <th>BELLCANADA</th>\n",
       "      <td>48</td>\n",
       "      <td>64</td>\n",
       "      <td>13</td>\n",
       "      <td>0.056738</td>\n",
       "      <td>11</td>\n",
       "      <td>16</td>\n",
       "      <td>18</td>\n",
       "    </tr>\n",
       "    <tr>\n",
       "      <th>CESNET200706.GRAPHML</th>\n",
       "      <td>44</td>\n",
       "      <td>51</td>\n",
       "      <td>6</td>\n",
       "      <td>0.053911</td>\n",
       "      <td>4</td>\n",
       "      <td>17</td>\n",
       "      <td>28</td>\n",
       "    </tr>\n",
       "    <tr>\n",
       "      <th>COGENTCO.GRAPHML</th>\n",
       "      <td>197</td>\n",
       "      <td>243</td>\n",
       "      <td>28</td>\n",
       "      <td>0.012587</td>\n",
       "      <td>8</td>\n",
       "      <td>21</td>\n",
       "      <td>29</td>\n",
       "    </tr>\n",
       "    <tr>\n",
       "      <th>GEANT2001</th>\n",
       "      <td>27</td>\n",
       "      <td>38</td>\n",
       "      <td>6</td>\n",
       "      <td>0.108262</td>\n",
       "      <td>5</td>\n",
       "      <td>19</td>\n",
       "      <td>19</td>\n",
       "    </tr>\n",
       "    <tr>\n",
       "      <th>ION.GRAPHML</th>\n",
       "      <td>125</td>\n",
       "      <td>146</td>\n",
       "      <td>25</td>\n",
       "      <td>0.018839</td>\n",
       "      <td>21</td>\n",
       "      <td>36</td>\n",
       "      <td>40</td>\n",
       "    </tr>\n",
       "    <tr>\n",
       "      <th>KDL</th>\n",
       "      <td>754</td>\n",
       "      <td>895</td>\n",
       "      <td>58</td>\n",
       "      <td>0.003153</td>\n",
       "      <td>47</td>\n",
       "      <td>178</td>\n",
       "      <td>175</td>\n",
       "    </tr>\n",
       "    <tr>\n",
       "      <th>TATANLD.GRAPHML</th>\n",
       "      <td>145</td>\n",
       "      <td>186</td>\n",
       "      <td>28</td>\n",
       "      <td>0.017816</td>\n",
       "      <td>4</td>\n",
       "      <td>122</td>\n",
       "      <td>7</td>\n",
       "    </tr>\n",
       "    <tr>\n",
       "      <th>USCARRIER</th>\n",
       "      <td>158</td>\n",
       "      <td>189</td>\n",
       "      <td>35</td>\n",
       "      <td>0.015238</td>\n",
       "      <td>19</td>\n",
       "      <td>49</td>\n",
       "      <td>49</td>\n",
       "    </tr>\n",
       "  </tbody>\n",
       "</table>\n",
       "</div>"
      ],
      "text/plain": [
       "                      #Nodes  #Edges  Diameter   Density   2    3    4\n",
       "ABILENE                   11      14         5  0.254545   5    4    4\n",
       "ABVT                      23      31         7  0.122530  10   11   11\n",
       "AGIS                      25      30         7  0.100000   6   11    9\n",
       "BELLCANADA                48      64        13  0.056738  11   16   18\n",
       "CESNET200706.GRAPHML      44      51         6  0.053911   4   17   28\n",
       "COGENTCO.GRAPHML         197     243        28  0.012587   8   21   29\n",
       "GEANT2001                 27      38         6  0.108262   5   19   19\n",
       "ION.GRAPHML              125     146        25  0.018839  21   36   40\n",
       "KDL                      754     895        58  0.003153  47  178  175\n",
       "TATANLD.GRAPHML          145     186        28  0.017816   4  122    7\n",
       "USCARRIER                158     189        35  0.015238  19   49   49"
      ]
     },
     "execution_count": 11,
     "metadata": {},
     "output_type": "execute_result"
    }
   ],
   "source": [
    "pd.DataFrame.from_dict(\n",
    "    sel_to_table, orient='index')\n",
    "# print()\n"
   ]
  },
  {
   "cell_type": "code",
   "execution_count": 12,
   "metadata": {},
   "outputs": [
    {
     "name": "stderr",
     "output_type": "stream",
     "text": [
      "100%|██████████| 11/11 [00:03<00:00,  2.77it/s]\n",
      " 91%|█████████ | 10/11 [00:03<00:00,  2.52it/s]\n"
     ]
    }
   ],
   "source": [
    "clusters__ = {\n",
    "    k2: {\n",
    "        k: cluster_optimal_nodes_test(j, v) for k, v in v2.items()\n",
    "        }  \n",
    "        for (i, j), (k2, v2) in zip(\n",
    "            tqdm(gGrahps), tqdm(selected_nodes_based_on_source.items())\n",
    "            )\n",
    "            }\n"
   ]
  },
  {
   "cell_type": "code",
   "execution_count": 13,
   "metadata": {},
   "outputs": [
    {
     "data": {
      "text/plain": [
       "{'7': set(), '8': {'5'}, '9': {'0', '2'}, '10': {'1'}, '6': {'3', '4'}}"
      ]
     },
     "execution_count": 13,
     "metadata": {},
     "output_type": "execute_result"
    }
   ],
   "source": [
    "# gGrahps[0][1]\n",
    "cluster_optimal_nodes(gGrahps[0][1], selected_nodes_based_on_source[\"ABILENE\"][2])\n"
   ]
  },
  {
   "cell_type": "code",
   "execution_count": 14,
   "metadata": {},
   "outputs": [
    {
     "data": {
      "text/plain": [
       "[{2: {'7': {'0', '4', '6'},\n",
       "   '8': {'1', '15', '16', '22', '5'},\n",
       "   '9': {'12'},\n",
       "   '10': {'11', '13', '14', '17', '18', '19', '2', '20', '21', '3'}}},\n",
       " {3: {'7': {'0', '6'},\n",
       "   '1': {'11', '12', '15', '16', '17', '18', '21', '22', '4', '5', '8', '9'},\n",
       "   '2': {'10', '13', '14', '19', '20', '3'}}},\n",
       " {4: {'7': {'0', '6'},\n",
       "   '2': {'10', '13', '14', '17', '18', '19', '20', '3'},\n",
       "   '1': {'11', '15', '16', '21', '22', '4', '8', '9'},\n",
       "   '5': {'12'}}}]"
      ]
     },
     "execution_count": 14,
     "metadata": {},
     "output_type": "execute_result"
    }
   ],
   "source": [
    "[{x:cluster_optimal_nodes_test(\n",
    "    gGrahps[1][1], selected_nodes_based_on_source[\"ABILENE\"][x])}for x in [2, 3, 4]]\n"
   ]
  },
  {
   "cell_type": "code",
   "execution_count": 15,
   "metadata": {},
   "outputs": [],
   "source": [
    "\n",
    "clusters__dict = { c: {e: {i: set([i]) | j for i, j in f.items()} for e, f in d.items()} for c, d in clusters__.items()}\n",
    "\n",
    "clusters__pair ={x: {e: {u: k for (k, v) in f.items() for u in v} for e, f in y.items()} for x, y in clusters__dict.items()}\n",
    "# clusters__pair\n",
    "# https://networkx.org/documentation/stable/reference/generated/networkx.classes.function.set_node_attributes.html\n",
    "\n"
   ]
  },
  {
   "cell_type": "code",
   "execution_count": 18,
   "metadata": {},
   "outputs": [],
   "source": [
    "G = graph_collections[1]\n",
    "__rand = nx.number_of_nodes(G)\n"
   ]
  },
  {
   "cell_type": "code",
   "execution_count": 19,
   "metadata": {},
   "outputs": [
    {
     "name": "stdout",
     "output_type": "stream",
     "text": [
      "\n"
     ]
    }
   ],
   "source": [
    "clusters__pair\n",
    "list(G.nodes().data())\n",
    "# nx.set_node_attributes(G, kdl_cluster_2, k)\n",
    "[nx.set_node_attributes(j, v2, str(k2)+\" Sources\") for (i,j), (k,v) in zip(gGrahps, clusters__pair.items()) for k2,v2 in v.items()]\n",
    "print()"
   ]
  },
  {
   "cell_type": "code",
   "execution_count": 20,
   "metadata": {},
   "outputs": [
    {
     "data": {
      "text/plain": [
       "[('0',\n",
       "  {'Internal': 1,\n",
       "   'Latitude': 38.89511,\n",
       "   'Country': 'United States',\n",
       "   'id': 0,\n",
       "   'Longitude': -77.03637,\n",
       "   'label': 'Washington CDC',\n",
       "   '2 Sources': '0',\n",
       "   '3 Sources': '5',\n",
       "   '4 Sources': '5'}),\n",
       " ('1',\n",
       "  {'Internal': 1,\n",
       "   'Latitude': 40.71427,\n",
       "   'Country': 'United States',\n",
       "   'id': 1,\n",
       "   'Longitude': -74.00597,\n",
       "   'label': 'New York',\n",
       "   '2 Sources': '1',\n",
       "   '3 Sources': '1',\n",
       "   '4 Sources': '1'}),\n",
       " ('2',\n",
       "  {'Internal': 1,\n",
       "   'Latitude': 33.749,\n",
       "   'Country': 'United States',\n",
       "   'id': 2,\n",
       "   'Longitude': -84.38798,\n",
       "   'label': 'Atlanta',\n",
       "   '2 Sources': '0',\n",
       "   '3 Sources': '10',\n",
       "   '4 Sources': '10'}),\n",
       " ('3',\n",
       "  {'Internal': 1,\n",
       "   'Latitude': 25.77427,\n",
       "   'Country': 'United States',\n",
       "   'id': 3,\n",
       "   'Longitude': -80.19366,\n",
       "   'label': 'Miami',\n",
       "   '2 Sources': '10',\n",
       "   '3 Sources': '10',\n",
       "   '4 Sources': '10'}),\n",
       " ('4',\n",
       "  {'Internal': 1,\n",
       "   'Latitude': 42.35843,\n",
       "   'Country': 'United States',\n",
       "   'id': 4,\n",
       "   'Longitude': -71.05977,\n",
       "   'label': 'Boston',\n",
       "   '2 Sources': '1',\n",
       "   '3 Sources': '1',\n",
       "   '4 Sources': '1'}),\n",
       " ('5',\n",
       "  {'Internal': 1,\n",
       "   'Latitude': 51.50853,\n",
       "   'Country': 'United Kingdom',\n",
       "   'id': 5,\n",
       "   'Longitude': -0.12574,\n",
       "   'label': 'London',\n",
       "   '2 Sources': '5',\n",
       "   '3 Sources': '5',\n",
       "   '4 Sources': '5'}),\n",
       " ('6',\n",
       "  {'Internal': 1,\n",
       "   'Latitude': 39.95234,\n",
       "   'Country': 'United States',\n",
       "   'id': 6,\n",
       "   'Longitude': -75.16379,\n",
       "   'label': 'Philadelphia',\n",
       "   '2 Sources': '1',\n",
       "   '3 Sources': '1',\n",
       "   '4 Sources': '1'}),\n",
       " ('7',\n",
       "  {'Internal': 1,\n",
       "   'Latitude': 39.29038,\n",
       "   'Country': 'United States',\n",
       "   'id': 7,\n",
       "   'Longitude': -76.61219,\n",
       "   'label': 'Baltimore',\n",
       "   '2 Sources': '0',\n",
       "   '3 Sources': '1',\n",
       "   '4 Sources': '1'}),\n",
       " ('8',\n",
       "  {'Internal': 1,\n",
       "   'Latitude': 52.37403,\n",
       "   'Country': 'Netherlands',\n",
       "   'id': 8,\n",
       "   'Longitude': 4.88969,\n",
       "   'label': 'Amsterdam',\n",
       "   '2 Sources': '8',\n",
       "   '3 Sources': '8',\n",
       "   '4 Sources': '8'}),\n",
       " ('9',\n",
       "  {'Internal': 1,\n",
       "   'Latitude': 50.11667,\n",
       "   'Country': 'Germany',\n",
       "   'id': 9,\n",
       "   'Longitude': 8.68333,\n",
       "   'label': 'Frankfurt',\n",
       "   '2 Sources': '8',\n",
       "   '3 Sources': '8',\n",
       "   '4 Sources': '8'}),\n",
       " ('10',\n",
       "  {'Internal': 1,\n",
       "   'Latitude': 29.76328,\n",
       "   'Country': 'United States',\n",
       "   'id': 10,\n",
       "   'Longitude': -95.36327,\n",
       "   'label': 'Houston',\n",
       "   '2 Sources': '10',\n",
       "   '3 Sources': '10',\n",
       "   '4 Sources': '10'}),\n",
       " ('11',\n",
       "  {'hyperedge': 1,\n",
       "   'Internal': 1,\n",
       "   'id': 11,\n",
       "   'label': 'None',\n",
       "   '2 Sources': '11',\n",
       "   '3 Sources': '11',\n",
       "   '4 Sources': '11'}),\n",
       " ('12',\n",
       "  {'Internal': 1,\n",
       "   'Latitude': 48.85341,\n",
       "   'Country': 'France',\n",
       "   'id': 12,\n",
       "   'Longitude': 2.3488,\n",
       "   'label': 'Paris',\n",
       "   '2 Sources': '5',\n",
       "   '3 Sources': '5',\n",
       "   '4 Sources': '5'}),\n",
       " ('13',\n",
       "  {'Internal': 1,\n",
       "   'Latitude': 32.78306,\n",
       "   'Country': 'United States',\n",
       "   'id': 13,\n",
       "   'Longitude': -96.80667,\n",
       "   'label': 'Dallas',\n",
       "   '2 Sources': '10',\n",
       "   '3 Sources': '11',\n",
       "   '4 Sources': '11'}),\n",
       " ('14',\n",
       "  {'Internal': 1,\n",
       "   'Latitude': 30.26715,\n",
       "   'Country': 'United States',\n",
       "   'id': 14,\n",
       "   'Longitude': -97.74306,\n",
       "   'label': 'Austin',\n",
       "   '2 Sources': '10',\n",
       "   '3 Sources': '10',\n",
       "   '4 Sources': '10'}),\n",
       " ('15',\n",
       "  {'Internal': 1,\n",
       "   'Latitude': 47.60621,\n",
       "   'Country': 'United States',\n",
       "   'id': 15,\n",
       "   'Longitude': -122.33207,\n",
       "   'label': 'Seattle',\n",
       "   '2 Sources': '22',\n",
       "   '3 Sources': '1',\n",
       "   '4 Sources': '1'}),\n",
       " ('16',\n",
       "  {'Internal': 1,\n",
       "   'Latitude': 45.52345,\n",
       "   'Country': 'United States',\n",
       "   'id': 16,\n",
       "   'Longitude': -122.67621,\n",
       "   'label': 'Portland',\n",
       "   '2 Sources': '18',\n",
       "   '3 Sources': '1',\n",
       "   '4 Sources': '1'}),\n",
       " ('17',\n",
       "  {'Internal': 1,\n",
       "   'Latitude': 35.61488,\n",
       "   'Country': 'Japan',\n",
       "   'id': 17,\n",
       "   'Longitude': 139.5813,\n",
       "   'label': 'Tokyo',\n",
       "   '2 Sources': '18',\n",
       "   '3 Sources': '11',\n",
       "   '4 Sources': '11'}),\n",
       " ('18',\n",
       "  {'Internal': 1,\n",
       "   'Latitude': 37.77493,\n",
       "   'Country': 'United States',\n",
       "   'id': 18,\n",
       "   'Longitude': -122.41942,\n",
       "   'label': 'San Francisco',\n",
       "   '2 Sources': '18',\n",
       "   '3 Sources': '11',\n",
       "   '4 Sources': '11'}),\n",
       " ('19',\n",
       "  {'Internal': 1,\n",
       "   'Latitude': 34.05223,\n",
       "   'Country': 'United States',\n",
       "   'id': 19,\n",
       "   'Longitude': -118.24368,\n",
       "   'label': 'Los Angeles',\n",
       "   '2 Sources': '18',\n",
       "   '3 Sources': '10',\n",
       "   '4 Sources': '10'}),\n",
       " ('20',\n",
       "  {'Internal': 1,\n",
       "   'Latitude': 33.44838,\n",
       "   'Country': 'United States',\n",
       "   'id': 20,\n",
       "   'Longitude': -112.07404,\n",
       "   'label': 'Phoenix',\n",
       "   '2 Sources': '10',\n",
       "   '3 Sources': '10',\n",
       "   '4 Sources': '10'}),\n",
       " ('21',\n",
       "  {'Internal': 1,\n",
       "   'Latitude': 39.73915,\n",
       "   'Country': 'United States',\n",
       "   'id': 21,\n",
       "   'Longitude': -104.9847,\n",
       "   'label': 'Denver',\n",
       "   '2 Sources': '11',\n",
       "   '3 Sources': '11',\n",
       "   '4 Sources': '11'}),\n",
       " ('22',\n",
       "  {'Internal': 1,\n",
       "   'Latitude': 41.85003,\n",
       "   'Country': 'United States',\n",
       "   'id': 22,\n",
       "   'Longitude': -87.65005,\n",
       "   'label': 'Chicago',\n",
       "   '2 Sources': '22',\n",
       "   '3 Sources': '1',\n",
       "   '4 Sources': '1'})]"
      ]
     },
     "execution_count": 20,
     "metadata": {},
     "output_type": "execute_result"
    }
   ],
   "source": [
    "list(gGrahps[1][1].nodes().data())\n"
   ]
  },
  {
   "cell_type": "code",
   "execution_count": 23,
   "metadata": {},
   "outputs": [
    {
     "data": {
      "image/png": "[encoded data removed]",
      "text/plain": [
       "<Figure size 432x432 with 1 Axes>"
      ]
     },
     "metadata": {},
     "output_type": "display_data"
    },
    {
     "name": "stdout",
     "output_type": "stream",
     "text": [
      "{'1': {'15', '6', '22', '4', '16', '7'}, '5': {'12', '0'}, '8': {'9'}, '11': {'13', '21', '17', '18'}, '10': {'14', '3', '2', '20', '19'}}\n",
      "None\n"
     ]
    }
   ],
   "source": [
    "kdl_cluster_2 = clusters__pair[\"ABVT\"][4]\n",
    "nx.set_node_attributes(G, kdl_cluster_2, \"2 Sources\")\n",
    "# print(list(G.nodes().data()))\n",
    "\n",
    "opti_n_maps = {node: j['2 Sources'] for node, j in G.nodes().data()}\n",
    "# print(opti_n_maps)\n",
    "\n",
    "opti_n_maps_multi = {e:{node: {2:j['2 Sources'], 3:j['3 Sources'], 4:j['4 Sources']}\n",
    "                      for node, j in f.nodes().data()} for (e, f) in gGrahps}\n",
    "# print(opti_n_maps_multi)\n",
    "\n",
    "# print(nx.number_of_nodes(G))\n",
    "random_cols = color_generator(__rand)\n",
    "# random_cols = {node:get_random_hex() for node in G.nodes()}\n",
    "# print(random_cols)\n",
    "{(k,v,k1,v1) for (k,v),(k1,v1) in zip(random_cols.items(),opti_n_maps.items())}\n",
    "# values = [val_map.get(node, 0.25) for node in t.nodes()]\n",
    "values = [random_cols.get(v, \"#000000\") for k, v in opti_n_maps.items() ]\n",
    "#  node_color=values,\n",
    "# print(values)\n",
    "fig, ax = plt.subplots(1, figsize=(6, 6))\n",
    "nx.draw(G, cmap=plt.get_cmap('viridis'), node_color=values, with_labels=True, font_color='white')\n",
    "# ax.legend(scatterpoints=1)\n",
    "plt.show()\n",
    "print(print(cluster_optimal_nodes_test(\n",
    "        gGrahps[1][1], selected_nodes_based_on_source[\"ABVT\"][4]))\n",
    ")\n"
   ]
  },
  {
   "cell_type": "code",
   "execution_count": 24,
   "metadata": {},
   "outputs": [],
   "source": [
    "# [(node, data) for node, data in G.nodes(data=True)]\n",
    "node_strength_2_deg = [(i, sum(hub_information(G, i, 2)))\n",
    "                       for (i, j) in sorted(list(G.degree()), key=lambda item: int(item[0]))]\n",
    "degree__ = [(i, len(n_neighbor(G, i, 1))) for (i, j) in sorted(list(G.degree()),\n",
    "                                                               key=lambda item: int(item[0]))]\n"
   ]
  },
  {
   "cell_type": "code",
   "execution_count": 25,
   "metadata": {},
   "outputs": [
    {
     "data": {
      "text/plain": [
       "{'1': {'15', '16', '22', '4', '6', '7'},\n",
       " '5': {'0', '12'},\n",
       " '8': {'9'},\n",
       " '11': {'13', '17', '18', '21'},\n",
       " '10': {'14', '19', '2', '20', '3'}}"
      ]
     },
     "execution_count": 25,
     "metadata": {},
     "output_type": "execute_result"
    }
   ],
   "source": [
    "cluster_optimal_nodes_test(\n",
    "    gGrahps[1][1], selected_nodes_based_on_source[\"ABVT\"][4])\n"
   ]
  },
  {
   "cell_type": "code",
   "execution_count": 40,
   "metadata": {},
   "outputs": [],
   "source": [
    "def hub_information(G, node, dist):\n",
    "    \"\"\"gets the sum of weigths of edges within a specified dist = 1, 2, 3, ...\n",
    "\n",
    "    Args:\n",
    "        G (graph): graph of networkx\n",
    "        dist (int): lenght sought\n",
    "\n",
    "    Returns:\n",
    "        node_hub_information: dictionary of each node with corresponding nth length weight\n",
    "    \"\"\"\n",
    "    node_information = n_neighbor(\n",
    "        G, node, dist)\n",
    "    # print(\"node_information: \", node_information)\n",
    "    node_hub_information = [nx.shortest_path_length(\n",
    "        G, node, k, weight='weight') for k in node_information]\n",
    "    return node_hub_information\n"
   ]
  },
  {
   "cell_type": "code",
   "execution_count": 47,
   "metadata": {},
   "outputs": [
    {
     "data": {
      "text/plain": [
       "{'1': {'15', '16', '22', '4', '6', '7'},\n",
       " '5': {'0', '12'},\n",
       " '8': {'9'},\n",
       " '11': {'13', '17', '18', '21'},\n",
       " '10': {'14', '19', '2', '20', '3'}}"
      ]
     },
     "execution_count": 47,
     "metadata": {},
     "output_type": "execute_result"
    }
   ],
   "source": [
    "G = gGrahps[1][1] #graph_collections[1]\n",
    "sample__ = cluster_optimal_nodes_test(G, selected_nodes_based_on_source[\"ABVT\"][4])\n",
    "sample__"
   ]
  },
  {
   "cell_type": "code",
   "execution_count": 68,
   "metadata": {},
   "outputs": [
    {
     "name": "stdout",
     "output_type": "stream",
     "text": [
      "node_information:  ['22', '4', '5', '6', '8']\n",
      "node_information:  ['0', '1', '12', '8']\n",
      "node_information:  ['1', '5', '9']\n",
      "node_information:  ['13', '22', '21']\n",
      "node_information:  ['14', '13', '2', '20', '3']\n"
     ]
    },
    {
     "data": {
      "text/plain": [
       "[{'1': 80.124}, {'5': 50.23}, {'8': 2.931}, {'11': 449.21}, {'10': 54.385}]"
      ]
     },
     "execution_count": 68,
     "metadata": {},
     "output_type": "execute_result"
    }
   ],
   "source": [
    "[(i, sum(hub_information(G, i, 1)))\n",
    " for (i, j) in sample__.items()]\n",
    "\n",
    "[{source:sum([nx.shortest_path_length(G, source, sub_target, weight='weight') for sub_target in target])} for source, target in sample__.items()]\n",
    "\n",
    "# print([(s,x) for s,t in sample__.items() for x in t])\n",
    "# print([[(s, x) for x in t]for s, t in sample__.items()])\n"
   ]
  }
 ],
 "metadata": {
  "interpreter": {
   "hash": "67e6a4aa325bcd0e0aaaeb4e623fbf1760d37df0ebdc8dc3b72d0ab217e1e634"
  },
  "kernelspec": {
   "display_name": "Python 3.9.7 64-bit ('myenv': conda)",
   "language": "python",
   "name": "python3"
  },
  "language_info": {
   "codemirror_mode": {
    "name": "ipython",
    "version": 3
   },
   "file_extension": ".py",
   "mimetype": "text/x-python",
   "name": "python",
   "nbconvert_exporter": "python",
   "pygments_lexer": "ipython3",
   "version": "3.9.7"
  },
  "orig_nbformat": 4
 },
 "nbformat": 4,
 "nbformat_minor": 2
}
