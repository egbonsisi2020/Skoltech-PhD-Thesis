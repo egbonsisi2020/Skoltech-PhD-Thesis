{
 "cells": [
  {
   "cell_type": "code",
   "execution_count": 1,
   "metadata": {},
   "outputs": [],
   "source": [
    "import networkx as nx\n",
    "import matplotlib.pyplot as plt\n",
    "from pathlib import Path\n",
    "import sys\n",
    "import os\n",
    "# dir_path = os.path.dirname(os.path.dirname(os.path.abspath(__file__)))\n",
    "# sys.path.append(dir_path)\n",
    "sys.path.append(r'c:\\\\Users\\\\rotim\\\\OneDrive\\\\Documents\\\\Reading\\\\graph-code\\\\Skoltech-PhD-Thesis\\\\_codes\\\\SIR\\\\Influential-nodes-identification-in-complex-networks-via-information-entropy')\n",
    "from algorithms import *\n",
    "import numpy as np\n",
    "from tqdm import tqdm\n"
   ]
  },
  {
   "cell_type": "code",
   "execution_count": 3,
   "metadata": {},
   "outputs": [
    {
     "name": "stdout",
     "output_type": "stream",
     "text": [
      "{'ABILENE': {'index': 0, 'nodes': 11, 'edges': 14}, 'ABVT': {'index': 1, 'nodes': 23, 'edges': 31}, 'AGIS': {'index': 2, 'nodes': 25, 'edges': 30}, 'BELLCANADA': {'index': 3, 'nodes': 48, 'edges': 65}, 'GEANT2001': {'index': 4, 'nodes': 27, 'edges': 38}, 'KDL': {'index': 5, 'nodes': 754, 'edges': 899}, 'SANREN': {'index': 6, 'nodes': 7, 'edges': 7}, 'SPRINT': {'index': 7, 'nodes': 11, 'edges': 18}, 'USCARRIER': {'index': 8, 'nodes': 158, 'edges': 189}, 'ZAMREN': {'index': 9, 'nodes': 36, 'edges': 34}}\n"
     ]
    },
    {
     "data": {
      "text/plain": [
       "30"
      ]
     },
     "execution_count": 3,
     "metadata": {},
     "output_type": "execute_result"
    }
   ],
   "source": [
    "graph_collections = read_graph(\"./test-graphs\")\n",
    "kdl_G = graph_collections[2]"
   ]
  },
  {
   "cell_type": "code",
   "execution_count": 39,
   "metadata": {},
   "outputs": [
    {
     "data": {
      "image/png": "[encoded data removed]",
      "text/plain": [
       "<Figure size 432x288 with 1 Axes>"
      ]
     },
     "metadata": {},
     "output_type": "display_data"
    },
    {
     "name": "stdout",
     "output_type": "stream",
     "text": [
      "[<networkx.classes.graph.Graph object at 0x000001C1BFFF25B0>, <networkx.classes.graph.Graph object at 0x000001C1BFFF24C0>, <networkx.classes.graph.Graph object at 0x000001C1BFFF2A90>, <networkx.classes.multigraph.MultiGraph object at 0x000001C1BFFF29D0>, <networkx.classes.graph.Graph object at 0x000001C1BFFF2AC0>, <networkx.classes.multigraph.MultiGraph object at 0x000001C1BCAAE310>, <networkx.classes.graph.Graph object at 0x000001C1BFFDD550>, <networkx.classes.graph.Graph object at 0x000001C1BFFDD5B0>, <networkx.classes.graph.Graph object at 0x000001C1BFFDD490>, <networkx.classes.graph.Graph object at 0x000001C1BFFDD340>]\n",
      "{'ABILENE': {'index': 0, 'nodes': 11, 'edges': 14}, 'ABVT': {'index': 1, 'nodes': 23, 'edges': 31}, 'AGIS': {'index': 2, 'nodes': 25, 'edges': 30}, 'BELLCANADA': {'index': 3, 'nodes': 48, 'edges': 65}, 'GEANT2001': {'index': 4, 'nodes': 27, 'edges': 38}, 'KDL': {'index': 5, 'nodes': 754, 'edges': 899}, 'SANREN': {'index': 6, 'nodes': 7, 'edges': 7}, 'SPRINT': {'index': 7, 'nodes': 11, 'edges': 18}, 'USCARRIER': {'index': 8, 'nodes': 158, 'edges': 189}, 'ZAMREN': {'index': 9, 'nodes': 36, 'edges': 34}}\n"
     ]
    },
    {
     "data": {
      "text/plain": [
       "[<networkx.classes.graph.Graph at 0x1c1bfff25b0>,\n",
       " <networkx.classes.graph.Graph at 0x1c1bfff24c0>,\n",
       " <networkx.classes.graph.Graph at 0x1c1bfff2a90>,\n",
       " <networkx.classes.multigraph.MultiGraph at 0x1c1bfff29d0>,\n",
       " <networkx.classes.graph.Graph at 0x1c1bfff2ac0>,\n",
       " <networkx.classes.multigraph.MultiGraph at 0x1c1bcaae310>,\n",
       " <networkx.classes.graph.Graph at 0x1c1bffdd550>,\n",
       " <networkx.classes.graph.Graph at 0x1c1bffdd5b0>,\n",
       " <networkx.classes.graph.Graph at 0x1c1bffdd490>,\n",
       " <networkx.classes.graph.Graph at 0x1c1bffdd340>]"
      ]
     },
     "execution_count": 39,
     "metadata": {},
     "output_type": "execute_result"
    }
   ],
   "source": [
    "G = graph_collections[5]\n",
    "# nx.draw(G)\n",
    "# plt.show()\n",
    "# graph_collections\n",
    "\n",
    "\n",
    "read_graph(\"./test-graphs\")\n"
   ]
  },
  {
   "cell_type": "code",
   "execution_count": 35,
   "metadata": {},
   "outputs": [
    {
     "data": {
      "text/plain": [
       "0.0"
      ]
     },
     "execution_count": 35,
     "metadata": {},
     "output_type": "execute_result"
    }
   ],
   "source": [
    "kdl_G = graph_collections[5]\n",
    "# for node in kdl_G.nodes(data=True):\n",
    "#     print(node)\n",
    "# nx.draw(kdl_G)\n",
    "# plt.show()\n",
    "distance(0,0,0,0)\n"
   ]
  },
  {
   "cell_type": "code",
   "execution_count": null,
   "metadata": {},
   "outputs": [],
   "source": [
    "for edge in kdl_G.edges(data =True):\n",
    "    print(edge)\n"
   ]
  },
  {
   "cell_type": "code",
   "execution_count": 45,
   "metadata": {},
   "outputs": [],
   "source": [
    "kdl_G = graph_collections[8]\n",
    "geo_loc_data = {k: {\"lat\": v.get('Latitude',0), \"long\": v.get('Longitude',0)}\n",
    "                for (k, v) in kdl_G.nodes(data=True)}  # if v.get('Longitude') is not None\n",
    "# print([node for node in kdl_G.nodes(data= True) ])\n",
    "# print(geo_loc_data)\n",
    "\n",
    "edge_geo_data_combined_ = assign_location(kdl_G, geo_loc_data)\n",
    "# print(edge_geo_data_combined_)\n",
    "\n",
    "\n",
    "set_edge_attr(kdl_G, edge_geo_data_combined_)\n"
   ]
  }
 ],
 "metadata": {
  "interpreter": {
   "hash": "67e6a4aa325bcd0e0aaaeb4e623fbf1760d37df0ebdc8dc3b72d0ab217e1e634"
  },
  "kernelspec": {
   "display_name": "Python 3.9.7 64-bit ('myenv': conda)",
   "name": "python3"
  },
  "language_info": {
   "codemirror_mode": {
    "name": "ipython",
    "version": 3
   },
   "file_extension": ".py",
   "mimetype": "text/x-python",
   "name": "python",
   "nbconvert_exporter": "python",
   "pygments_lexer": "ipython3",
   "version": "3.9.7"
  },
  "orig_nbformat": 4
 },
 "nbformat": 4,
 "nbformat_minor": 2
}
