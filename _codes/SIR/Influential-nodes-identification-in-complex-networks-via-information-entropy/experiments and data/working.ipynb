{
 "metadata": {
  "language_info": {
   "codemirror_mode": {
    "name": "ipython",
    "version": 3
   },
   "file_extension": ".py",
   "mimetype": "text/x-python",
   "name": "python",
   "nbconvert_exporter": "python",
   "pygments_lexer": "ipython3",
   "version": "3.9.1"
  },
  "orig_nbformat": 4,
  "kernelspec": {
   "name": "python3",
   "display_name": "Python 3.9.1 64-bit ('myenv': conda)"
  },
  "interpreter": {
   "hash": "67e6a4aa325bcd0e0aaaeb4e623fbf1760d37df0ebdc8dc3b72d0ab217e1e634"
  }
 },
 "nbformat": 4,
 "nbformat_minor": 2,
 "cells": [
  {
   "cell_type": "code",
   "execution_count": 1,
   "metadata": {},
   "outputs": [],
   "source": [
    "import pickle\n",
    "from tqdm import tqdm\n",
    "import numpy as np\n",
    "# import matplotlib.pyplot as plt\n",
    "import networkx as nx\n",
    "import sys\n",
    "import random\n",
    "sys.path.append(r'c:\\\\Users\\\\rotim\\\\OneDrive\\\\Documents\\\\Reading\\\\graph-code\\\\Skoltech-PhD-Thesis\\\\_codes\\\\SIR\\\\Influential-nodes-identification-in-complex-networks-via-information-entropy')\n",
    "from algorithms import *\n"
   ]
  },
  {
   "cell_type": "code",
   "execution_count": 2,
   "metadata": {},
   "outputs": [],
   "source": [
    "data_file = 'CEnew' # 'HepPh'\n",
    "G = nx.read_adjlist(data_file)\n",
    "G.remove_edges_from(nx.selfloop_edges(G))\n",
    "nodes = list(nx.nodes(G))\n",
    "for node in nodes:\n",
    "    if G.degree(node) == 0:\n",
    "        G.remove_node(node)"
   ]
  },
  {
   "cell_type": "code",
   "execution_count": 3,
   "metadata": {},
   "outputs": [
    {
     "output_type": "stream",
     "name": "stdout",
     "text": [
      "453 2025\n"
     ]
    }
   ],
   "source": [
    "print(nx.number_of_nodes(G), nx.number_of_edges(G))"
   ]
  },
  {
   "cell_type": "code",
   "execution_count": 4,
   "metadata": {},
   "outputs": [],
   "source": [
    "a, b = {'a':0.5, 'ab':0.5},{'b':0.3, 'abc':0.6, 'c':0.1}"
   ]
  },
  {
   "cell_type": "code",
   "execution_count": 5,
   "metadata": {},
   "outputs": [],
   "source": [
    "combi_res = DSCombination(a,b)\n",
    "# combi_res"
   ]
  },
  {
   "cell_type": "code",
   "execution_count": 6,
   "metadata": {},
   "outputs": [
    {
     "output_type": "stream",
     "name": "stdout",
     "text": [
      "[('1', 4), ('2', 123), ('3', 4), ('4', 38), ('5', 109)]\n"
     ]
    }
   ],
   "source": [
    "node = list(G.degree())[:5]\n",
    "print(node)\n",
    "k_max,k_min = max([j for i,j in node]),min([j for i,j in node])\n",
    "mu, epsilon = 0.15,0.15\n",
    "sigma = k_max-k_min+(2*mu)\n",
    "delta = k_max-k_min+(2*epsilon)"
   ]
  },
  {
   "cell_type": "code",
   "execution_count": 13,
   "metadata": {
    "tags": []
   },
   "outputs": [
    {
     "output_type": "stream",
     "name": "stdout",
     "text": [
      "[('1', 0.0025146689019278634), ('2', 0.0025146689019278634), ('3', 0.0025146689019278634), ('4', 0.0025146689019279744), ('5', 0.0025146689019278634)]\n"
     ]
    }
   ],
   "source": [
    "w_d_h = [(i,abs(k-k_min)/sigma) for (i,k) in node]\n",
    "# print(w_d_h)\n",
    "w_d_l = [(i,abs(k-k_max)/delta) for (i,k) in node]\n",
    "# print(w_d_i)\n",
    "w_d_t = [(i, (1-(y + z))) for i,y in w_d_h for k,z in w_d_l if i[0] == k[0]]\n",
    "# w_d_t = [(i,1-(abs(k-k_min)/sigma + abs(k-k_max)/delta)) for i,k in node]\n",
    "print(w_d_t_2)"
   ]
  },
  {
   "cell_type": "code",
   "execution_count": 14,
   "metadata": {},
   "outputs": [
    {
     "output_type": "stream",
     "name": "stdout",
     "text": [
      "[(0.0, 0.9974853310980721, 0.0025146689019278634), (0.9974853310980721, 0.0, 0.0025146689019278634), (0.0, 0.9974853310980721, 0.0025146689019278634), (0.28499580888516346, 0.7124895222129086, 0.0025146689019279744), (0.8801341156747695, 0.1173512154233026, 0.0025146689019278634)]\n[{'h': 0.0, 'l': 0.9974853310980721, 't': 0.0025146689019278634}, {'h': 0.9974853310980721, 'l': 0.0, 't': 0.0025146689019278634}, {'h': 0.0, 'l': 0.9974853310980721, 't': 0.0025146689019278634}, {'h': 0.28499580888516346, 'l': 0.7124895222129086, 't': 0.0025146689019279744}, {'h': 0.8801341156747695, 'l': 0.1173512154233026, 't': 0.0025146689019278634}]\n"
     ]
    },
    {
     "output_type": "error",
     "ename": "NameError",
     "evalue": "name 'covert_to_dict' is not defined",
     "traceback": [
      "\u001b[1;31m---------------------------------------------------------------------------\u001b[0m",
      "\u001b[1;31mNameError\u001b[0m                                 Traceback (most recent call last)",
      "\u001b[1;32m<ipython-input-14-43815bc08770>\u001b[0m in \u001b[0;36m<module>\u001b[1;34m\u001b[0m\n\u001b[0;32m      3\u001b[0m \u001b[0mcom_all_\u001b[0m \u001b[1;33m=\u001b[0m \u001b[1;33m[\u001b[0m\u001b[1;33m(\u001b[0m\u001b[0mdict\u001b[0m\u001b[1;33m(\u001b[0m\u001b[0mzip\u001b[0m\u001b[1;33m(\u001b[0m\u001b[1;33m(\u001b[0m\u001b[1;34m'h'\u001b[0m\u001b[1;33m,\u001b[0m \u001b[1;34m'l'\u001b[0m\u001b[1;33m,\u001b[0m \u001b[1;34m't'\u001b[0m\u001b[1;33m)\u001b[0m\u001b[1;33m,\u001b[0m \u001b[0mitem\u001b[0m\u001b[1;33m)\u001b[0m\u001b[1;33m)\u001b[0m\u001b[1;33m)\u001b[0m \u001b[1;32mfor\u001b[0m \u001b[0mitem\u001b[0m \u001b[1;32min\u001b[0m \u001b[0mall_\u001b[0m\u001b[1;33m]\u001b[0m\u001b[1;33m\u001b[0m\u001b[1;33m\u001b[0m\u001b[0m\n\u001b[0;32m      4\u001b[0m \u001b[0mprint\u001b[0m\u001b[1;33m(\u001b[0m\u001b[0mcom_all_\u001b[0m\u001b[1;33m)\u001b[0m\u001b[1;33m\u001b[0m\u001b[1;33m\u001b[0m\u001b[0m\n\u001b[1;32m----> 5\u001b[1;33m \u001b[0mcom_all_2\u001b[0m \u001b[1;33m=\u001b[0m \u001b[0mcovert_to_dict\u001b[0m\u001b[1;33m(\u001b[0m\u001b[0mw_d_h\u001b[0m\u001b[1;33m,\u001b[0m \u001b[0mw_d_l\u001b[0m\u001b[1;33m,\u001b[0m \u001b[0mw_d_t\u001b[0m\u001b[1;33m)\u001b[0m\u001b[1;33m\u001b[0m\u001b[1;33m\u001b[0m\u001b[0m\n\u001b[0m\u001b[0;32m      6\u001b[0m \u001b[0mcom_all_2\u001b[0m\u001b[1;33m\u001b[0m\u001b[1;33m\u001b[0m\u001b[0m\n",
      "\u001b[1;31mNameError\u001b[0m: name 'covert_to_dict' is not defined"
     ]
    }
   ],
   "source": [
    "all_ = [x[1:]+y[1:]+z[1:] for x in w_d_h for y in w_d_l for z in w_d_t if x[0] == y[0] == z[0]]\n",
    "print(all_)\n",
    "com_all_ = [(dict(zip(('h', 'l', 't'), item))) for item in all_]\n",
    "print(com_all_)\n",
    "com_all_2 = covert_to_dict(w_d_h, w_d_l, w_d_t)\n",
    "com_all_2"
   ]
  },
  {
   "cell_type": "code",
   "execution_count": null,
   "metadata": {},
   "outputs": [],
   "source": []
  }
 ]
}