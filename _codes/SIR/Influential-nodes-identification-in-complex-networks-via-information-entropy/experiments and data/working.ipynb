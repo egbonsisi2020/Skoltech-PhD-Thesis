{
 "metadata": {
  "language_info": {
   "codemirror_mode": {
    "name": "ipython",
    "version": 3
   },
   "file_extension": ".py",
   "mimetype": "text/x-python",
   "name": "python",
   "nbconvert_exporter": "python",
   "pygments_lexer": "ipython3",
   "version": "3.9.1"
  },
  "orig_nbformat": 4,
  "kernelspec": {
   "name": "python3",
   "display_name": "Python 3.9.1 64-bit ('myenv': conda)"
  },
  "interpreter": {
   "hash": "67e6a4aa325bcd0e0aaaeb4e623fbf1760d37df0ebdc8dc3b72d0ab217e1e634"
  }
 },
 "nbformat": 4,
 "nbformat_minor": 2,
 "cells": [
  {
   "cell_type": "code",
   "execution_count": 15,
   "metadata": {},
   "outputs": [],
   "source": [
    "import pickle\n",
    "from tqdm import tqdm\n",
    "import numpy as np\n",
    "# import matplotlib.pyplot as plt\n",
    "import networkx as nx\n",
    "import sys\n",
    "import random\n",
    "sys.path.append(r'c:\\\\Users\\\\rotim\\\\OneDrive\\\\Documents\\\\Reading\\\\graph-code\\\\Skoltech-PhD-Thesis\\\\_codes\\\\SIR\\\\Influential-nodes-identification-in-complex-networks-via-information-entropy')\n",
    "from algorithms import *\n"
   ]
  },
  {
   "cell_type": "code",
   "execution_count": 16,
   "metadata": {},
   "outputs": [],
   "source": [
    "data_file = 'CEnew' # 'HepPh'\n",
    "G = nx.read_adjlist(data_file)\n",
    "G.remove_edges_from(nx.selfloop_edges(G))\n",
    "nodes = list(nx.nodes(G))\n",
    "for node in nodes:\n",
    "    if G.degree(node) == 0:\n",
    "        G.remove_node(node)"
   ]
  },
  {
   "cell_type": "code",
   "execution_count": 17,
   "metadata": {},
   "outputs": [
    {
     "output_type": "stream",
     "name": "stdout",
     "text": [
      "453 2025\n"
     ]
    }
   ],
   "source": [
    "print(nx.number_of_nodes(G), nx.number_of_edges(G))"
   ]
  },
  {
   "cell_type": "code",
   "execution_count": 4,
   "metadata": {},
   "outputs": [],
   "source": [
    "a, b = {'a':0.5, 'ab':0.5},{'b':0.3, 'abc':0.6, 'c':0.1}"
   ]
  },
  {
   "cell_type": "code",
   "execution_count": 6,
   "metadata": {},
   "outputs": [],
   "source": [
    "combi_res = DSCombination(a,b)\n",
    "# combi_res"
   ]
  },
  {
   "cell_type": "code",
   "execution_count": 32,
   "metadata": {},
   "outputs": [
    {
     "output_type": "stream",
     "name": "stdout",
     "text": [
      "[('1', 4), ('2', 123), ('3', 4), ('4', 38), ('5', 109)]\n"
     ]
    }
   ],
   "source": [
    "node = list(G.degree())[:5]\n",
    "print(node)\n",
    "k_max,k_min = max([j for i,j in node]),min([j for i,j in node])\n",
    "mu, epsilon = 0.15,0.15\n",
    "sigma = k_max-k_min+(2*mu)"
   ]
  },
  {
   "cell_type": "code",
   "execution_count": 33,
   "metadata": {},
   "outputs": [],
   "source": [
    "w_d_h = [(i,abs(k-k_min)/sigma) for (i,k) in node]\n",
    "w_d_i = [(i,abs(k-k_max)/epsilon) for (i,k) in node]\n",
    "w_d_t = [(i,1-(abs(k-k_min)/sigma + abs(k-k_max)/epsilon)) for (i,k) in node]"
   ]
  },
  {
   "cell_type": "code",
   "execution_count": null,
   "metadata": {},
   "outputs": [],
   "source": [
    "all_ = [i+y[1:]+z[1:] for ]"
   ]
  }
 ]
}