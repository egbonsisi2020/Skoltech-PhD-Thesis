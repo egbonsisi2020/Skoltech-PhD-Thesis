{
 "metadata": {
  "language_info": {
   "codemirror_mode": {
    "name": "ipython",
    "version": 3
   },
   "file_extension": ".py",
   "mimetype": "text/x-python",
   "name": "python",
   "nbconvert_exporter": "python",
   "pygments_lexer": "ipython3",
   "version": "3.9.1"
  },
  "orig_nbformat": 4,
  "kernelspec": {
   "name": "python3",
   "display_name": "Python 3.9.1 64-bit ('myenv': conda)"
  },
  "interpreter": {
   "hash": "67e6a4aa325bcd0e0aaaeb4e623fbf1760d37df0ebdc8dc3b72d0ab217e1e634"
  }
 },
 "nbformat": 4,
 "nbformat_minor": 2,
 "cells": [
  {
   "cell_type": "code",
   "execution_count": 1,
   "metadata": {},
   "outputs": [],
   "source": [
    "import pickle\n",
    "from tqdm import tqdm\n",
    "import numpy as np\n",
    "# import matplotlib.pyplot as plt\n",
    "import networkx as nx\n",
    "import sys\n",
    "import random\n",
    "sys.path.append(r'c:\\\\Users\\\\rotim\\\\OneDrive\\\\Documents\\\\Reading\\\\graph-code\\\\Skoltech-PhD-Thesis\\\\_codes\\\\SIR\\\\Influential-nodes-identification-in-complex-networks-via-information-entropy')\n",
    "from algorithms import *\n"
   ]
  },
  {
   "cell_type": "code",
   "execution_count": 2,
   "metadata": {},
   "outputs": [],
   "source": [
    "data_file = 'CEnew' # 'HepPh'\n",
    "G = nx.read_adjlist(data_file)\n",
    "G.remove_edges_from(nx.selfloop_edges(G))\n",
    "nodes = list(nx.nodes(G))\n",
    "for node in nodes:\n",
    "    if G.degree(node) == 0:\n",
    "        G.remove_node(node)"
   ]
  },
  {
   "cell_type": "code",
   "execution_count": null,
   "metadata": {},
   "outputs": [],
   "source": []
  }
 ]
}