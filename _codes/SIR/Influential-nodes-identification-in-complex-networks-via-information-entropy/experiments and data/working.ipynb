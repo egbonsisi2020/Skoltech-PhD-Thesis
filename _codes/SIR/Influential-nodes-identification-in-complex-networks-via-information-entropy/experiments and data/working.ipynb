{
 "metadata": {
  "language_info": {
   "codemirror_mode": {
    "name": "ipython",
    "version": 3
   },
   "file_extension": ".py",
   "mimetype": "text/x-python",
   "name": "python",
   "nbconvert_exporter": "python",
   "pygments_lexer": "ipython3",
   "version": "3.9.1"
  },
  "orig_nbformat": 4,
  "kernelspec": {
   "name": "python3",
   "display_name": "Python 3.9.1 64-bit ('myenv': conda)"
  },
  "interpreter": {
   "hash": "67e6a4aa325bcd0e0aaaeb4e623fbf1760d37df0ebdc8dc3b72d0ab217e1e634"
  }
 },
 "nbformat": 4,
 "nbformat_minor": 2,
 "cells": [
  {
   "cell_type": "code",
   "execution_count": 12,
   "metadata": {},
   "outputs": [],
   "source": [
    "import pickle\n",
    "from tqdm import tqdm\n",
    "import numpy as np\n",
    "# import matplotlib.pyplot as plt\n",
    "import networkx as nx\n",
    "import sys\n",
    "import random\n",
    "sys.path.append(r'c:\\\\Users\\\\rotim\\\\OneDrive\\\\Documents\\\\Reading\\\\graph-code\\\\Skoltech-PhD-Thesis\\\\_codes\\\\SIR\\\\Influential-nodes-identification-in-complex-networks-via-information-entropy')\n",
    "from algorithms import *\n"
   ]
  },
  {
   "cell_type": "code",
   "execution_count": 13,
   "metadata": {},
   "outputs": [],
   "source": [
    "data_file = 'CEnew' # 'HepPh'\n",
    "G = nx.read_adjlist(data_file)\n",
    "G.remove_edges_from(nx.selfloop_edges(G))\n",
    "nodes = list(nx.nodes(G))\n",
    "for node in nodes:\n",
    "    if G.degree(node) == 0:\n",
    "        G.remove_node(node)"
   ]
  },
  {
   "cell_type": "code",
   "execution_count": 14,
   "metadata": {},
   "outputs": [
    {
     "output_type": "stream",
     "name": "stdout",
     "text": [
      "453 2025\n"
     ]
    }
   ],
   "source": [
    "print(nx.number_of_nodes(G), nx.number_of_edges(G))"
   ]
  },
  {
   "cell_type": "code",
   "execution_count": 30,
   "metadata": {},
   "outputs": [],
   "source": [
    "a, b = {'a':0.5, 'ab':0.5},{'b':0.3, 'abc':0.6, 'c':0.1}"
   ]
  },
  {
   "cell_type": "code",
   "execution_count": 31,
   "metadata": {},
   "outputs": [
    {
     "output_type": "execute_result",
     "data": {
      "text/plain": [
       "{'b': 0.19999999999999998,\n",
       " 'abc': 0.0,\n",
       " 'ab': 0.39999999999999997,\n",
       " 'a': 0.39999999999999997,\n",
       " 'c': 0.0}"
      ]
     },
     "metadata": {},
     "execution_count": 31
    }
   ],
   "source": [
    "combi_res = DSCombination(a,b)\n",
    "combi_res"
   ]
  },
  {
   "cell_type": "code",
   "execution_count": 17,
   "metadata": {},
   "outputs": [
    {
     "output_type": "stream",
     "name": "stdout",
     "text": [
      "[('1', 4), ('2', 123), ('3', 4), ('4', 38), ('5', 109)] [('1', 264), ('2', 1258), ('3', 264), ('4', 975), ('5', 1400)]\n"
     ]
    }
   ],
   "source": [
    "node = list(G.degree())[:5]\n",
    "node_k_2 = [(i,len(n_neighbor(G, i, 2))) for (i,j) in node ]\n",
    "print(node, node_k_2)\n"
   ]
  },
  {
   "cell_type": "code",
   "execution_count": 18,
   "metadata": {},
   "outputs": [],
   "source": [
    "k_max,k_min,k_2_max,k_2_min = max([j for i,j in node]),min([j for i,j in node]),max([j for i,j in node_k_2]),min([j for i,j in node_k_2])\n",
    "mu, epsilon = 0.15,0.15\n",
    "sigma,sigma_k_2 = k_max-k_min+(2*mu),k_2_max-k_2_min+(2*mu)\n",
    "delta,delta_k_2 = k_max-k_min+(2*epsilon),k_2_max-k_2_min+(2*epsilon)"
   ]
  },
  {
   "cell_type": "code",
   "execution_count": 19,
   "metadata": {
    "tags": []
   },
   "outputs": [
    {
     "output_type": "stream",
     "name": "stdout",
     "text": [
      "[('1', 0.0025146689019278634), ('2', 0.0025146689019278634), ('3', 0.0025146689019278634), ('4', 0.0025146689019279744), ('5', 0.0025146689019278634)] [('1', 9.522212908633696), ('2', 1.190276613579212), ('3', 9.522212908633696), ('4', 3.562447611064543), ('5', 0.0)]\n"
     ]
    }
   ],
   "source": [
    "w_d_h,w_d_2_h = [(i,abs(k-k_min)/sigma) for (i,k) in node],[(i,abs(k-k_2_min)/sigma) for (i,k) in node_k_2]\n",
    "# print(w_d_h)\n",
    "w_d_l,w_d_2_l = [(i,abs(k-k_max)/delta) for (i,k) in node],[(i,abs(k-k_2_max)/sigma) for (i,k) in node_k_2]\n",
    "# print(w_d_i)\n",
    "w_d_t,w_d_2_t = [(i, (1-(y + z))) for i,y in w_d_h for k,z in w_d_l if i[0] == k[0]],[(i, (1-(y + z))) for i,y in w_d_2_h for k,z in w_d_2_l if i[0] == k[0]]\n",
    "# w_d_t = [(i,1-(abs(k-k_min)/sigma + abs(k-k_max)/delta)) for i,k in node]\n",
    "print(w_d_t, w_d_2_l)"
   ]
  },
  {
   "cell_type": "code",
   "execution_count": 29,
   "metadata": {},
   "outputs": [
    {
     "output_type": "stream",
     "name": "stdout",
     "text": [
      "5 \n ...... \n [{'h': 0.0, 'l': 9.522212908633696, 't': -8.522212908633696}, {'h': 8.331936295054485, 'l': 1.190276613579212, 't': -8.522212908633696}, {'h': 0.0, 'l': 9.522212908633696, 't': -8.522212908633696}, {'h': 5.959765297569153, 'l': 3.562447611064543, 't': -8.522212908633696}, {'h': 9.522212908633696, 'l': 0.0, 't': -8.522212908633696}]\n"
     ]
    }
   ],
   "source": [
    "combined_dict,combined_dict_k_2 = covert_to_dict(w_d_h, w_d_l, w_d_t),covert_to_dict(w_d_2_h, w_d_2_l, w_d_2_t)\n",
    "print(len(combined_dict), \"\\n ...... \\n\", combined_dict_k_2)"
   ]
  },
  {
   "cell_type": "code",
   "execution_count": 32,
   "metadata": {},
   "outputs": [
    {
     "output_type": "stream",
     "name": "stdout",
     "text": [
      "25\n"
     ]
    }
   ],
   "source": [
    "sample_DS_combi = [DSCombination(b,a) for a in combined_dict for b in  combined_dict_k_2]\n",
    "print(len(sample_DS_combi))"
   ]
  },
  {
   "cell_type": "code",
   "execution_count": null,
   "metadata": {},
   "outputs": [],
   "source": []
  }
 ]
}