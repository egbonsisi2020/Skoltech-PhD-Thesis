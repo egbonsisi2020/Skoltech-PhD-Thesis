{
 "cells": [
  {
   "cell_type": "code",
   "execution_count": 1,
   "source": [
    "import networkx as nx\r\n",
    "import sys\r\n",
    "sys.path.append(r'c:\\\\Users\\\\rotim\\\\OneDrive\\\\Documents\\\\Reading\\\\graph-code\\\\Skoltech-PhD-Thesis\\\\_codes\\\\SIR\\\\Influential-nodes-identification-in-complex-networks-via-information-entropy')\r\n",
    "from algorithms import *\r\n",
    "import matplotlib.pyplot as plt\r\n",
    "import numpy as np\r\n",
    "from tqdm import tqdm\r\n",
    "import pickle"
   ],
   "outputs": [],
   "metadata": {}
  },
  {
   "cell_type": "code",
   "execution_count": 2,
   "source": [
    "data_file = 'topo'  # 'HepPh'\r\n",
    "G = clean_data(data_file)\r\n",
    "print(nx.number_of_nodes(G), nx.number_of_edges(G))\r\n"
   ],
   "outputs": [
    {
     "output_type": "stream",
     "name": "stdout",
     "text": [
      "34 42\n"
     ]
    }
   ],
   "metadata": {}
  },
  {
   "cell_type": "code",
   "execution_count": 3,
   "source": [
    "geo_loc_data = get_geo_data(\"Internet2LatLong.csv\")\r\n",
    "edge_geo_data_combined = assign_location(G, geo_loc_data)\r\n",
    "\r\n",
    "# set edge attributes\r\n",
    "set_edge_attr(G, edge_geo_data_combined)"
   ],
   "outputs": [],
   "metadata": {}
  },
  {
   "cell_type": "markdown",
   "source": [
    "### Degree, Two Step Neghbor $D - 2SN$"
   ],
   "metadata": {}
  },
  {
   "cell_type": "code",
   "execution_count": 4,
   "source": [
    "d = [(i, len(n_neighbor(G, i, 1)))\r\n",
    "          for (i, j) in sorted(list(G.degree()), key=lambda item: int(item[0]))]\r\n",
    "two_sn = [(i, len(n_neighbor(G, i, 2)))\r\n",
    "          for (i, j) in sorted(list(G.degree()), key=lambda item: int(item[0]))]\r\n",
    "combined_dict_d, combined_dict_k_2 = varying_examples(d, two_sn)\r\n",
    "\r\n",
    "# Get ranked result\r\n",
    "opti_rank_m1, ranked_nodes_m1 = rank_result(combined_dict_d, combined_dict_k_2)\r\n",
    "# opti_rank_m1\r\n",
    "# ranked_nodes_m1\r\n"
   ],
   "outputs": [],
   "metadata": {}
  },
  {
   "cell_type": "code",
   "execution_count": 5,
   "source": [
    "ns_over_d = [(i, sum(hub_information(G, i, 1))/len(n_neighbor(G, i, 1)))\r\n",
    " for (i, j) in sorted(list(G.degree()), key=lambda item: int(item[0]))]\r\n",
    "\r\n",
    "combined_dict, combined_dict_k_2 = varying_examples(ns_over_d, two_sn)\r\n",
    "\r\n",
    "# Get ranked result\r\n",
    "opti_rank_m2, ranked_nodes_m2 = rank_result(combined_dict, combined_dict_k_2)\r\n",
    "# opti_rank_m2\r\n",
    "# ranked_nodes_m2\r\n"
   ],
   "outputs": [],
   "metadata": {}
  },
  {
   "cell_type": "markdown",
   "source": [
    "### $D - WD$"
   ],
   "metadata": {}
  },
  {
   "cell_type": "code",
   "execution_count": 6,
   "source": [
    "w_d = [(i[0],i[1]-(j[1])) for i,j in zip(ns_over_d, two_sn)]\r\n",
    "combined_dict_w_d, combined_dict_k_w_d = varying_examples(d, w_d)\r\n",
    "\r\n",
    "# Get ranked result\r\n",
    "opti_rank_m3, ranked_nodes_m3 = rank_result(combined_dict_w_d, combined_dict_k_w_d)\r\n",
    "# opti_rank_m3\r\n",
    "# ranked_nodes_m3\r\n"
   ],
   "outputs": [],
   "metadata": {}
  },
  {
   "cell_type": "markdown",
   "source": [
    "### $K - 2SN$"
   ],
   "metadata": {}
  },
  {
   "cell_type": "code",
   "execution_count": 7,
   "source": [
    "# obtain the node degrees and edges weights to desired lengths\r\n",
    "tmp_t = list(range(1, 5))\r\n",
    "tmp_t_SN, tmp_t_hub = hubs_SN_NS(G, tmp_t)\r\n",
    "\r\n",
    "combined_dict_m0, combined_dict_k_2 = varying_examples(\r\n",
    "    tmp_t_SN[0][1], tmp_t_hub[1][2])\r\n",
    "\r\n",
    "# Get ranked result\r\n",
    "opti_rank_m0, ranked_nodes_m0 = rank_result(combined_dict_m0, combined_dict_k_2)\r\n",
    "\r\n",
    "# print(opti_rank_m0, ranked_nodes_m0)\r\n"
   ],
   "outputs": [],
   "metadata": {}
  },
  {
   "cell_type": "markdown",
   "source": [
    "### Classical Model"
   ],
   "metadata": {}
  },
  {
   "cell_type": "code",
   "execution_count": 8,
   "source": [
    "max_ = 1\r\n",
    "max_topk = round(max_ * nx.number_of_nodes(G))\r\n",
    "newmethod_rank = EnRenewRank(G, max_topk, 2)\r\n"
   ],
   "outputs": [],
   "metadata": {}
  },
  {
   "cell_type": "code",
   "execution_count": 9,
   "source": [
    "infect_prob = compute_probability(G) * 1.5\r\n",
    "print(infect_prob)\r\n",
    "atio = 1.5\r\n",
    "cover_prob = infect_prob / atio\r\n",
    "avg = 100\r\n",
    "max_iter = 200000\r\n"
   ],
   "outputs": [
    {
     "output_type": "stream",
     "name": "stdout",
     "text": [
      "0.8873239436619718\n"
     ]
    }
   ],
   "metadata": {}
  },
  {
   "cell_type": "code",
   "execution_count": 10,
   "source": [
    "rates = [0.15, 0.3, 0.45, 0.6, 0.75, 0.9]\r\n",
    "topk_list = list(map(lambda x: round(nx.number_of_nodes(G) * x), rates))\r\n",
    "topk_list\r\n"
   ],
   "outputs": [
    {
     "output_type": "execute_result",
     "data": {
      "text/plain": [
       "[5, 10, 15, 20, 26, 31]"
      ]
     },
     "metadata": {},
     "execution_count": 10
    }
   ],
   "metadata": {}
  },
  {
   "cell_type": "markdown",
   "source": [
    "### Weighted Degree $WD  - 2SN$\r\n",
    "$Where  WD = (NS/D)$"
   ],
   "metadata": {}
  },
  {
   "cell_type": "code",
   "execution_count": 11,
   "source": [
    "m0_result = [get_sir_result(G, ranked_nodes_m0, k, avg, infect_prob, cover_prob, max_iter)[-1]/ nx.number_of_nodes(G) for k in topk_list]\r\n",
    "m1_result = [get_sir_result(G, ranked_nodes_m1, k, avg, infect_prob, cover_prob, max_iter)[-1]/ nx.number_of_nodes(G) for k in topk_list]\r\n",
    "m2_result = [get_sir_result(G, ranked_nodes_m2, k, avg, infect_prob, cover_prob, max_iter)[-1]/ nx.number_of_nodes(G) for k in topk_list]\r\n",
    "m3_result = [get_sir_result(G, ranked_nodes_m3, k, avg, infect_prob, cover_prob, max_iter)[-1]/ nx.number_of_nodes(G) for k in topk_list]\r\n",
    "newmethod_result = [get_sir_result(G,newmethod_rank, k, avg, infect_prob, cover_prob, max_iter)[-1]/ nx.number_of_nodes(G) for k in topk_list]\r\n",
    "\r\n"
   ],
   "outputs": [],
   "metadata": {}
  },
  {
   "cell_type": "code",
   "execution_count": 13,
   "source": [
    "%matplotlib inline\r\n",
    "plt.title(f'network:{data_file}   avg:{avg}  i/r:{atio}   infect_prob:{infect_prob}')\r\n",
    "plt.plot(np.array(topk_list) / nx.number_of_nodes(G), m0_result, 'g--o', label='D-2NS', linewidth=1.0, )\r\n",
    "# plt.plot(np.array(topk_list) / nx.number_of_nodes(G), m1_result, 'b-o', label='D-2SN', linewidth=1.0, )\r\n",
    "plt.plot(np.array(topk_list) / nx.number_of_nodes(G), m2_result, 'r--o', label='WD-2SN', linewidth=1.0, )\r\n",
    "plt.plot(np.array(topk_list) / nx.number_of_nodes(G), m3_result, 'c--o', label='D-WD', linewidth=1.0, )\r\n",
    "# plt.plot(np.array(topk_list) / nx.number_of_nodes(G), newmethod_result, 'y--o', label='Classical', linewidth=1.0, )\r\n",
    "plt.legend(loc=\"upper left\")\r\n",
    "plt.ylabel(\"$F(t_c)$\")\r\n",
    "plt.xlabel('$p$')\r\n",
    "plt.show()\r\n",
    "\r\n"
   ],
   "outputs": [
    {
     "output_type": "display_data",
     "data": {
      "image/png": "[encoded data removed]",
      "text/plain": [
       "<Figure size 432x288 with 1 Axes>"
      ]
     },
     "metadata": {
      "needs_background": "light"
     }
    }
   ],
   "metadata": {}
  }
 ],
 "metadata": {
  "orig_nbformat": 4,
  "language_info": {
   "name": "python",
   "version": "3.9.7",
   "mimetype": "text/x-python",
   "codemirror_mode": {
    "name": "ipython",
    "version": 3
   },
   "pygments_lexer": "ipython3",
   "nbconvert_exporter": "python",
   "file_extension": ".py"
  },
  "kernelspec": {
   "name": "python3",
   "display_name": "Python 3.9.7 64-bit ('myenv': conda)"
  },
  "interpreter": {
   "hash": "67e6a4aa325bcd0e0aaaeb4e623fbf1760d37df0ebdc8dc3b72d0ab217e1e634"
  }
 },
 "nbformat": 4,
 "nbformat_minor": 2
}