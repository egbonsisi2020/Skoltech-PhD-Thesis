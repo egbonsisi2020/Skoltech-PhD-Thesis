{
 "metadata": {
  "language_info": {
   "codemirror_mode": {
    "name": "ipython",
    "version": 3
   },
   "file_extension": ".py",
   "mimetype": "text/x-python",
   "name": "python",
   "nbconvert_exporter": "python",
   "pygments_lexer": "ipython3",
   "version": "3.9.1"
  },
  "orig_nbformat": 4,
  "kernelspec": {
   "name": "python3",
   "display_name": "Python 3.9.1 64-bit ('myenv': conda)"
  },
  "interpreter": {
   "hash": "67e6a4aa325bcd0e0aaaeb4e623fbf1760d37df0ebdc8dc3b72d0ab217e1e634"
  }
 },
 "nbformat": 4,
 "nbformat_minor": 2,
 "cells": [
  {
   "cell_type": "code",
   "execution_count": 1,
   "metadata": {},
   "outputs": [],
   "source": [
    "import pickle\n",
    "from tqdm import tqdm\n",
    "import numpy as np\n",
    "# import matplotlib.pyplot as plt\n",
    "import networkx as nx\n",
    "import sys\n",
    "import random\n",
    "sys.path.append(r'c:\\\\Users\\\\rotim\\\\OneDrive\\\\Documents\\\\Reading\\\\graph-code\\\\Skoltech-PhD-Thesis\\\\_codes\\\\SIR\\\\Influential-nodes-identification-in-complex-networks-via-information-entropy')\n",
    "from algorithms import *\n"
   ]
  },
  {
   "cell_type": "code",
   "execution_count": 2,
   "metadata": {},
   "outputs": [],
   "source": [
    "data_file = 'CEnew' # 'HepPh'\n",
    "G = nx.read_adjlist(data_file)\n",
    "G.remove_edges_from(nx.selfloop_edges(G))\n",
    "nodes = list(nx.nodes(G))\n",
    "for node in nodes:\n",
    "    if G.degree(node) == 0:\n",
    "        G.remove_node(node)"
   ]
  },
  {
   "cell_type": "code",
   "execution_count": 3,
   "metadata": {},
   "outputs": [
    {
     "output_type": "stream",
     "name": "stdout",
     "text": [
      "453 2025\n"
     ]
    }
   ],
   "source": [
    "print(nx.number_of_nodes(G), nx.number_of_edges(G))"
   ]
  },
  {
   "cell_type": "code",
   "execution_count": 5,
   "metadata": {},
   "outputs": [
    {
     "output_type": "execute_result",
     "data": {
      "text/plain": [
       "0.03836535182448562"
      ]
     },
     "metadata": {},
     "execution_count": 5
    }
   ],
   "source": [
    "infect_prob = compute_probability(G)*1.5\n",
    "infect_prob"
   ]
  },
  {
   "cell_type": "code",
   "execution_count": 6,
   "metadata": {},
   "outputs": [],
   "source": [
    "atio = 1\n",
    "cover_prob = infect_prob / atio"
   ]
  },
  {
   "cell_type": "code",
   "execution_count": 14,
   "metadata": {},
   "outputs": [],
   "source": [
    "max_iter = 20000"
   ]
  },
  {
   "cell_type": "code",
   "execution_count": 15,
   "metadata": {},
   "outputs": [
    {
     "output_type": "stream",
     "name": "stdout",
     "text": [
      "4\n"
     ]
    }
   ],
   "source": [
    "max_ = 0.009\n",
    "max_topk = round(max_ * nx.number_of_nodes(G))\n",
    "print(max_topk)"
   ]
  },
  {
   "cell_type": "code",
   "execution_count": 16,
   "metadata": {},
   "outputs": [
    {
     "output_type": "stream",
     "name": "stdout",
     "text": [
      "[('15', ' '), ('2', ' '), ('5', ' '), ('97', ' ')]\ndone!\n"
     ]
    }
   ],
   "source": [
    "degreerank = degree(G, max_topk)\n",
    "print(degreerank)\n",
    "print('done!')"
   ]
  },
  {
   "cell_type": "code",
   "execution_count": 17,
   "metadata": {},
   "outputs": [
    {
     "output_type": "execute_result",
     "data": {
      "text/plain": [
       "['15', '2', '5', '97']"
      ]
     },
     "metadata": {},
     "execution_count": 17
    }
   ],
   "source": [
    "get_topk(degreerank, max_topk)"
   ]
  },
  {
   "cell_type": "code",
   "execution_count": 18,
   "metadata": {},
   "outputs": [
    {
     "output_type": "stream",
     "name": "stdout",
     "text": [
      "(167, {0: 4, 1: 4, 2: 4, 3: 4, 4: 4, 5: 4, 6: 4, 7: 4, 8: 4, 9: 5, 10: 5, 11: 5, 12: 6, 13: 6, 14: 6, 15: 7, 16: 8, 17: 8, 18: 8, 19: 8, 20: 8, 21: 8, 22: 9, 23: 9, 24: 9, 25: 9, 26: 11, 27: 11, 28: 11, 29: 11, 30: 12, 31: 13, 32: 13, 33: 14, 34: 14, 35: 14, 36: 14, 37: 14, 38: 14, 39: 14, 40: 14, 41: 14, 42: 14, 43: 15, 44: 15, 45: 15, 46: 15, 47: 15, 48: 16, 49: 16, 50: 17, 51: 17, 52: 17, 53: 17, 54: 17, 55: 17, 56: 17, 57: 17, 58: 17, 59: 17, 60: 17, 61: 17, 62: 17, 63: 17, 64: 17, 65: 17, 66: 17, 67: 17, 68: 17, 69: 17, 70: 17, 71: 17, 72: 17, 73: 17, 74: 17, 75: 17, 76: 17, 77: 17, 78: 17, 79: 17, 80: 17, 81: 17, 82: 17, 83: 17, 84: 17, 85: 17, 86: 17, 87: 17, 88: 17, 89: 17, 90: 17, 91: 17, 92: 17, 93: 17, 94: 17, 95: 17, 96: 17, 97: 17, 98: 17, 99: 17, 100: 17, 101: 17, 102: 17, 103: 17, 104: 17, 105: 17, 106: 17, 107: 17, 108: 17, 109: 17, 110: 17, 111: 17, 112: 17, 113: 17, 114: 17, 115: 17, 116: 17, 117: 17, 118: 17, 119: 17, 120: 17, 121: 17, 122: 17, 123: 17, 124: 17, 125: 17, 126: 17, 127: 17, 128: 17, 129: 17, 130: 17, 131: 17, 132: 17, 133: 17, 134: 17, 135: 17, 136: 17, 137: 17, 138: 17, 139: 17, 140: 17, 141: 17, 142: 17, 143: 17, 144: 17, 145: 17, 146: 17, 147: 17, 148: 17, 149: 17, 150: 17, 151: 17, 152: 17, 153: 17, 154: 17, 155: 17, 156: 17, 157: 17, 158: 17, 159: 17, 160: 17, 161: 17, 162: 17, 163: 17, 164: 17, 165: 17, 166: 17, 167: 17})\n"
     ]
    }
   ],
   "source": [
    "\n",
    "\n",
    "SIR_sample_result = SIR(G, get_topk(degreerank, max_topk), infect_prob,cover_prob, max_iter)\n",
    "print(SIR_sample_result)"
   ]
  },
  {
   "cell_type": "code",
   "execution_count": 4,
   "metadata": {},
   "outputs": [
    {
     "output_type": "stream",
     "name": "stdout",
     "text": [
      "0.009 4\n"
     ]
    }
   ],
   "source": [
    "# to-get infected set\n",
    "r = 0.009\n",
    "top_k = round(nx.number_of_nodes(G) * r)\n",
    "print(r, top_k)\n",
    "rank = []"
   ]
  },
  {
   "cell_type": "code",
   "execution_count": 5,
   "metadata": {},
   "outputs": [
    {
     "output_type": "stream",
     "name": "stdout",
     "text": [
      "0.0015 1\n0.003 1\n0.0045 2\n0.006 3\n0.0075 3\n0.009 4\n[1, 1, 2, 3, 3, 4]\n"
     ]
    }
   ],
   "source": [
    "r = [0.0015, 0.003, 0.0045, 0.006, 0.0075, 0.009]\n",
    "topk_list = []\n",
    "for k in r:\n",
    "    topk = round(nx.number_of_nodes(G) * k)\n",
    "    print(k, topk)\n",
    "    topk_list.append(topk)\n",
    "\n",
    "print(topk_list)"
   ]
  },
  {
   "cell_type": "code",
   "execution_count": 6,
   "metadata": {},
   "outputs": [
    {
     "output_type": "stream",
     "name": "stdout",
     "text": [
      "4\n[('15', ' '), ('2', ' '), ('5', ' '), ('97', ' ')]\n"
     ]
    }
   ],
   "source": [
    "max_ = 0.009\r\n",
    "max_topk = round(max_ * nx.number_of_nodes(G))\r\n",
    "print(max_topk)\r\n",
    "\r\n",
    "degreerank = degree(G, max_topk)\r\n",
    "print(degreerank)"
   ]
  },
  {
   "cell_type": "code",
   "execution_count": 7,
   "metadata": {},
   "outputs": [
    {
     "output_type": "stream",
     "name": "stderr",
     "text": [
      "100%|██████████| 6/6 [00:00<?, ?it/s]['15', '2', '5', '97']\n",
      "\n"
     ]
    }
   ],
   "source": [
    "#nbrs = nx.neighbors(G, n=G)\n",
    "#infected_prob_set = []\n",
    "for k in tqdm(topk_list):\n",
    "    topk = k\n",
    "infected_prob_set = get_topk(degreerank, topk)\n",
    "print(infected_prob_set)"
   ]
  },
  {
   "cell_type": "code",
   "execution_count": 8,
   "metadata": {},
   "outputs": [
    {
     "output_type": "stream",
     "name": "stdout",
     "text": [
      "15\n2\n5\n97\n<dict_keyiterator object at 0x000001B5FF802180>\n"
     ]
    }
   ],
   "source": [
    "# infected_prob_set\n",
    "\n",
    "for node in infected_prob_set:\n",
    "    nbrs = nx.neighbors(G, node)\n",
    "    print(node)\n",
    "print(nbrs)\n",
    "    # nbr = np.random.choice(nbrs)\n",
    "# print(nbr)"
   ]
  },
  {
   "cell_type": "code",
   "execution_count": 9,
   "metadata": {},
   "outputs": [
    {
     "output_type": "stream",
     "name": "stdout",
     "text": [
      "[0, 1, 2, 3, 4, 5, 6, 7, 8, 9] [10, 11, 12, 13, 14, 15, 16, 17, 18, 19]\n[[0. 0. 0. 0. 0. 0. 0. 0. 0. 0.]\n [0. 0. 0. 0. 0. 0. 0. 0. 0. 0.]\n [0. 0. 0. 0. 0. 0. 0. 0. 0. 0.]\n [0. 0. 0. 0. 0. 0. 0. 0. 0. 0.]\n [0. 0. 0. 0. 0. 0. 0. 0. 0. 0.]\n [0. 0. 0. 0. 0. 0. 0. 0. 0. 0.]\n [0. 0. 0. 0. 0. 0. 0. 0. 0. 0.]\n [0. 0. 0. 0. 0. 0. 0. 0. 0. 0.]\n [0. 0. 0. 0. 0. 0. 0. 0. 0. 0.]\n [0. 0. 0. 0. 0. 0. 0. 0. 0. 0.]]\n"
     ]
    },
    {
     "output_type": "execute_result",
     "data": {
      "text/plain": [
       "array([0., 0., 0., 0., 0., 0., 0., 0., 0., 0.])"
      ]
     },
     "metadata": {},
     "execution_count": 9
    }
   ],
   "source": [
    "time_num_dict_list = list(range(10,20))\n",
    "time_list = list(range(0,10))\n",
    "print(time_list, time_num_dict_list)\n",
    "max_time = max(time_list) + 1\n",
    "result_matrix = np.zeros((len(time_num_dict_list), max_time))\n",
    "print(result_matrix)\n",
    "result_matrix[-1]"
   ]
  },
  {
   "cell_type": "code",
   "execution_count": 21,
   "metadata": {},
   "outputs": [
    {
     "output_type": "stream",
     "name": "stdout",
     "text": [
      "(6, 9)\n[0 0 0]\n[(1, 2) (4, 3) (6, 9)] (6, 9)\n"
     ]
    },
    {
     "output_type": "execute_result",
     "data": {
      "text/plain": [
       "array([(1, 2), (4, 3), (6, 9)], dtype=object)"
      ]
     },
     "metadata": {},
     "execution_count": 21
    }
   ],
   "source": [
    "a = [(1,2),(4,3),(6,9)]\n",
    "print(a[-1])\n",
    "a0 = np.zeros(len(a),dtype=object)\n",
    "print(a0)\n",
    "a0[:] = a\n",
    "print(a0, a0[-1])\n",
    "a0"
   ]
  },
  {
   "cell_type": "code",
   "execution_count": 10,
   "metadata": {},
   "outputs": [
    {
     "output_type": "stream",
     "name": "stdout",
     "text": [
      "0 (array([0., 0., 0., 0., 0., 0., 0., 0., 0., 0.]), 10)\n"
     ]
    },
    {
     "output_type": "error",
     "ename": "TypeError",
     "evalue": "'int' object is not iterable",
     "traceback": [
      "\u001b[1;31m---------------------------------------------------------------------------\u001b[0m",
      "\u001b[1;31mTypeError\u001b[0m                                 Traceback (most recent call last)",
      "\u001b[1;32m<ipython-input-10-285ddab34967>\u001b[0m in \u001b[0;36m<module>\u001b[1;34m\u001b[0m\n\u001b[0;32m      1\u001b[0m \u001b[1;32mfor\u001b[0m \u001b[0mindex\u001b[0m\u001b[1;33m,\u001b[0m \u001b[1;33m(\u001b[0m\u001b[0mrow\u001b[0m\u001b[1;33m,\u001b[0m \u001b[0mtime_num_dict\u001b[0m\u001b[1;33m)\u001b[0m \u001b[1;32min\u001b[0m \u001b[0menumerate\u001b[0m\u001b[1;33m(\u001b[0m\u001b[0mzip\u001b[0m\u001b[1;33m(\u001b[0m\u001b[0mresult_matrix\u001b[0m\u001b[1;33m,\u001b[0m \u001b[0mtime_num_dict_list\u001b[0m\u001b[1;33m)\u001b[0m\u001b[1;33m)\u001b[0m\u001b[1;33m:\u001b[0m\u001b[1;33m\u001b[0m\u001b[1;33m\u001b[0m\u001b[0m\n\u001b[0;32m      2\u001b[0m     \u001b[0mprint\u001b[0m\u001b[1;33m(\u001b[0m\u001b[0mindex\u001b[0m\u001b[1;33m,\u001b[0m \u001b[1;33m(\u001b[0m\u001b[0mrow\u001b[0m\u001b[1;33m,\u001b[0m \u001b[0mtime_num_dict\u001b[0m\u001b[1;33m)\u001b[0m\u001b[1;33m)\u001b[0m\u001b[1;33m\u001b[0m\u001b[1;33m\u001b[0m\u001b[0m\n\u001b[1;32m----> 3\u001b[1;33m     \u001b[0mrow\u001b[0m\u001b[1;33m[\u001b[0m\u001b[1;33m:\u001b[0m\u001b[1;33m]\u001b[0m \u001b[1;33m=\u001b[0m \u001b[0mlist\u001b[0m\u001b[1;33m(\u001b[0m\u001b[0mtime_num_dict\u001b[0m\u001b[1;33m)\u001b[0m\u001b[1;33m[\u001b[0m\u001b[1;33m-\u001b[0m\u001b[1;36m1\u001b[0m\u001b[1;33m]\u001b[0m\u001b[1;33m\u001b[0m\u001b[1;33m\u001b[0m\u001b[0m\n\u001b[0m",
      "\u001b[1;31mTypeError\u001b[0m: 'int' object is not iterable"
     ]
    }
   ],
   "source": [
    "for index, (row, time_num_dict) in enumerate(zip(result_matrix, time_num_dict_list)):\n",
    "    print(index, (row, time_num_dict))\n",
    "    row[:] = list(time_num_dict)[-1]"
   ]
  },
  {
   "cell_type": "code",
   "execution_count": 37,
   "metadata": {},
   "outputs": [
    {
     "output_type": "stream",
     "name": "stdout",
     "text": [
      "0 a1 b1\n... 1\n1 a2 b2\n... 2\n2 a3 b3\n... 3\n"
     ]
    }
   ],
   "source": [
    "alist = ['a1', 'a2', 'a3']\n",
    "blist = ['b1', 'b2', 'b3']\n",
    "\n",
    "for i, (a, b) in enumerate(zip(alist, blist)):\n",
    "    print(i, a, b)\n",
    "    print(\"...\",b[-1])"
   ]
  }
 ]
}