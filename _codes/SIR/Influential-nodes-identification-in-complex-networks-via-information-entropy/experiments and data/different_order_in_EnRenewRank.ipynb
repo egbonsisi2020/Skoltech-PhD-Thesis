{
 "cells": [
  {
   "cell_type": "code",
   "execution_count": 14,
   "source": [
    "import networkx as nx\r\n",
    "import sys\r\n",
    "sys.path.append(r'c:\\\\Users\\\\rotim\\\\OneDrive\\\\Documents\\\\Reading\\\\graph-code\\\\Skoltech-PhD-Thesis\\\\_codes\\\\SIR\\\\Influential-nodes-identification-in-complex-networks-via-information-entropy')\r\n",
    "from algorithms import *\r\n",
    "import matplotlib.pyplot as plt\r\n",
    "import numpy as np\r\n",
    "from tqdm import tqdm\r\n",
    "import pickle"
   ],
   "outputs": [],
   "metadata": {}
  },
  {
   "cell_type": "code",
   "execution_count": 15,
   "source": [
    "data_file = 'topo'  # 'HepPh'\r\n",
    "G = clean_data(data_file)"
   ],
   "outputs": [],
   "metadata": {}
  },
  {
   "cell_type": "code",
   "execution_count": 16,
   "source": [
    "print(nx.number_of_nodes(G), nx.number_of_edges(G))"
   ],
   "outputs": [
    {
     "output_type": "stream",
     "name": "stdout",
     "text": [
      "34 42\n"
     ]
    }
   ],
   "metadata": {}
  },
  {
   "cell_type": "code",
   "execution_count": 17,
   "source": [
    "geo_loc_data = get_geo_data(\"Internet2LatLong.csv\")\r\n",
    "edge_geo_data_combined = assign_location(G, geo_loc_data)\r\n",
    "# set edge attributes\r\n",
    "set_edge_attr(G, edge_geo_data_combined)\r\n",
    "# obtain the node degrees and edges weights to desired lengths\r\n",
    "tmp_t = list(range(1, 5))\r\n",
    "tmp_t_SN, tmp_t_hub = hubs_SN_NS(G, tmp_t)\r\n",
    "# unpack the nodes and edges\r\n",
    "tmp_t_SN_1, tmp_t_SN_2, tmp_t_SN_3, tmp_t_SN_4 = tmp_t_SN\r\n",
    "tmp_t_hub_1, tmp_t_hub_2, tmp_t_hub_3, tmp_t_hub_4 = tmp_t_hub\r\n",
    "# determine variables values\r\n",
    "k_max, k_min, k_2_max, k_2_min, sigma, delta = maxi_mini(\r\n",
    "    tmp_t_SN_1[1], tmp_t_hub_2[2])\r\n",
    "# assign various probability weights\r\n",
    "w_d_h, w_d_2_h, w_d_l, w_d_2_l, w_d_t, w_d_2_t = probability_weights(\r\n",
    "    tmp_t_SN_1[1], tmp_t_hub_2[2], k_max, k_min, k_2_max, k_2_min, sigma, delta)\r\n",
    "# combine into a dictionary\r\n",
    "combined_dict, combined_dict_k_2 = covert_to_dict(\r\n",
    "    w_d_h, w_d_l, w_d_t), covert_to_dict(w_d_2_h, w_d_2_l, w_d_2_t)\r\n",
    "# print(combined_dict, \"\\n ...... \\n\", combined_dict_k_2)\r\n",
    "\r\n",
    "# Get ranked result\r\n",
    "opti_rank, ranked_nodes = rank_result(combined_dict, combined_dict_k_2)\r\n",
    "\r\n",
    "print(opti_rank)\r\n"
   ],
   "outputs": [
    {
     "output_type": "stream",
     "name": "stdout",
     "text": [
      "[('27', 0.9985005730418679), ('5', 0.7549436527724699), ('12', 0.7543488781301699), ('28', 0.6538494099071029), ('2', 0.5865976594398602)]\n"
     ]
    }
   ],
   "metadata": {}
  },
  {
   "cell_type": "code",
   "execution_count": 13,
   "source": [
    "r = [0.8, 0.1, 0.4, 0.2, 0.3, 0.5]\r\n",
    "topk_list = [round(nx.number_of_nodes(G) * k) for k in r]\r\n",
    "print(topk_list)"
   ],
   "outputs": [
    {
     "output_type": "stream",
     "name": "stdout",
     "text": [
      "[27, 3, 14, 7, 10, 17]\n"
     ]
    }
   ],
   "metadata": {}
  },
  {
   "cell_type": "code",
   "execution_count": null,
   "source": [
    "max_topk = round(max(topk_list) * nx.number_of_nodes(G))\r\n",
    "newmethod_1_rank = EnRenewRank(G, max_topk, 1)\r\n",
    "print('done')\r\n",
    "newmethod_2_rank = EnRenewRank(G, max_topk, 2)\r\n",
    "print('done')\r\n",
    "newmethod_3_rank = EnRenewRank(G, max_topk, 3)\r\n",
    "print('done')\r\n",
    "newmethod_4_rank = EnRenewRank(G, max_topk, 4)\r\n",
    "print('done')\r\n"
   ],
   "outputs": [],
   "metadata": {}
  },
  {
   "cell_type": "code",
   "execution_count": null,
   "source": [
    "infect_prob = compute_probability(G) * 1.5\r\n",
    "atio = 1.5\r\n",
    "cover_prob = infect_prob / atio\r\n",
    "avg = 100\r\n",
    "max_iter = 200000"
   ],
   "outputs": [],
   "metadata": {}
  },
  {
   "cell_type": "markdown",
   "source": [
    "## Different order"
   ],
   "metadata": {}
  },
  {
   "cell_type": "code",
   "execution_count": null,
   "source": [
    "%%time\r\n",
    "newmethod_1_rankresult = []\r\n",
    "newmethod_2_rankresult = []\r\n",
    "newmethod_3_rankresult = []\r\n",
    "newmethod_4_rankresult = []\r\n",
    "\r\n",
    "\r\n",
    "for k in tqdm(topk_list):\r\n",
    "    topk = k\r\n",
    "    newmethod_1_rankresult.append(get_sir_result(G, newmethod_1_rank, topk, avg, infect_prob, cover_prob, max_iter)[-1] / nx.number_of_nodes(G))\r\n",
    "    newmethod_2_rankresult.append(get_sir_result(G, newmethod_2_rank, topk, avg, infect_prob, cover_prob, max_iter)[-1] / nx.number_of_nodes(G))\r\n",
    "    newmethod_3_rankresult.append(get_sir_result(G, newmethod_3_rank, topk, avg, infect_prob, cover_prob, max_iter)[-1] / nx.number_of_nodes(G))\r\n",
    "    newmethod_4_rankresult.append(get_sir_result(G, newmethod_4_rank, topk, avg, infect_prob, cover_prob, max_iter)[-1] / nx.number_of_nodes(G))"
   ],
   "outputs": [],
   "metadata": {}
  },
  {
   "cell_type": "code",
   "execution_count": null,
   "source": [
    "%matplotlib notebook\r\n",
    "plt.title('network:{}   avg:{}  i/r:{}   infect_prob:{}'.format(data_file, avg, atio, infect_prob))\r\n",
    "plt.plot(np.array(topk_list) / nx.number_of_nodes(G), newmethod_1_rankresult, 'r-o', label='order=1')\r\n",
    "plt.plot(np.array(topk_list) / nx.number_of_nodes(G), newmethod_2_rankresult, 'b-o', label='order=2')\r\n",
    "plt.plot(np.array(topk_list) / nx.number_of_nodes(G), newmethod_3_rankresult, 'y-o', label='order=3')\r\n",
    "plt.plot(np.array(topk_list) / nx.number_of_nodes(G), newmethod_4_rankresult, 'g-o', label='order=4')\r\n",
    "plt.legend()\r\n",
    "plt.show()"
   ],
   "outputs": [],
   "metadata": {
    "scrolled": false
   }
  },
  {
   "cell_type": "code",
   "execution_count": null,
   "source": [],
   "outputs": [],
   "metadata": {}
  }
 ],
 "metadata": {
  "kernelspec": {
   "name": "python3",
   "display_name": "Python 3.9.6 64-bit ('myenv': conda)"
  },
  "language_info": {
   "name": "python",
   "version": "3.9.6",
   "mimetype": "text/x-python",
   "codemirror_mode": {
    "name": "ipython",
    "version": 3
   },
   "pygments_lexer": "ipython3",
   "nbconvert_exporter": "python",
   "file_extension": ".py"
  },
  "interpreter": {
   "hash": "67e6a4aa325bcd0e0aaaeb4e623fbf1760d37df0ebdc8dc3b72d0ab217e1e634"
  }
 },
 "nbformat": 4,
 "nbformat_minor": 2
}