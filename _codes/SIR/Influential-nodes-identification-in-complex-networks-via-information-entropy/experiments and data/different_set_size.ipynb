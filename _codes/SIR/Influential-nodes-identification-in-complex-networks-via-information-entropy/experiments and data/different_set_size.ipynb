{
 "cells": [
  {
   "cell_type": "code",
   "execution_count": 3,
   "metadata": {},
   "outputs": [],
   "source": [
    "import networkx as nx\n",
    "import sys\n",
    "sys.path.append(r\"C:\\Users\\egbonsisi\\ControllerPlacementCodes\\Skoltech-PhD-Thesis\\_codes\\SIR\\Influential-nodes-identification-in-complex-networks-via-information-entropy\")\n",
    "from algorithms import *\n",
    "import matplotlib.pyplot as plt\n",
    "import numpy as np\n",
    "from tqdm import tqdm\n",
    "import pickle"
   ]
  },
  {
   "cell_type": "markdown",
   "metadata": {},
   "source": [
    "## load data"
   ]
  },
  {
   "cell_type": "code",
   "execution_count": 4,
   "metadata": {},
   "outputs": [
    {
     "name": "stdout",
     "output_type": "stream",
     "text": [
      "34 42\n"
     ]
    }
   ],
   "source": [
    "data_file = 'topo' # 'HepPh'\n",
    "G = clean_data(data_file)\n",
    "print(nx.number_of_nodes(G), nx.number_of_edges(G))\n"
   ]
  },
  {
   "cell_type": "code",
   "execution_count": 5,
   "metadata": {},
   "outputs": [],
   "source": [
    "geo_loc_data = get_geo_data(\"Internet2LatLong.csv\")\n",
    "edge_geo_data_combined = assign_location(G, geo_loc_data)\n",
    "\n",
    "# set edge attributes\n",
    "set_edge_attr(G, edge_geo_data_combined)\n"
   ]
  },
  {
   "cell_type": "markdown",
   "metadata": {},
   "source": [
    "## get initial node sets"
   ]
  },
  {
   "cell_type": "code",
   "execution_count": 6,
   "metadata": {},
   "outputs": [
    {
     "name": "stdout",
     "output_type": "stream",
     "text": [
      "34\n",
      "degreerank  [('2', ' '), ('5', ' '), ('12', ' '), ('6', ' '), ('7', ' '), ('8', ' '), ('14', ' '), ('11', ' '), ('16', ' '), ('24', ' '), ('28', ' '), ('19', ' '), ('29', ' '), ('21', ' '), ('27', ' '), ('3', ' '), ('4', ' '), ('15', ' '), ('10', ' '), ('9', ' '), ('13', ' '), ('22', ' '), ('32', ' '), ('17', ' '), ('18', ' '), ('20', ' '), ('23', ' '), ('31', ' '), ('25', ' '), ('26', ' '), ('33', ' '), ('34', ' '), ('1', ' '), ('30', ' ')]\n",
      "done!\n",
      " \n",
      "degreerank_non  [('2', ' '), ('12', ' '), ('6', ' '), ('8', ' '), ('16', ' '), ('28', ' '), ('19', ' '), ('21', ' '), ('10', ' '), ('23', ' '), ('25', ' '), ('33', ' '), ('5', ' '), ('7', ' '), ('14', ' '), ('11', ' '), ('24', ' '), ('29', ' '), ('27', ' '), ('3', ' '), ('4', ' '), ('15', ' '), ('9', ' '), ('13', ' '), ('22', ' '), ('32', ' '), ('17', ' '), ('18', ' '), ('20', ' '), ('31', ' '), ('26', ' '), ('34', ' '), ('1', ' '), ('30', ' ')]\n",
      "done!\n",
      " \n",
      "kshell_rank:  [('2', ' '), ('5', ' '), ('12', ' '), ('6', ' '), ('7', ' '), ('8', ' '), ('14', ' '), ('11', ' '), ('16', ' '), ('24', ' '), ('28', ' '), ('19', ' '), ('29', ' '), ('21', ' '), ('27', ' '), ('3', ' '), ('4', ' '), ('15', ' '), ('10', ' '), ('9', ' '), ('13', ' '), ('22', ' '), ('32', ' '), ('17', ' '), ('18', ' '), ('20', ' '), ('23', ' '), ('31', ' '), ('25', ' '), ('26', ' '), ('33', ' '), ('34', ' '), ('1', ' '), ('30', ' ')]\n",
      "done!\n",
      " \n",
      "kshell_rank_non:  [('2', ' '), ('12', ' '), ('6', ' '), ('8', ' '), ('16', ' '), ('28', ' '), ('19', ' '), ('21', ' '), ('10', ' '), ('23', ' '), ('25', ' '), ('33', ' '), ('5', ' '), ('7', ' '), ('14', ' '), ('11', ' '), ('24', ' '), ('29', ' '), ('27', ' '), ('3', ' '), ('4', ' '), ('15', ' '), ('9', ' '), ('13', ' '), ('22', ' '), ('32', ' '), ('17', ' '), ('18', ' '), ('20', ' '), ('31', ' '), ('26', ' '), ('34', ' '), ('1', ' '), ('30', ' ')]\n",
      "done!\n",
      " \n",
      "newmethod_rank:  [('5', 0.9097548562597484), ('12', 0.7276923667828582), ('29', 0.6539714380359193), ('14', 0.6058815878364635), ('24', 0.5577917376370076), ('27', 0.5577917376370076), ('4', 0.47377389756913546), ('10', 0.4359809586906129), ('9', 0.4359809586906129), ('3', 0.4256840473696797), ('17', 0.38789110849115704), ('20', 0.38789110849115704), ('31', 0.3398012582917012), ('1', 0.25578341822382905), ('30', 0.21799047934530644), ('15', 0.033514866333889726), ('18', 0.033514866333889726), ('34', -0.014574983865566105), ('22', -0.05973540732277627), ('25', -0.06679023839270615), ('6', -0.2442110203341929), ('23', -0.42116648054997347), ('26', -0.42116648054997347), ('33', -0.42116648054997347), ('32', -0.46220149967949936), ('13', -0.5144167542066395), ('21', -0.5362106218943695), ('19', -0.6056420935613902), ('11', -0.6466771126909161), ('16', -0.6578573480885301), ('28', -0.6578573480885301), ('8', -0.698892367218056), ('7', -0.6988923672180563), ('2', -0.7617212540353122)]\n",
      "done!\n",
      " \n"
     ]
    }
   ],
   "source": [
    "max_ = 1\n",
    "max_topk = round(max_ * nx.number_of_nodes(G))\n",
    "print(max_topk)\n",
    "\n",
    "degreerank = degree(G, max_topk)\n",
    "print(\"degreerank \", degreerank)\n",
    "print('done!')\n",
    "print(\" \")\n",
    "degreerank_non = degree_non(G, max_topk)\n",
    "print(\"degreerank_non \", degreerank_non)\n",
    "print('done!')\n",
    "print(\" \")\n",
    "\n",
    "# vote = voterank(G, max_topk)\n",
    "# print('done!')\n",
    "# vote_non = voterank_non(G, max_topk)\n",
    "# print('done!')\n",
    "\n",
    "kshell_rank = kshell(G, max_topk)\n",
    "print(\"kshell_rank: \", kshell_rank)\n",
    "print('done!')\n",
    "print(\" \")\n",
    "kshell_rank_non = kshell_non(G, max_topk)\n",
    "print(\"kshell_rank_non: \", kshell_rank_non)\n",
    "print('done!')\n",
    "print(\" \")\n",
    "\n",
    "newmethod_rank = EnRenewRank(G, max_topk, 2)\n",
    "print(\"newmethod_rank: \", newmethod_rank)\n",
    "print('done!')\n",
    "print(\" \")\n",
    "\n"
   ]
  },
  {
   "cell_type": "markdown",
   "metadata": {},
   "source": [
    "## Different initial infection set sizes"
   ]
  },
  {
   "cell_type": "code",
   "execution_count": 7,
   "metadata": {},
   "outputs": [
    {
     "name": "stderr",
     "output_type": "stream",
     "text": [
      "  0%|          | 0/6 [00:00<?, ?it/s]"
     ]
    },
    {
     "name": "stdout",
     "output_type": "stream",
     "text": [
      "0.15 5\n",
      "0.3 10\n",
      "0.45 15\n",
      "0.6 20\n",
      "0.75 26\n",
      "0.9 31\n",
      "0.8873239436619718\n"
     ]
    },
    {
     "name": "stderr",
     "output_type": "stream",
     "text": [
      "100%|██████████| 6/6 [00:04<00:00,  1.28it/s]\n"
     ]
    }
   ],
   "source": [
    "# r is the infection rates\n",
    "r = [0.15, 0.3, 0.45, 0.6, 0.75, 0.9] #[0.0015, 0.003, 0.0045, 0.006, 0.0075, 0.009]\n",
    "# r = [0.005, 0.01, 0.015, 0.02, 0.025, 0.03]\n",
    "topk_list = []\n",
    "for k in r:\n",
    "    topk = round(nx.number_of_nodes(G) * k)\n",
    "    print(k, topk)\n",
    "    topk_list.append(topk)\n",
    "    \n",
    "infect_prob = compute_probability(G) * 1.5\n",
    "print(infect_prob)\n",
    "atio = 1.5\n",
    "cover_prob = infect_prob / atio\n",
    "avg = 100\n",
    "max_iter = 200000\n",
    "\n",
    "degreerank_result = []\n",
    "degreerank_non_result = []\n",
    "vote_result = []\n",
    "vote_non_result = []\n",
    "newmethod_result = []\n",
    "newmethod_non_result = []\n",
    "kshell_result = []\n",
    "kshell_non_result = []\n",
    "\n",
    "for k in tqdm(topk_list):\n",
    "    topk = k\n",
    "    degreerank_result.append(get_sir_result(G, degreerank, topk, avg, infect_prob, cover_prob, max_iter)[-1] / nx.number_of_nodes(G))\n",
    "    degreerank_non_result.append(get_sir_result(G, degreerank_non, topk, avg, infect_prob, cover_prob, max_iter)[-1] / nx.number_of_nodes(G))\n",
    "    # vote_result.append(get_sir_result(G, vote, topk, avg, infect_prob, cover_prob, max_iter)[-1] / nx.number_of_nodes(G))\n",
    "    # vote_non_result.append(get_sir_result(G, vote_non, topk, avg, infect_prob, cover_prob, max_iter)[-1] / nx.number_of_nodes(G))\n",
    "    kshell_result.append(get_sir_result(G, kshell_rank, topk, avg, infect_prob, cover_prob, max_iter)[-1] / nx.number_of_nodes(G))\n",
    "    kshell_non_result.append(get_sir_result(G, kshell_rank_non, topk, avg, infect_prob, cover_prob, max_iter)[-1] / nx.number_of_nodes(G))\n",
    "    newmethod_result.append(get_sir_result(G, newmethod_rank, topk, avg, infect_prob, cover_prob, max_iter)[-1] / nx.number_of_nodes(G))"
   ]
  },
  {
   "cell_type": "code",
   "execution_count": 8,
   "metadata": {},
   "outputs": [
    {
     "data": {
      "image/png": "[encoded data removed]",
      "text/plain": [
       "<Figure size 432x288 with 1 Axes>"
      ]
     },
     "metadata": {
      "needs_background": "light"
     },
     "output_type": "display_data"
    }
   ],
   "source": [
    "%matplotlib inline\n",
    "plt.title('network:{}   avg:{}  i/r:{}   infect_prob:{}'.format(data_file, avg, atio, infect_prob))\n",
    "plt.plot(np.array(topk_list) / nx.number_of_nodes(G), degreerank_result, 'r-o', label='degree', linewidth=1.0, )\n",
    "plt.plot(np.array(topk_list) / nx.number_of_nodes(G), degreerank_non_result, 'r--o', label='degree_non', linewidth=1.0, )\n",
    "# plt.plot(np.array(topk_list) / nx.number_of_nodes(G), vote_result, 'y-s', label='vote', linewidth=1.0, )\n",
    "# plt.plot(np.array(topk_list) / nx.number_of_nodes(G), vote_non_result, 'y--s', label='vote_non', linewidth=1.0, )\n",
    "plt.plot(np.array(topk_list) / nx.number_of_nodes(G), kshell_result, 'g-p', label='kshell', linewidth=1.0, )\n",
    "plt.plot(np.array(topk_list) / nx.number_of_nodes(G), kshell_non_result, 'g--p', label='kshell_non', linewidth=1.0, )\n",
    "plt.plot(np.array(topk_list) / nx.number_of_nodes(G), newmethod_result, 'b-^', label='EnRenew', linewidth=1.0, )\n",
    "plt.legend()\n",
    "plt.show()"
   ]
  },
  {
   "cell_type": "code",
   "execution_count": null,
   "metadata": {},
   "outputs": [],
   "source": []
  }
 ],
 "metadata": {
  "interpreter": {
   "hash": "b3ba2566441a7c06988d0923437866b63cedc61552a5af99d1f4fb67d367b25f"
  },
  "kernelspec": {
   "display_name": "Python 3.8.8 64-bit ('base': conda)",
   "name": "python3"
  },
  "language_info": {
   "codemirror_mode": {
    "name": "ipython",
    "version": 3
   },
   "file_extension": ".py",
   "mimetype": "text/x-python",
   "name": "python",
   "nbconvert_exporter": "python",
   "pygments_lexer": "ipython3",
   "version": "3.8.8"
  }
 },
 "nbformat": 4,
 "nbformat_minor": 2
}
