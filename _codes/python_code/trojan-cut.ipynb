{
 "metadata": {
  "language_info": {
   "codemirror_mode": {
    "name": "ipython",
    "version": 3
   },
   "file_extension": ".py",
   "mimetype": "text/x-python",
   "name": "python",
   "nbconvert_exporter": "python",
   "pygments_lexer": "ipython3",
   "version": "3.9.1-final"
  },
  "orig_nbformat": 2,
  "kernelspec": {
   "name": "python3",
   "display_name": "Python 3",
   "language": "python"
  }
 },
 "nbformat": 4,
 "nbformat_minor": 2,
 "cells": [
  {
   "cell_type": "code",
   "execution_count": 55,
   "metadata": {},
   "outputs": [],
   "source": [
    "import networkx as nx\n",
    "import numpy as np\n",
    "import pandas as pd\n",
    "from collections import defaultdict "
   ]
  },
  {
   "cell_type": "code",
   "execution_count": 45,
   "metadata": {},
   "outputs": [],
   "source": [
    "#adj_data = np.pd.read_csv(\"adj_data.txt\", delimiter=\",\", dtype=\"int,str\")\n",
    "adj_data = data = pd.read_csv(\"adj_wgtd.csv\", sep=\",\")\n",
    "edge_list = adj_data.values.tolist()"
   ]
  },
  {
   "cell_type": "code",
   "execution_count": 86,
   "metadata": {},
   "outputs": [],
   "source": [
    "edge_wo_weights = np.array(edge_list)[:, [0,1]]"
   ]
  },
  {
   "cell_type": "code",
   "execution_count": 83,
   "metadata": {},
   "outputs": [
    {
     "output_type": "execute_result",
     "data": {
      "text/plain": [
       "array([[ 8.,  7.],\n",
       "       [ 8.,  9.],\n",
       "       [ 8., 10.],\n",
       "       [ 8., 11.],\n",
       "       [ 9.,  6.],\n",
       "       [ 9.,  7.],\n",
       "       [ 9.,  8.],\n",
       "       [ 9., 10.],\n",
       "       [10.,  6.],\n",
       "       [10.,  7.],\n",
       "       [10.,  8.],\n",
       "       [10.,  9.],\n",
       "       [11.,  8.],\n",
       "       [11., 17.],\n",
       "       [11., 22.],\n",
       "       [12., 13.],\n",
       "       [12., 14.],\n",
       "       [12., 15.],\n",
       "       [12., 16.],\n",
       "       [13., 12.],\n",
       "       [13., 14.],\n",
       "       [13., 15.],\n",
       "       [13., 16.],\n",
       "       [14., 12.],\n",
       "       [14., 13.],\n",
       "       [14., 15.],\n",
       "       [14., 16.],\n",
       "       [15., 12.],\n",
       "       [15., 13.],\n",
       "       [15., 14.],\n",
       "       [15., 16.],\n",
       "       [15., 21.],\n",
       "       [16., 12.],\n",
       "       [16., 13.],\n",
       "       [16., 14.],\n",
       "       [16., 15.],\n",
       "       [17., 11.],\n",
       "       [17., 18.],\n",
       "       [17., 20.],\n",
       "       [18., 17.],\n",
       "       [18., 19.],\n",
       "       [19., 18.],\n",
       "       [19., 20.],\n",
       "       [20., 17.],\n",
       "       [20., 19.],\n",
       "       [21., 15.],\n",
       "       [21., 26.],\n",
       "       [22., 11.],\n",
       "       [22., 23.],\n",
       "       [22., 24.],\n",
       "       [22., 25.],\n",
       "       [22., 26.],\n",
       "       [23., 22.],\n",
       "       [23., 24.],\n",
       "       [23., 25.],\n",
       "       [23., 26.],\n",
       "       [24., 22.],\n",
       "       [24., 23.],\n",
       "       [24., 25.],\n",
       "       [24., 26.],\n",
       "       [25., 22.],\n",
       "       [25., 23.],\n",
       "       [25., 24.],\n",
       "       [25., 26.],\n",
       "       [26., 21.],\n",
       "       [26., 22.],\n",
       "       [26., 23.],\n",
       "       [26., 24.],\n",
       "       [26., 25.]])"
      ]
     },
     "metadata": {},
     "execution_count": 83
    }
   ],
   "source": [
    "# # G = nx.DiGraph()\n",
    "# len(edge_wo_weights)\n",
    "# range(len(edge_wo_weights))\n",
    "edge_wo_weights"
   ]
  },
  {
   "cell_type": "code",
   "execution_count": 84,
   "metadata": {},
   "outputs": [],
   "source": [
    "#This class represents an undirected graph  \n",
    "#using adjacency list representation \n",
    "class Graph: \n",
    "   \n",
    "    def __init__(self,vertices): \n",
    "        self.V= vertices #No. of vertices \n",
    "        self.graph = defaultdict(list) # default dictionary to store graph \n",
    "        self.Time = 0\n",
    "   \n",
    "    # function to add an edge to graph \n",
    "    def addEdge(self,u,v): \n",
    "        self.graph[u].append(v) \n",
    "        self.graph[v].append(u) \n",
    "   \n",
    "    '''A recursive function that find articulation points  \n",
    "    using DFS traversal \n",
    "    u --> The vertex to be visited next \n",
    "    visited[] --> keeps tract of visited vertices \n",
    "    disc[] --> Stores discovery times of visited vertices \n",
    "    parent[] --> Stores parent vertices in DFS tree \n",
    "    ap[] --> Store articulation points'''\n",
    "    def APUtil(self,u, visited, ap, parent, low, disc): \n",
    "  \n",
    "        #Count of children in current node  \n",
    "        children =0\n",
    "  \n",
    "        # Mark the current node as visited and print it \n",
    "        visited[u]= True\n",
    "  \n",
    "        # Initialize discovery time and low value \n",
    "        disc[u] = self.Time \n",
    "        low[u] = self.Time \n",
    "        self.Time += 1\n",
    "  \n",
    "        #Recur for all the vertices adjacent to this vertex \n",
    "        for v in self.graph[u]: \n",
    "            # If v is not visited yet, then make it a child of u \n",
    "            # in DFS tree and recur for it \n",
    "            if visited[v] == False : \n",
    "                parent[v] = u \n",
    "                children += 1\n",
    "                self.APUtil(v, visited, ap, parent, low, disc) \n",
    "  \n",
    "                # Check if the subtree rooted with v has a connection to \n",
    "                # one of the ancestors of u \n",
    "                low[u] = min(low[u], low[v]) \n",
    "  \n",
    "                # u is an articulation point in following cases \n",
    "                # (1) u is root of DFS tree and has two or more chilren. \n",
    "                if parent[u] == -1 and children > 1: \n",
    "                    ap[u] = True\n",
    "  \n",
    "                #(2) If u is not root and low value of one of its child is more \n",
    "                # than discovery value of u. \n",
    "                if parent[u] != -1 and low[v] >= disc[u]: \n",
    "                    ap[u] = True    \n",
    "                      \n",
    "                # Update low value of u for parent function calls     \n",
    "            elif v != parent[u]:  \n",
    "                low[u] = min(low[u], disc[v]) \n",
    "  \n",
    "  \n",
    "    #The function to do DFS traversal. It uses recursive APUtil() \n",
    "    def AP(self): \n",
    "   \n",
    "        # Mark all the vertices as not visited  \n",
    "        # and Initialize parent and visited,  \n",
    "        # and ap(articulation point) arrays \n",
    "        visited = [False] * (self.V) \n",
    "        disc = [float(\"Inf\")] * (self.V) \n",
    "        low = [float(\"Inf\")] * (self.V) \n",
    "        parent = [-1] * (self.V) \n",
    "        ap = [False] * (self.V) #To store articulation points \n",
    "  \n",
    "        # Call the recursive helper function \n",
    "        # to find articulation points \n",
    "        # in DFS tree rooted with vertex 'i' \n",
    "        for i in range(self.V): \n",
    "            if visited[i] == False: \n",
    "                self.APUtil(i, visited, ap, parent, low, disc) \n",
    "  \n",
    "        for index, value in enumerate (ap): \n",
    "            if value == True: print (index)"
   ]
  },
  {
   "cell_type": "code",
   "execution_count": 61,
   "metadata": {},
   "outputs": [
    {
     "output_type": "stream",
     "name": "stdout",
     "text": [
      "\nArticulation points in first graph \n0\n3\n"
     ]
    }
   ],
   "source": [
    "g1 = Graph(5) \n",
    "g1.addEdge(1, 0) \n",
    "g1.addEdge(0, 2) \n",
    "g1.addEdge(2, 1) \n",
    "g1.addEdge(0, 3) \n",
    "g1.addEdge(3, 4) \n",
    "   \n",
    "print (\"\\nArticulation points in first graph \")\n",
    "g1.AP() "
   ]
  },
  {
   "cell_type": "code",
   "execution_count": 85,
   "metadata": {},
   "outputs": [
    {
     "output_type": "stream",
     "name": "stdout",
     "text": [
      "\nArticulation points in first graph \n9\n"
     ]
    }
   ],
   "source": [
    "g2 = Graph(len(edge_wo_weights))\n",
    "for i in range(len(edge_wo_weights)):\n",
    "    g2.addEdge(int(edge_wo_weights[i][0]), int(edge_wo_weights[1][1]))\n",
    "print (\"\\nArticulation points in first graph \")\n",
    "g2.AP() "
   ]
  },
  {
   "cell_type": "code",
   "execution_count": null,
   "metadata": {},
   "outputs": [],
   "source": []
  }
 ]
}