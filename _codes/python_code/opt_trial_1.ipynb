{
 "metadata": {
  "language_info": {
   "codemirror_mode": {
    "name": "ipython",
    "version": 3
   },
   "file_extension": ".py",
   "mimetype": "text/x-python",
   "name": "python",
   "nbconvert_exporter": "python",
   "pygments_lexer": "ipython3",
   "version": "3.9.1-final"
  },
  "orig_nbformat": 2,
  "kernelspec": {
   "name": "python3",
   "display_name": "Python 3.9.1 64-bit ('myenv': conda)",
   "metadata": {
    "interpreter": {
     "hash": "67e6a4aa325bcd0e0aaaeb4e623fbf1760d37df0ebdc8dc3b72d0ab217e1e634"
    }
   }
  }
 },
 "nbformat": 4,
 "nbformat_minor": 2,
 "cells": [
  {
   "cell_type": "code",
   "execution_count": 2,
   "metadata": {},
   "outputs": [
    {
     "output_type": "stream",
     "name": "stdout",
     "text": [
      "Collecting pyscipopt\n",
      "  Using cached PySCIPOpt-3.1.1.tar.gz (622 kB)\n",
      "Building wheels for collected packages: pyscipopt\n",
      "  Building wheel for pyscipopt (setup.py): started\n",
      "  Building wheel for pyscipopt (setup.py): finished with status 'error'\n",
      "  Running setup.py clean for pyscipopt\n",
      "Failed to build pyscipopt\n",
      "Installing collected packages: pyscipopt\n",
      "    Running setup.py install for pyscipopt: started\n",
      "    Running setup.py install for pyscipopt: finished with status 'error'\n",
      "  ERROR: Command errored out with exit status 1:\n",
      "   command: 'C:\\Users\\rotim\\anaconda3\\envs\\myenv\\python.exe' -u -c 'import sys, setuptools, tokenize; sys.argv[0] = '\"'\"'C:\\\\Users\\\\rotim\\\\AppData\\\\Local\\\\Temp\\\\pip-install-xbgj37h3\\\\pyscipopt_64326b8cd35d438cbb5253b7f8ee0cb7\\\\setup.py'\"'\"'; __file__='\"'\"'C:\\\\Users\\\\rotim\\\\AppData\\\\Local\\\\Temp\\\\pip-install-xbgj37h3\\\\pyscipopt_64326b8cd35d438cbb5253b7f8ee0cb7\\\\setup.py'\"'\"';f=getattr(tokenize, '\"'\"'open'\"'\"', open)(__file__);code=f.read().replace('\"'\"'\\r\\n'\"'\"', '\"'\"'\\n'\"'\"');f.close();exec(compile(code, __file__, '\"'\"'exec'\"'\"'))' bdist_wheel -d 'C:\\Users\\rotim\\AppData\\Local\\Temp\\pip-wheel-8zol7bou'\n",
      "       cwd: C:\\Users\\rotim\\AppData\\Local\\Temp\\pip-install-xbgj37h3\\pyscipopt_64326b8cd35d438cbb5253b7f8ee0cb7\\\n",
      "  Complete output (36 lines):\n",
      "  Using include path <C:\\Users\\rotim\\AppData\\Local\\Temp\\pip-install-xbgj37h3\\pyscipopt_64326b8cd35d438cbb5253b7f8ee0cb7\\src>.\n",
      "  Using SCIP library <libscip> at <C:\\Users\\rotim\\AppData\\Local\\Temp\\pip-install-xbgj37h3\\pyscipopt_64326b8cd35d438cbb5253b7f8ee0cb7\\lib>.\n",
      "  running bdist_wheel\n",
      "  running build\n",
      "  running build_py\n",
      "  creating build\n",
      "  creating build\\lib.win-amd64-3.9\n",
      "  creating build\\lib.win-amd64-3.9\\pyscipopt\n",
      "  copying src\\pyscipopt\\Multidict.py -> build\\lib.win-amd64-3.9\\pyscipopt\n",
      "  copying src\\pyscipopt\\__init__.py -> build\\lib.win-amd64-3.9\\pyscipopt\n",
      "  copying src\\pyscipopt\\scip.pyx -> build\\lib.win-amd64-3.9\\pyscipopt\n",
      "  copying src\\pyscipopt\\scip.pxd -> build\\lib.win-amd64-3.9\\pyscipopt\n",
      "  copying src\\pyscipopt\\benders.pxi -> build\\lib.win-amd64-3.9\\pyscipopt\n",
      "  copying src\\pyscipopt\\benderscut.pxi -> build\\lib.win-amd64-3.9\\pyscipopt\n",
      "  copying src\\pyscipopt\\branchrule.pxi -> build\\lib.win-amd64-3.9\\pyscipopt\n",
      "  copying src\\pyscipopt\\conshdlr.pxi -> build\\lib.win-amd64-3.9\\pyscipopt\n",
      "  copying src\\pyscipopt\\event.pxi -> build\\lib.win-amd64-3.9\\pyscipopt\n",
      "  copying src\\pyscipopt\\expr.pxi -> build\\lib.win-amd64-3.9\\pyscipopt\n",
      "  copying src\\pyscipopt\\heuristic.pxi -> build\\lib.win-amd64-3.9\\pyscipopt\n",
      "  copying src\\pyscipopt\\lp.pxi -> build\\lib.win-amd64-3.9\\pyscipopt\n",
      "  copying src\\pyscipopt\\nodesel.pxi -> build\\lib.win-amd64-3.9\\pyscipopt\n",
      "  copying src\\pyscipopt\\presol.pxi -> build\\lib.win-amd64-3.9\\pyscipopt\n",
      "  copying src\\pyscipopt\\pricer.pxi -> build\\lib.win-amd64-3.9\\pyscipopt\n",
      "  copying src\\pyscipopt\\propagator.pxi -> build\\lib.win-amd64-3.9\\pyscipopt\n",
      "  copying src\\pyscipopt\\relax.pxi -> build\\lib.win-amd64-3.9\\pyscipopt\n",
      "  copying src\\pyscipopt\\sepa.pxi -> build\\lib.win-amd64-3.9\\pyscipopt\n",
      "  running build_ext\n",
      "  building 'pyscipopt.scip' extension\n",
      "  creating build\\temp.win-amd64-3.9\n",
      "  creating build\\temp.win-amd64-3.9\\Release\n",
      "  creating build\\temp.win-amd64-3.9\\Release\\src\n",
      "  creating build\\temp.win-amd64-3.9\\Release\\src\\pyscipopt\n",
      "  C:\\Program Files (x86)\\Microsoft Visual Studio\\2017\\BuildTools\\VC\\Tools\\MSVC\\14.16.27023\\bin\\HostX86\\x64\\cl.exe /c /nologo /Ox /W3 /GL /DNDEBUG /MD -IC:\\Users\\rotim\\AppData\\Local\\Temp\\pip-install-xbgj37h3\\pyscipopt_64326b8cd35d438cbb5253b7f8ee0cb7\\src -IC:\\Users\\rotim\\anaconda3\\envs\\myenv\\include -IC:\\Users\\rotim\\anaconda3\\envs\\myenv\\include -IC:\\Program Files (x86)\\Microsoft Visual Studio\\2017\\BuildTools\\VC\\Tools\\MSVC\\14.16.27023\\include -IC:\\Program Files (x86)\\Windows Kits\\10\\include\\10.0.17763.0\\ucrt -IC:\\Program Files (x86)\\Windows Kits\\10\\include\\10.0.17763.0\\shared -IC:\\Program Files (x86)\\Windows Kits\\10\\include\\10.0.17763.0\\um -IC:\\Program Files (x86)\\Windows Kits\\10\\include\\10.0.17763.0\\winrt -IC:\\Program Files (x86)\\Windows Kits\\10\\include\\10.0.17763.0\\cppwinrt /Tcsrc\\pyscipopt\\scip.c /Fobuild\\temp.win-amd64-3.9\\Release\\src\\pyscipopt\\scip.obj\n",
      "  scip.c\n",
      "  src\\pyscipopt\\scip.c(633): fatal error C1083: Cannot open include file: 'scip/scip.h': No such file or directory\n",
      "  error: command 'C:\\\\Program Files (x86)\\\\Microsoft Visual Studio\\\\2017\\\\BuildTools\\\\VC\\\\Tools\\\\MSVC\\\\14.16.27023\\\\bin\\\\HostX86\\\\x64\\\\cl.exe' failed with exit code 2\n",
      "  ----------------------------------------\n",
      "  ERROR: Failed building wheel for pyscipopt\n",
      "WARNING: Error parsing requirements for jdcal: [Errno 2] No such file or directory: 'c:\\\\users\\\\rotim\\\\anaconda3\\\\envs\\\\myenv\\\\lib\\\\site-packages\\\\jdcal-1.4.1.dist-info\\\\METADATA'\n",
      "    ERROR: Command errored out with exit status 1:\n",
      "     command: 'C:\\Users\\rotim\\anaconda3\\envs\\myenv\\python.exe' -u -c 'import sys, setuptools, tokenize; sys.argv[0] = '\"'\"'C:\\\\Users\\\\rotim\\\\AppData\\\\Local\\\\Temp\\\\pip-install-xbgj37h3\\\\pyscipopt_64326b8cd35d438cbb5253b7f8ee0cb7\\\\setup.py'\"'\"'; __file__='\"'\"'C:\\\\Users\\\\rotim\\\\AppData\\\\Local\\\\Temp\\\\pip-install-xbgj37h3\\\\pyscipopt_64326b8cd35d438cbb5253b7f8ee0cb7\\\\setup.py'\"'\"';f=getattr(tokenize, '\"'\"'open'\"'\"', open)(__file__);code=f.read().replace('\"'\"'\\r\\n'\"'\"', '\"'\"'\\n'\"'\"');f.close();exec(compile(code, __file__, '\"'\"'exec'\"'\"'))' install --record 'C:\\Users\\rotim\\AppData\\Local\\Temp\\pip-record-xx0vxn0h\\install-record.txt' --single-version-externally-managed --compile --install-headers 'C:\\Users\\rotim\\anaconda3\\envs\\myenv\\Include\\pyscipopt'\n",
      "         cwd: C:\\Users\\rotim\\AppData\\Local\\Temp\\pip-install-xbgj37h3\\pyscipopt_64326b8cd35d438cbb5253b7f8ee0cb7\\\n",
      "    Complete output (36 lines):\n",
      "    Using include path <C:\\Users\\rotim\\AppData\\Local\\Temp\\pip-install-xbgj37h3\\pyscipopt_64326b8cd35d438cbb5253b7f8ee0cb7\\src>.\n",
      "    Using SCIP library <libscip> at <C:\\Users\\rotim\\AppData\\Local\\Temp\\pip-install-xbgj37h3\\pyscipopt_64326b8cd35d438cbb5253b7f8ee0cb7\\lib>.\n",
      "    running install\n",
      "    running build\n",
      "    running build_py\n",
      "    creating build\n",
      "    creating build\\lib.win-amd64-3.9\n",
      "    creating build\\lib.win-amd64-3.9\\pyscipopt\n",
      "    copying src\\pyscipopt\\Multidict.py -> build\\lib.win-amd64-3.9\\pyscipopt\n",
      "    copying src\\pyscipopt\\__init__.py -> build\\lib.win-amd64-3.9\\pyscipopt\n",
      "    copying src\\pyscipopt\\scip.pyx -> build\\lib.win-amd64-3.9\\pyscipopt\n",
      "    copying src\\pyscipopt\\scip.pxd -> build\\lib.win-amd64-3.9\\pyscipopt\n",
      "    copying src\\pyscipopt\\benders.pxi -> build\\lib.win-amd64-3.9\\pyscipopt\n",
      "    copying src\\pyscipopt\\benderscut.pxi -> build\\lib.win-amd64-3.9\\pyscipopt\n",
      "    copying src\\pyscipopt\\branchrule.pxi -> build\\lib.win-amd64-3.9\\pyscipopt\n",
      "    copying src\\pyscipopt\\conshdlr.pxi -> build\\lib.win-amd64-3.9\\pyscipopt\n",
      "    copying src\\pyscipopt\\event.pxi -> build\\lib.win-amd64-3.9\\pyscipopt\n",
      "    copying src\\pyscipopt\\expr.pxi -> build\\lib.win-amd64-3.9\\pyscipopt\n",
      "    copying src\\pyscipopt\\heuristic.pxi -> build\\lib.win-amd64-3.9\\pyscipopt\n",
      "    copying src\\pyscipopt\\lp.pxi -> build\\lib.win-amd64-3.9\\pyscipopt\n",
      "    copying src\\pyscipopt\\nodesel.pxi -> build\\lib.win-amd64-3.9\\pyscipopt\n",
      "    copying src\\pyscipopt\\presol.pxi -> build\\lib.win-amd64-3.9\\pyscipopt\n",
      "    copying src\\pyscipopt\\pricer.pxi -> build\\lib.win-amd64-3.9\\pyscipopt\n",
      "    copying src\\pyscipopt\\propagator.pxi -> build\\lib.win-amd64-3.9\\pyscipopt\n",
      "    copying src\\pyscipopt\\relax.pxi -> build\\lib.win-amd64-3.9\\pyscipopt\n",
      "    copying src\\pyscipopt\\sepa.pxi -> build\\lib.win-amd64-3.9\\pyscipopt\n",
      "    running build_ext\n",
      "    building 'pyscipopt.scip' extension\n",
      "    creating build\\temp.win-amd64-3.9\n",
      "    creating build\\temp.win-amd64-3.9\\Release\n",
      "    creating build\\temp.win-amd64-3.9\\Release\\src\n",
      "    creating build\\temp.win-amd64-3.9\\Release\\src\\pyscipopt\n",
      "    C:\\Program Files (x86)\\Microsoft Visual Studio\\2017\\BuildTools\\VC\\Tools\\MSVC\\14.16.27023\\bin\\HostX86\\x64\\cl.exe /c /nologo /Ox /W3 /GL /DNDEBUG /MD -IC:\\Users\\rotim\\AppData\\Local\\Temp\\pip-install-xbgj37h3\\pyscipopt_64326b8cd35d438cbb5253b7f8ee0cb7\\src -IC:\\Users\\rotim\\anaconda3\\envs\\myenv\\include -IC:\\Users\\rotim\\anaconda3\\envs\\myenv\\include -IC:\\Program Files (x86)\\Microsoft Visual Studio\\2017\\BuildTools\\VC\\Tools\\MSVC\\14.16.27023\\include -IC:\\Program Files (x86)\\Windows Kits\\10\\include\\10.0.17763.0\\ucrt -IC:\\Program Files (x86)\\Windows Kits\\10\\include\\10.0.17763.0\\shared -IC:\\Program Files (x86)\\Windows Kits\\10\\include\\10.0.17763.0\\um -IC:\\Program Files (x86)\\Windows Kits\\10\\include\\10.0.17763.0\\winrt -IC:\\Program Files (x86)\\Windows Kits\\10\\include\\10.0.17763.0\\cppwinrt /Tcsrc\\pyscipopt\\scip.c /Fobuild\\temp.win-amd64-3.9\\Release\\src\\pyscipopt\\scip.obj\n",
      "    scip.c\n",
      "    src\\pyscipopt\\scip.c(633): fatal error C1083: Cannot open include file: 'scip/scip.h': No such file or directory\n",
      "    error: command 'C:\\\\Program Files (x86)\\\\Microsoft Visual Studio\\\\2017\\\\BuildTools\\\\VC\\\\Tools\\\\MSVC\\\\14.16.27023\\\\bin\\\\HostX86\\\\x64\\\\cl.exe' failed with exit code 2\n",
      "    ----------------------------------------\n",
      "ERROR: Command errored out with exit status 1: 'C:\\Users\\rotim\\anaconda3\\envs\\myenv\\python.exe' -u -c 'import sys, setuptools, tokenize; sys.argv[0] = '\"'\"'C:\\\\Users\\\\rotim\\\\AppData\\\\Local\\\\Temp\\\\pip-install-xbgj37h3\\\\pyscipopt_64326b8cd35d438cbb5253b7f8ee0cb7\\\\setup.py'\"'\"'; __file__='\"'\"'C:\\\\Users\\\\rotim\\\\AppData\\\\Local\\\\Temp\\\\pip-install-xbgj37h3\\\\pyscipopt_64326b8cd35d438cbb5253b7f8ee0cb7\\\\setup.py'\"'\"';f=getattr(tokenize, '\"'\"'open'\"'\"', open)(__file__);code=f.read().replace('\"'\"'\\r\\n'\"'\"', '\"'\"'\\n'\"'\"');f.close();exec(compile(code, __file__, '\"'\"'exec'\"'\"'))' install --record 'C:\\Users\\rotim\\AppData\\Local\\Temp\\pip-record-xx0vxn0h\\install-record.txt' --single-version-externally-managed --compile --install-headers 'C:\\Users\\rotim\\anaconda3\\envs\\myenv\\Include\\pyscipopt' Check the logs for full command output.\n"
     ]
    }
   ],
   "source": [
    "!pip install pyscipopt"
   ]
  },
  {
   "cell_type": "code",
   "execution_count": 1,
   "metadata": {},
   "outputs": [
    {
     "output_type": "error",
     "ename": "ModuleNotFoundError",
     "evalue": "No module named 'pyscipopt'",
     "traceback": [
      "\u001b[1;31m---------------------------------------------------------------------------\u001b[0m",
      "\u001b[1;31mModuleNotFoundError\u001b[0m                       Traceback (most recent call last)",
      "\u001b[1;32m<ipython-input-1-d8df0fb61f17>\u001b[0m in \u001b[0;36m<module>\u001b[1;34m\u001b[0m\n\u001b[0;32m      2\u001b[0m \u001b[1;31m# import multidict\u001b[0m\u001b[1;33m\u001b[0m\u001b[1;33m\u001b[0m\u001b[1;33m\u001b[0m\u001b[0m\n\u001b[0;32m      3\u001b[0m \u001b[1;33m\u001b[0m\u001b[0m\n\u001b[1;32m----> 4\u001b[1;33m \u001b[1;32mfrom\u001b[0m \u001b[0mpyscipopt\u001b[0m \u001b[1;32mimport\u001b[0m \u001b[0mModel\u001b[0m\u001b[1;33m,\u001b[0m \u001b[0mquicksum\u001b[0m\u001b[1;33m,\u001b[0m \u001b[0mmultidict\u001b[0m\u001b[1;33m\u001b[0m\u001b[1;33m\u001b[0m\u001b[0m\n\u001b[0m",
      "\u001b[1;31mModuleNotFoundError\u001b[0m: No module named 'pyscipopt'"
     ]
    }
   ],
   "source": [
    "# import scipy\n",
    "# import multidict\n",
    "\n",
    "from pyscipopt import Model, quicksum, multidict"
   ]
  },
  {
   "cell_type": "code",
   "execution_count": 2,
   "metadata": {},
   "outputs": [],
   "source": [
    "def flp(I,J,d,M,f,c):\n",
    "    model = Model(\"flp\")\n",
    "    x,y = {},{}\n",
    "    for j in J:\n",
    "        y[j] = model.addVar(vtype=\"B\", name=\"y(%s)\"%j)\n",
    "        for i in I:\n",
    "            x[i,j] = model.addVar(vtype=\"C\", name=\"x(%s,%s)\"%(i,j))\n",
    "    for i in I:\n",
    "        model.addCons(quicksum(x[i,j] for j in J) == d[i], \"Demand(%s)\"%i)\n",
    "    for j in M:\n",
    "        model.addCons(quicksum(x[i,j] for i in I) <= M[j]*y[j], \"Capacity(%s)\"%i)\n",
    "    for (i,j) in x:\n",
    "        model.addCons(x[i,j] <= d[i]*y[j], \"Strong(%s,%s)\"%(i,j))\n",
    "    model.setObjective(\n",
    "        quicksum(f[j]*y[j] for j in J) +\n",
    "        quicksum(c[i,j]*x[i,j] for i in I for j in J),\n",
    "        \"minimize\")\n",
    "    model.data = x,y\n",
    "    return model"
   ]
  },
  {
   "cell_type": "code",
   "execution_count": 5,
   "metadata": {},
   "outputs": [
    {
     "output_type": "error",
     "ename": "TypeError",
     "evalue": "'module' object is not callable",
     "traceback": [
      "\u001b[1;31m---------------------------------------------------------------------------\u001b[0m",
      "\u001b[1;31mTypeError\u001b[0m                                 Traceback (most recent call last)",
      "\u001b[1;32m<ipython-input-5-b32216b3f42a>\u001b[0m in \u001b[0;36m<module>\u001b[1;34m\u001b[0m\n\u001b[1;32m----> 1\u001b[1;33m \u001b[0mI\u001b[0m\u001b[1;33m,\u001b[0m \u001b[0md\u001b[0m \u001b[1;33m=\u001b[0m \u001b[0mmultidict\u001b[0m\u001b[1;33m(\u001b[0m\u001b[1;33m{\u001b[0m\u001b[1;36m1\u001b[0m\u001b[1;33m:\u001b[0m\u001b[1;36m80\u001b[0m\u001b[1;33m,\u001b[0m \u001b[1;36m2\u001b[0m\u001b[1;33m:\u001b[0m\u001b[1;36m270\u001b[0m\u001b[1;33m,\u001b[0m \u001b[1;36m3\u001b[0m\u001b[1;33m:\u001b[0m\u001b[1;36m250\u001b[0m\u001b[1;33m,\u001b[0m \u001b[1;36m4\u001b[0m\u001b[1;33m:\u001b[0m\u001b[1;36m160\u001b[0m\u001b[1;33m,\u001b[0m \u001b[1;36m5\u001b[0m\u001b[1;33m:\u001b[0m\u001b[1;36m180\u001b[0m\u001b[1;33m}\u001b[0m\u001b[1;33m)\u001b[0m\u001b[1;33m\u001b[0m\u001b[1;33m\u001b[0m\u001b[0m\n\u001b[0m\u001b[0;32m      2\u001b[0m \u001b[0mJ\u001b[0m\u001b[1;33m,\u001b[0m \u001b[0mM\u001b[0m\u001b[1;33m,\u001b[0m \u001b[0mf\u001b[0m \u001b[1;33m=\u001b[0m \u001b[0mmultidict\u001b[0m\u001b[1;33m(\u001b[0m\u001b[1;33m{\u001b[0m\u001b[1;36m1\u001b[0m\u001b[1;33m:\u001b[0m\u001b[1;33m[\u001b[0m\u001b[1;36m500\u001b[0m\u001b[1;33m,\u001b[0m\u001b[1;36m1000\u001b[0m\u001b[1;33m]\u001b[0m\u001b[1;33m,\u001b[0m \u001b[1;36m2\u001b[0m\u001b[1;33m:\u001b[0m\u001b[1;33m[\u001b[0m\u001b[1;36m500\u001b[0m\u001b[1;33m,\u001b[0m\u001b[1;36m1000\u001b[0m\u001b[1;33m]\u001b[0m\u001b[1;33m,\u001b[0m \u001b[1;36m3\u001b[0m\u001b[1;33m:\u001b[0m\u001b[1;33m[\u001b[0m\u001b[1;36m500\u001b[0m\u001b[1;33m,\u001b[0m\u001b[1;36m1000\u001b[0m\u001b[1;33m]\u001b[0m\u001b[1;33m}\u001b[0m\u001b[1;33m)\u001b[0m\u001b[1;33m\u001b[0m\u001b[1;33m\u001b[0m\u001b[0m\n\u001b[0;32m      3\u001b[0m c = {(1,1):4,  (1,2):6,  (1,3):9,\n\u001b[0;32m      4\u001b[0m      \u001b[1;33m(\u001b[0m\u001b[1;36m2\u001b[0m\u001b[1;33m,\u001b[0m\u001b[1;36m1\u001b[0m\u001b[1;33m)\u001b[0m\u001b[1;33m:\u001b[0m\u001b[1;36m5\u001b[0m\u001b[1;33m,\u001b[0m  \u001b[1;33m(\u001b[0m\u001b[1;36m2\u001b[0m\u001b[1;33m,\u001b[0m\u001b[1;36m2\u001b[0m\u001b[1;33m)\u001b[0m\u001b[1;33m:\u001b[0m\u001b[1;36m4\u001b[0m\u001b[1;33m,\u001b[0m  \u001b[1;33m(\u001b[0m\u001b[1;36m2\u001b[0m\u001b[1;33m,\u001b[0m\u001b[1;36m3\u001b[0m\u001b[1;33m)\u001b[0m\u001b[1;33m:\u001b[0m\u001b[1;36m7\u001b[0m\u001b[1;33m,\u001b[0m\u001b[1;33m\u001b[0m\u001b[1;33m\u001b[0m\u001b[0m\n\u001b[0;32m      5\u001b[0m      \u001b[1;33m(\u001b[0m\u001b[1;36m3\u001b[0m\u001b[1;33m,\u001b[0m\u001b[1;36m1\u001b[0m\u001b[1;33m)\u001b[0m\u001b[1;33m:\u001b[0m\u001b[1;36m6\u001b[0m\u001b[1;33m,\u001b[0m  \u001b[1;33m(\u001b[0m\u001b[1;36m3\u001b[0m\u001b[1;33m,\u001b[0m\u001b[1;36m2\u001b[0m\u001b[1;33m)\u001b[0m\u001b[1;33m:\u001b[0m\u001b[1;36m3\u001b[0m\u001b[1;33m,\u001b[0m  \u001b[1;33m(\u001b[0m\u001b[1;36m3\u001b[0m\u001b[1;33m,\u001b[0m\u001b[1;36m3\u001b[0m\u001b[1;33m)\u001b[0m\u001b[1;33m:\u001b[0m\u001b[1;36m4\u001b[0m\u001b[1;33m,\u001b[0m\u001b[1;33m\u001b[0m\u001b[1;33m\u001b[0m\u001b[0m\n",
      "\u001b[1;31mTypeError\u001b[0m: 'module' object is not callable"
     ]
    }
   ],
   "source": [
    " I, d = multidict({1:80, 2:270, 3:250, 4:160, 5:180})\n",
    " J, M, f = multidict({1:[500,1000], 2:[500,1000], 3:[500,1000]})\n",
    " c = {(1,1):4,  (1,2):6,  (1,3):9,\n",
    "      (2,1):5,  (2,2):4,  (2,3):7,\n",
    "      (3,1):6,  (3,2):3,  (3,3):4,\n",
    "      (4,1):8,  (4,2):5,  (4,3):3,\n",
    "      (5,1):10, (5,2):8,  (5,3):4,\n",
    "      }"
   ]
  },
  {
   "cell_type": "code",
   "execution_count": null,
   "metadata": {},
   "outputs": [],
   "source": []
  }
 ]
}