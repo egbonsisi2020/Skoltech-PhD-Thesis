{
 "metadata": {
  "language_info": {
   "codemirror_mode": {
    "name": "ipython",
    "version": 3
   },
   "file_extension": ".py",
   "mimetype": "text/x-python",
   "name": "python",
   "nbconvert_exporter": "python",
   "pygments_lexer": "ipython3",
   "version": "3.9.1-final"
  },
  "orig_nbformat": 2,
  "kernelspec": {
   "name": "python3",
   "display_name": "Python 3",
   "language": "python"
  }
 },
 "nbformat": 4,
 "nbformat_minor": 2,
 "cells": [
  {
   "cell_type": "code",
   "execution_count": 1,
   "metadata": {},
   "outputs": [],
   "source": [
    "import networkx as nx\n",
    "import numpy as np\n",
    "import pandas as pd\n",
    "from collections import defaultdict "
   ]
  },
  {
   "cell_type": "code",
   "execution_count": 4,
   "metadata": {},
   "outputs": [],
   "source": [
    "# Python program to find strongly connected components in a given \n",
    "# directed graph using Tarjan's algorithm (single DFS) \n",
    "#Complexity : O(V+E) \n",
    "   \n",
    "#This class represents an directed graph  \n",
    "# using adjacency list representation \n",
    "class Graph: \n",
    "   \n",
    "    def __init__(self,vertices): \n",
    "        #No. of vertices \n",
    "        self.V= vertices  \n",
    "          \n",
    "        # default dictionary to store graph \n",
    "        self.graph = defaultdict(list)  \n",
    "          \n",
    "        self.Time = 0\n",
    "   \n",
    "    # function to add an edge to graph \n",
    "    def addEdge(self,u,v): \n",
    "        self.graph[u].append(v) \n",
    "          \n",
    "   \n",
    "    '''A recursive function that find finds and prints strongly connected \n",
    "    components using DFS traversal \n",
    "    u --> The vertex to be visited next \n",
    "    disc[] --> Stores discovery times of visited vertices \n",
    "    low[] -- >> earliest visited vertex (the vertex with minimum \n",
    "                discovery time) that can be reached from subtree \n",
    "                rooted with current vertex \n",
    "     st -- >> To store all the connected ancestors (could be part \n",
    "           of SCC) \n",
    "     stackMember[] --> bit/index array for faster check whether \n",
    "                  a node is in stack \n",
    "    '''\n",
    "    def SCCUtil(self,u, low, disc, stackMember, st): \n",
    "  \n",
    "        # Initialize discovery time and low value \n",
    "        disc[u] = self.Time \n",
    "        low[u] = self.Time \n",
    "        self.Time += 1\n",
    "        stackMember[u] = True\n",
    "        st.append(u) \n",
    "  \n",
    "        # Go through all vertices adjacent to this \n",
    "        for v in self.graph[u]: \n",
    "              \n",
    "            # If v is not visited yet, then recur for it \n",
    "            if disc[v] == -1 : \n",
    "              \n",
    "                self.SCCUtil(v, low, disc, stackMember, st) \n",
    "  \n",
    "                # Check if the subtree rooted with v has a connection to \n",
    "                # one of the ancestors of u \n",
    "                # Case 1 (per above discussion on Disc and Low value) \n",
    "                low[u] = min(low[u], low[v]) \n",
    "                          \n",
    "            elif stackMember[v] == True:  \n",
    "  \n",
    "                '''Update low value of 'u' only if 'v' is still in stack \n",
    "                (i.e. it's a back edge, not cross edge). \n",
    "                Case 2 (per above discussion on Disc and Low value) '''\n",
    "                low[u] = min(low[u], disc[v]) \n",
    "  \n",
    "        # head node found, pop the stack and print an SCC \n",
    "        w = -1 #To store stack extracted vertices \n",
    "        if low[u] == disc[u]: \n",
    "            while w != u: \n",
    "                w = st.pop() \n",
    "                print (w), \n",
    "                stackMember[w] = False\n",
    "                  \n",
    "            print(\"\")\n",
    "              \n",
    "      \n",
    "  \n",
    "    #The function to do DFS traversal.  \n",
    "    # It uses recursive SCCUtil() \n",
    "    def SCC(self): \n",
    "   \n",
    "        # Mark all the vertices as not visited  \n",
    "        # and Initialize parent and visited,  \n",
    "        # and ap(articulation point) arrays \n",
    "        disc = [-1] * (self.V) \n",
    "        low = [-1] * (self.V) \n",
    "        stackMember = [False] * (self.V) \n",
    "        st =[] \n",
    "          \n",
    "  \n",
    "        # Call the recursive helper function  \n",
    "        # to find articulation points \n",
    "        # in DFS tree rooted with vertex 'i' \n",
    "        for i in range(self.V): \n",
    "            if disc[i] == -1: \n",
    "                self.SCCUtil(i, low, disc, stackMember, st) "
   ]
  },
  {
   "cell_type": "code",
   "execution_count": 5,
   "metadata": {},
   "outputs": [],
   "source": [
    "#adj_data = np.pd.read_csv(\"adj_data.txt\", delimiter=\",\", dtype=\"int,str\")\n",
    "adj_data = data = pd.read_csv(\"adj_wgtd.csv\", sep=\",\")\n",
    "edge_list = adj_data.values.tolist()"
   ]
  },
  {
   "cell_type": "code",
   "execution_count": 6,
   "metadata": {},
   "outputs": [],
   "source": [
    "edge_wo_weights = np.array(edge_list)[:, [0,1]]"
   ]
  },
  {
   "cell_type": "code",
   "execution_count": 8,
   "metadata": {},
   "outputs": [
    {
     "output_type": "stream",
     "name": "stdout",
     "text": [
      "\nArticulation points in first graph \n0\n\n3\n\n1\n\n2\n\n4\n\n5\n\n6\n\n7\n\n8\n\n9\n\n10\n\n11\n\n12\n\n13\n\n14\n\n15\n\n16\n\n17\n\n18\n\n19\n\n20\n\n21\n\n22\n\n23\n\n24\n\n25\n\n26\n\n27\n\n28\n\n29\n\n30\n\n31\n\n32\n\n33\n\n34\n\n35\n\n36\n\n37\n\n38\n\n39\n\n40\n\n41\n\n42\n\n43\n\n44\n\n45\n\n46\n\n47\n\n48\n\n49\n\n50\n\n51\n\n52\n\n53\n\n54\n\n55\n\n56\n\n57\n\n58\n\n59\n\n60\n\n61\n\n62\n\n63\n\n64\n\n65\n\n66\n\n67\n\n68\n\n69\n\n70\n\n71\n\n72\n\n73\n\n74\n\n75\n\n76\n\n77\n\n78\n\n79\n\n80\n\n81\n\n82\n\n83\n\n84\n\n85\n\n86\n\n87\n\n88\n\n89\n\n90\n\n91\n\n92\n\n93\n\n94\n\n95\n\n96\n\n97\n\n98\n\n99\n\n"
     ]
    }
   ],
   "source": [
    "g2 = Graph(len(edge_wo_weights))\n",
    "for i in range(len(edge_wo_weights)):\n",
    "    g2.addEdge(int(edge_wo_weights[i][0]), int(edge_wo_weights[1][1]))\n",
    "print (\"\\nArticulation points in first graph \")\n",
    "g2.SCC() "
   ]
  }
 ]
}